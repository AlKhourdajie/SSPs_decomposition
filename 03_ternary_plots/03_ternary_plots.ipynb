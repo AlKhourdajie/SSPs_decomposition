{
 "cells": [
  {
   "attachments": {},
   "cell_type": "markdown",
   "metadata": {},
   "source": [
    "### `Paper` Al Khourdajie, A., J. Skea & R. Green (Accepted). “Climate ambition, background scenario or the model? Attribution of the variance of energy-related indicators in global scenarios.” Energy and Climate Change\n",
    "### `Version` January 2024 \n",
    "### `Authors` Alaa Al Khourdajie, Jim Skea, Richard Green\n",
    "### Scripts and analysis prepared by: Alaa Al Khourdajie"
   ]
  },
  {
   "cell_type": "markdown",
   "metadata": {},
   "source": [
    "### Script: `Shapley-Owen Regression Analysis and Ternary Plots`\n",
    "Code to implement the Shapley-Owen methodolgy and generating the results. \n",
    "\n",
    "Figures provided here are the Ternary plots."
   ]
  },
  {
   "attachments": {},
   "cell_type": "markdown",
   "metadata": {},
   "source": [
    "1. Import libraries and load the data"
   ]
  },
  {
   "cell_type": "code",
   "execution_count": 1,
   "metadata": {},
   "outputs": [],
   "source": [
    "# Import libraries\n",
    "import pandas as pd\n",
    "import numpy as np\n",
    "\n",
    "import statsmodels.api as sm \n",
    "import patsy\n",
    "from patsy import dmatrices\n",
    "import re\n",
    "\n",
    "import seaborn as sns\n",
    "import matplotlib.pyplot as plt\n",
    "import pylab\n",
    "import plotly.express as px\n",
    "import plotly.graph_objects as go\n",
    "%matplotlib inline \n",
    "\n",
    "import warnings"
   ]
  },
  {
   "cell_type": "code",
   "execution_count": 2,
   "metadata": {},
   "outputs": [],
   "source": [
    "# Load the prepared SSPs data\n",
    "ssps_df = pd.read_csv(\"../05_data/df_ssps_cleaned.csv\")"
   ]
  },
  {
   "cell_type": "code",
   "execution_count": 3,
   "metadata": {},
   "outputs": [
    {
     "data": {
      "text/html": [
       "<div>\n",
       "<style scoped>\n",
       "    .dataframe tbody tr th:only-of-type {\n",
       "        vertical-align: middle;\n",
       "    }\n",
       "\n",
       "    .dataframe tbody tr th {\n",
       "        vertical-align: top;\n",
       "    }\n",
       "\n",
       "    .dataframe thead th {\n",
       "        text-align: right;\n",
       "    }\n",
       "</style>\n",
       "<table border=\"1\" class=\"dataframe\">\n",
       "  <thead>\n",
       "    <tr style=\"text-align: right;\">\n",
       "      <th></th>\n",
       "      <th>Unnamed: 0</th>\n",
       "      <th>year</th>\n",
       "      <th>Primary_Energy</th>\n",
       "      <th>Primary_Energy_Wind</th>\n",
       "      <th>Primary_Energy_Solar</th>\n",
       "      <th>Primary_Energy_Biomass</th>\n",
       "      <th>Primary_Energy_Biomass_w_CCS</th>\n",
       "      <th>Primary_Energy_Hydro</th>\n",
       "      <th>Primary_Energy_Nuclear</th>\n",
       "      <th>Primary_Energy_Geothermal</th>\n",
       "      <th>...</th>\n",
       "      <th>Final_Energy_Gases</th>\n",
       "      <th>Final_Energy_Heat</th>\n",
       "      <th>Final_Energy_Liquids</th>\n",
       "      <th>Final_Energy_Solids</th>\n",
       "      <th>Final_Energy_Solar</th>\n",
       "      <th>Final_Energy_Electrification</th>\n",
       "      <th>Price_Carbon</th>\n",
       "      <th>GDP_PPP</th>\n",
       "      <th>cumulative_emissions</th>\n",
       "      <th>squared_cumulative_emissions</th>\n",
       "    </tr>\n",
       "  </thead>\n",
       "  <tbody>\n",
       "    <tr>\n",
       "      <th>count</th>\n",
       "      <td>1270.00000</td>\n",
       "      <td>1270.000000</td>\n",
       "      <td>1270.000000</td>\n",
       "      <td>1270.000000</td>\n",
       "      <td>1270.000000</td>\n",
       "      <td>1270.000000</td>\n",
       "      <td>1200.000000</td>\n",
       "      <td>1270.000000</td>\n",
       "      <td>1270.000000</td>\n",
       "      <td>790.000000</td>\n",
       "      <td>...</td>\n",
       "      <td>1270.000000</td>\n",
       "      <td>1020.000000</td>\n",
       "      <td>1270.000000</td>\n",
       "      <td>1270.000000</td>\n",
       "      <td>630.000000</td>\n",
       "      <td>1270.000000</td>\n",
       "      <td>1.150000e+03</td>\n",
       "      <td>1270.000000</td>\n",
       "      <td>1270.000000</td>\n",
       "      <td>1.270000e+03</td>\n",
       "    </tr>\n",
       "    <tr>\n",
       "      <th>mean</th>\n",
       "      <td>634.50000</td>\n",
       "      <td>2055.000000</td>\n",
       "      <td>754.604110</td>\n",
       "      <td>45.502617</td>\n",
       "      <td>39.094701</td>\n",
       "      <td>110.294196</td>\n",
       "      <td>43.040660</td>\n",
       "      <td>21.047519</td>\n",
       "      <td>34.301396</td>\n",
       "      <td>3.329422</td>\n",
       "      <td>...</td>\n",
       "      <td>82.260698</td>\n",
       "      <td>15.837969</td>\n",
       "      <td>188.541961</td>\n",
       "      <td>67.103284</td>\n",
       "      <td>28.697332</td>\n",
       "      <td>0.345946</td>\n",
       "      <td>4.421554e-01</td>\n",
       "      <td>294.899930</td>\n",
       "      <td>2928.676941</td>\n",
       "      <td>1.175128e+07</td>\n",
       "    </tr>\n",
       "    <tr>\n",
       "      <th>std</th>\n",
       "      <td>366.76173</td>\n",
       "      <td>28.734128</td>\n",
       "      <td>233.157638</td>\n",
       "      <td>52.761159</td>\n",
       "      <td>52.287029</td>\n",
       "      <td>75.269297</td>\n",
       "      <td>73.222249</td>\n",
       "      <td>6.991660</td>\n",
       "      <td>37.966531</td>\n",
       "      <td>6.717801</td>\n",
       "      <td>...</td>\n",
       "      <td>43.096969</td>\n",
       "      <td>12.107126</td>\n",
       "      <td>76.567148</td>\n",
       "      <td>34.213986</td>\n",
       "      <td>26.467908</td>\n",
       "      <td>0.144403</td>\n",
       "      <td>1.739960e+00</td>\n",
       "      <td>202.574095</td>\n",
       "      <td>1782.311061</td>\n",
       "      <td>1.358800e+07</td>\n",
       "    </tr>\n",
       "    <tr>\n",
       "      <th>min</th>\n",
       "      <td>0.00000</td>\n",
       "      <td>2010.000000</td>\n",
       "      <td>320.039460</td>\n",
       "      <td>0.438500</td>\n",
       "      <td>0.091900</td>\n",
       "      <td>30.491735</td>\n",
       "      <td>0.000000</td>\n",
       "      <td>8.862000</td>\n",
       "      <td>0.000300</td>\n",
       "      <td>0.010000</td>\n",
       "      <td>...</td>\n",
       "      <td>1.006200</td>\n",
       "      <td>0.007765</td>\n",
       "      <td>6.100989</td>\n",
       "      <td>0.311200</td>\n",
       "      <td>0.121414</td>\n",
       "      <td>0.166853</td>\n",
       "      <td>0.000000e+00</td>\n",
       "      <td>64.808103</td>\n",
       "      <td>126.585175</td>\n",
       "      <td>1.602381e+04</td>\n",
       "    </tr>\n",
       "    <tr>\n",
       "      <th>25%</th>\n",
       "      <td>317.25000</td>\n",
       "      <td>2030.000000</td>\n",
       "      <td>586.795578</td>\n",
       "      <td>8.530225</td>\n",
       "      <td>3.763900</td>\n",
       "      <td>58.085600</td>\n",
       "      <td>0.000000</td>\n",
       "      <td>15.854228</td>\n",
       "      <td>12.072246</td>\n",
       "      <td>0.360550</td>\n",
       "      <td>...</td>\n",
       "      <td>54.316913</td>\n",
       "      <td>7.722811</td>\n",
       "      <td>145.006528</td>\n",
       "      <td>42.549043</td>\n",
       "      <td>6.075682</td>\n",
       "      <td>0.234879</td>\n",
       "      <td>1.303597e-22</td>\n",
       "      <td>144.812906</td>\n",
       "      <td>1483.215644</td>\n",
       "      <td>2.199929e+06</td>\n",
       "    </tr>\n",
       "    <tr>\n",
       "      <th>50%</th>\n",
       "      <td>634.50000</td>\n",
       "      <td>2055.000000</td>\n",
       "      <td>710.327984</td>\n",
       "      <td>26.696415</td>\n",
       "      <td>22.624201</td>\n",
       "      <td>84.666403</td>\n",
       "      <td>2.952582</td>\n",
       "      <td>20.764100</td>\n",
       "      <td>21.396979</td>\n",
       "      <td>0.845350</td>\n",
       "      <td>...</td>\n",
       "      <td>75.042744</td>\n",
       "      <td>12.245000</td>\n",
       "      <td>181.865958</td>\n",
       "      <td>65.556269</td>\n",
       "      <td>23.980082</td>\n",
       "      <td>0.307968</td>\n",
       "      <td>4.066640e-02</td>\n",
       "      <td>247.254192</td>\n",
       "      <td>2750.123960</td>\n",
       "      <td>7.563182e+06</td>\n",
       "    </tr>\n",
       "    <tr>\n",
       "      <th>75%</th>\n",
       "      <td>951.75000</td>\n",
       "      <td>2080.000000</td>\n",
       "      <td>858.498625</td>\n",
       "      <td>61.327165</td>\n",
       "      <td>52.348618</td>\n",
       "      <td>141.624925</td>\n",
       "      <td>59.437624</td>\n",
       "      <td>24.599700</td>\n",
       "      <td>39.794963</td>\n",
       "      <td>3.896118</td>\n",
       "      <td>...</td>\n",
       "      <td>102.298580</td>\n",
       "      <td>21.769775</td>\n",
       "      <td>229.511667</td>\n",
       "      <td>90.199245</td>\n",
       "      <td>42.789487</td>\n",
       "      <td>0.429348</td>\n",
       "      <td>2.461900e-01</td>\n",
       "      <td>397.993530</td>\n",
       "      <td>4103.959651</td>\n",
       "      <td>1.684248e+07</td>\n",
       "    </tr>\n",
       "    <tr>\n",
       "      <th>max</th>\n",
       "      <td>1269.00000</td>\n",
       "      <td>2100.000000</td>\n",
       "      <td>1824.000000</td>\n",
       "      <td>388.534660</td>\n",
       "      <td>395.800000</td>\n",
       "      <td>477.000000</td>\n",
       "      <td>417.200000</td>\n",
       "      <td>47.630000</td>\n",
       "      <td>251.698000</td>\n",
       "      <td>55.470000</td>\n",
       "      <td>...</td>\n",
       "      <td>281.913000</td>\n",
       "      <td>84.123000</td>\n",
       "      <td>586.378096</td>\n",
       "      <td>243.141000</td>\n",
       "      <td>163.365636</td>\n",
       "      <td>0.902031</td>\n",
       "      <td>3.185248e+01</td>\n",
       "      <td>1034.177000</td>\n",
       "      <td>8236.910903</td>\n",
       "      <td>6.784670e+07</td>\n",
       "    </tr>\n",
       "  </tbody>\n",
       "</table>\n",
       "<p>8 rows × 47 columns</p>\n",
       "</div>"
      ],
      "text/plain": [
       "       Unnamed: 0         year  Primary_Energy  Primary_Energy_Wind   \n",
       "count  1270.00000  1270.000000     1270.000000          1270.000000  \\\n",
       "mean    634.50000  2055.000000      754.604110            45.502617   \n",
       "std     366.76173    28.734128      233.157638            52.761159   \n",
       "min       0.00000  2010.000000      320.039460             0.438500   \n",
       "25%     317.25000  2030.000000      586.795578             8.530225   \n",
       "50%     634.50000  2055.000000      710.327984            26.696415   \n",
       "75%     951.75000  2080.000000      858.498625            61.327165   \n",
       "max    1269.00000  2100.000000     1824.000000           388.534660   \n",
       "\n",
       "       Primary_Energy_Solar  Primary_Energy_Biomass   \n",
       "count           1270.000000             1270.000000  \\\n",
       "mean              39.094701              110.294196   \n",
       "std               52.287029               75.269297   \n",
       "min                0.091900               30.491735   \n",
       "25%                3.763900               58.085600   \n",
       "50%               22.624201               84.666403   \n",
       "75%               52.348618              141.624925   \n",
       "max              395.800000              477.000000   \n",
       "\n",
       "       Primary_Energy_Biomass_w_CCS  Primary_Energy_Hydro   \n",
       "count                   1200.000000           1270.000000  \\\n",
       "mean                      43.040660             21.047519   \n",
       "std                       73.222249              6.991660   \n",
       "min                        0.000000              8.862000   \n",
       "25%                        0.000000             15.854228   \n",
       "50%                        2.952582             20.764100   \n",
       "75%                       59.437624             24.599700   \n",
       "max                      417.200000             47.630000   \n",
       "\n",
       "       Primary_Energy_Nuclear  Primary_Energy_Geothermal  ...   \n",
       "count             1270.000000                 790.000000  ...  \\\n",
       "mean                34.301396                   3.329422  ...   \n",
       "std                 37.966531                   6.717801  ...   \n",
       "min                  0.000300                   0.010000  ...   \n",
       "25%                 12.072246                   0.360550  ...   \n",
       "50%                 21.396979                   0.845350  ...   \n",
       "75%                 39.794963                   3.896118  ...   \n",
       "max                251.698000                  55.470000  ...   \n",
       "\n",
       "       Final_Energy_Gases  Final_Energy_Heat  Final_Energy_Liquids   \n",
       "count         1270.000000        1020.000000           1270.000000  \\\n",
       "mean            82.260698          15.837969            188.541961   \n",
       "std             43.096969          12.107126             76.567148   \n",
       "min              1.006200           0.007765              6.100989   \n",
       "25%             54.316913           7.722811            145.006528   \n",
       "50%             75.042744          12.245000            181.865958   \n",
       "75%            102.298580          21.769775            229.511667   \n",
       "max            281.913000          84.123000            586.378096   \n",
       "\n",
       "       Final_Energy_Solids  Final_Energy_Solar  Final_Energy_Electrification   \n",
       "count          1270.000000          630.000000                   1270.000000  \\\n",
       "mean             67.103284           28.697332                      0.345946   \n",
       "std              34.213986           26.467908                      0.144403   \n",
       "min               0.311200            0.121414                      0.166853   \n",
       "25%              42.549043            6.075682                      0.234879   \n",
       "50%              65.556269           23.980082                      0.307968   \n",
       "75%              90.199245           42.789487                      0.429348   \n",
       "max             243.141000          163.365636                      0.902031   \n",
       "\n",
       "       Price_Carbon      GDP_PPP  cumulative_emissions   \n",
       "count  1.150000e+03  1270.000000           1270.000000  \\\n",
       "mean   4.421554e-01   294.899930           2928.676941   \n",
       "std    1.739960e+00   202.574095           1782.311061   \n",
       "min    0.000000e+00    64.808103            126.585175   \n",
       "25%    1.303597e-22   144.812906           1483.215644   \n",
       "50%    4.066640e-02   247.254192           2750.123960   \n",
       "75%    2.461900e-01   397.993530           4103.959651   \n",
       "max    3.185248e+01  1034.177000           8236.910903   \n",
       "\n",
       "       squared_cumulative_emissions  \n",
       "count                  1.270000e+03  \n",
       "mean                   1.175128e+07  \n",
       "std                    1.358800e+07  \n",
       "min                    1.602381e+04  \n",
       "25%                    2.199929e+06  \n",
       "50%                    7.563182e+06  \n",
       "75%                    1.684248e+07  \n",
       "max                    6.784670e+07  \n",
       "\n",
       "[8 rows x 47 columns]"
      ]
     },
     "execution_count": 3,
     "metadata": {},
     "output_type": "execute_result"
    }
   ],
   "source": [
    "# dataframe describe\n",
    "ssps_df.describe()"
   ]
  },
  {
   "cell_type": "code",
   "execution_count": 4,
   "metadata": {},
   "outputs": [
    {
     "name": "stdout",
     "output_type": "stream",
     "text": [
      "<class 'pandas.core.frame.DataFrame'>\n",
      "RangeIndex: 1270 entries, 0 to 1269\n",
      "Data columns (total 51 columns):\n",
      " #   Column                                            Non-Null Count  Dtype  \n",
      "---  ------                                            --------------  -----  \n",
      " 0   Unnamed: 0                                        1270 non-null   int64  \n",
      " 1   model                                             1270 non-null   object \n",
      " 2   scenario                                          1270 non-null   object \n",
      " 3   year                                              1270 non-null   int64  \n",
      " 4   rcp                                               1270 non-null   object \n",
      " 5   mod_scen_combined                                 1270 non-null   object \n",
      " 6   Primary_Energy                                    1270 non-null   float64\n",
      " 7   Primary_Energy_Wind                               1270 non-null   float64\n",
      " 8   Primary_Energy_Solar                              1270 non-null   float64\n",
      " 9   Primary_Energy_Biomass                            1270 non-null   float64\n",
      " 10  Primary_Energy_Biomass_w_CCS                      1200 non-null   float64\n",
      " 11  Primary_Energy_Hydro                              1270 non-null   float64\n",
      " 12  Primary_Energy_Nuclear                            1270 non-null   float64\n",
      " 13  Primary_Energy_Geothermal                         790 non-null    float64\n",
      " 14  Primary_Energy_Fossil                             1270 non-null   float64\n",
      " 15  Primary_Energy_Fossil_w_CCS                       1210 non-null   float64\n",
      " 16  Primary_Energy_Fossil_wo_CCS                      1270 non-null   float64\n",
      " 17  Primary_Energy_Coal                               1270 non-null   float64\n",
      " 18  Primary_Energy_Coal_w_CCS                         1210 non-null   float64\n",
      " 19  Primary_Energy_Coal_wo_CCS                        1270 non-null   float64\n",
      " 20  Primary_Energy_Oil                                1270 non-null   float64\n",
      " 21  Primary_Energy_Oil_w_CCS                          630 non-null    float64\n",
      " 22  Primary_Energy_Oil_wo_CCS                         1270 non-null   float64\n",
      " 23  Primary_Energy_Gas                                1270 non-null   float64\n",
      " 24  Primary_Energy_Gas_w_CCS                          1200 non-null   float64\n",
      " 25  Primary_Energy_Gas_wo_CCS                         1270 non-null   float64\n",
      " 26  Primary_Energy_Non_Biomass_Renewables             1270 non-null   float64\n",
      " 27  Emissions_CO2                                     1270 non-null   float64\n",
      " 28  Emissions_CH4                                     1270 non-null   float64\n",
      " 29  Emissions_N2O                                     1270 non-null   float64\n",
      " 30  Emissions_Kyoto_Gases                             1270 non-null   float64\n",
      " 31  Emissions_CO2_Carbon_Capture_and_Storage          1210 non-null   float64\n",
      " 32  Emissions_CO2_Carbon_Capture_and_Storage_Biomass  1200 non-null   float64\n",
      " 33  Emissions_CO2_Fossil_Fuels_and_Industry           1270 non-null   float64\n",
      " 34  Emissions_CO2_Land_Use                            1270 non-null   float64\n",
      " 35  Final_Energy                                      1270 non-null   float64\n",
      " 36  Final_Energy_Electricity                          1270 non-null   float64\n",
      " 37  Final_Energy_Hydrogen                             780 non-null    float64\n",
      " 38  Final_Energy_Industry                             850 non-null    float64\n",
      " 39  Final_Energy_Residential_and_Commercial           850 non-null    float64\n",
      " 40  Final_Energy_Transportation                       1270 non-null   float64\n",
      " 41  Final_Energy_Gases                                1270 non-null   float64\n",
      " 42  Final_Energy_Heat                                 1020 non-null   float64\n",
      " 43  Final_Energy_Liquids                              1270 non-null   float64\n",
      " 44  Final_Energy_Solids                               1270 non-null   float64\n",
      " 45  Final_Energy_Solar                                630 non-null    float64\n",
      " 46  Final_Energy_Electrification                      1270 non-null   float64\n",
      " 47  Price_Carbon                                      1150 non-null   float64\n",
      " 48  GDP_PPP                                           1270 non-null   float64\n",
      " 49  cumulative_emissions                              1270 non-null   float64\n",
      " 50  squared_cumulative_emissions                      1270 non-null   float64\n",
      "dtypes: float64(45), int64(2), object(4)\n",
      "memory usage: 506.1+ KB\n"
     ]
    }
   ],
   "source": [
    "# Data types of the columns in the dataframe\n",
    "ssps_df.info()"
   ]
  },
  {
   "cell_type": "code",
   "execution_count": 5,
   "metadata": {},
   "outputs": [
    {
     "data": {
      "text/plain": [
       "['SSP1', 'SSP2', 'SSP3', 'SSP4', 'SSP5']\n",
       "Categories (5, object): ['SSP2', 'SSP1', 'SSP3', 'SSP4', 'SSP5']"
      ]
     },
     "execution_count": 5,
     "metadata": {},
     "output_type": "execute_result"
    }
   ],
   "source": [
    "# Reorder SSPs to start with SSP2 such that the combination of AIM/CGE (model) + SSP2 (scenario) \n",
    "# is used as the constant in the regressions, as per the analysis of this paper\n",
    "ssps_df['scenario'] = pd.Categorical(ssps_df['scenario'], ['SSP2', 'SSP1', 'SSP3', 'SSP4', 'SSP5'])\n",
    "ssps_df.scenario.unique()"
   ]
  },
  {
   "cell_type": "code",
   "execution_count": 6,
   "metadata": {},
   "outputs": [
    {
     "data": {
      "text/plain": [
       "Index(['Unnamed: 0', 'model', 'scenario', 'year', 'rcp', 'mod_scen_combined',\n",
       "       'Primary_Energy', 'Primary_Energy_Wind', 'Primary_Energy_Solar',\n",
       "       'Primary_Energy_Biomass', 'Primary_Energy_Biomass_w_CCS',\n",
       "       'Primary_Energy_Hydro', 'Primary_Energy_Nuclear',\n",
       "       'Primary_Energy_Geothermal', 'Primary_Energy_Fossil',\n",
       "       'Primary_Energy_Fossil_w_CCS', 'Primary_Energy_Fossil_wo_CCS',\n",
       "       'Primary_Energy_Coal', 'Primary_Energy_Coal_w_CCS',\n",
       "       'Primary_Energy_Coal_wo_CCS', 'Primary_Energy_Oil',\n",
       "       'Primary_Energy_Oil_w_CCS', 'Primary_Energy_Oil_wo_CCS',\n",
       "       'Primary_Energy_Gas', 'Primary_Energy_Gas_w_CCS',\n",
       "       'Primary_Energy_Gas_wo_CCS', 'Primary_Energy_Non_Biomass_Renewables',\n",
       "       'Emissions_CO2', 'Emissions_CH4', 'Emissions_N2O',\n",
       "       'Emissions_Kyoto_Gases', 'Emissions_CO2_Carbon_Capture_and_Storage',\n",
       "       'Emissions_CO2_Carbon_Capture_and_Storage_Biomass',\n",
       "       'Emissions_CO2_Fossil_Fuels_and_Industry', 'Emissions_CO2_Land_Use',\n",
       "       'Final_Energy', 'Final_Energy_Electricity', 'Final_Energy_Hydrogen',\n",
       "       'Final_Energy_Industry', 'Final_Energy_Residential_and_Commercial',\n",
       "       'Final_Energy_Transportation', 'Final_Energy_Gases',\n",
       "       'Final_Energy_Heat', 'Final_Energy_Liquids', 'Final_Energy_Solids',\n",
       "       'Final_Energy_Solar', 'Final_Energy_Electrification', 'Price_Carbon',\n",
       "       'GDP_PPP', 'cumulative_emissions', 'squared_cumulative_emissions'],\n",
       "      dtype='object')"
      ]
     },
     "execution_count": 6,
     "metadata": {},
     "output_type": "execute_result"
    }
   ],
   "source": [
    "# List of all columns\n",
    "ssps_df.columns.unique()"
   ]
  },
  {
   "cell_type": "code",
   "execution_count": 7,
   "metadata": {},
   "outputs": [],
   "source": [
    "# List of dependent variable that are of interest for this analysis\n",
    "variables = [\n",
    "       # Primary Energy      \n",
    "       'Primary_Energy', \n",
    "       'Primary_Energy_Wind',\n",
    "       'Primary_Energy_Solar', \n",
    "       'Primary_Energy_Biomass',\n",
    "       'Primary_Energy_Biomass_w_CCS', \n",
    "       'Primary_Energy_Hydro',\n",
    "       'Primary_Energy_Nuclear', \n",
    "       'Primary_Energy_Geothermal', \n",
    "       'Primary_Energy_Non_Biomass_Renewables',\n",
    "       'Primary_Energy_Fossil',\n",
    "       \"Primary_Energy_Fossil_w_CCS\",\n",
    "       \"Primary_Energy_Fossil_wo_CCS\",\n",
    "       'Primary_Energy_Coal',\n",
    "       'Primary_Energy_Coal_w_CCS',\n",
    "       'Primary_Energy_Coal_wo_CCS',\n",
    "       'Primary_Energy_Oil',\n",
    "       'Primary_Energy_Oil_w_CCS',\n",
    "       'Primary_Energy_Oil_wo_CCS',\n",
    "       'Primary_Energy_Gas',\n",
    "       \"Primary_Energy_Gas_w_CCS\",\n",
    "       \"Primary_Energy_Gas_wo_CCS\",\n",
    "\n",
    "       # Final Energy\n",
    "       'Final_Energy', \n",
    "       'Final_Energy_Electricity', \n",
    "       'Final_Energy_Gases',\n",
    "       'Final_Energy_Heat', \n",
    "       'Final_Energy_Liquids', \n",
    "       'Final_Energy_Solids',\n",
    "       'Final_Energy_Hydrogen', \n",
    "       'Final_Energy_Solar', \n",
    "       'Final_Energy_Industry',\n",
    "       'Final_Energy_Residential_and_Commercial',\n",
    "       'Final_Energy_Transportation',\n",
    "       'Final_Energy_Electrification',\n",
    "       \n",
    "       # Emissions\n",
    "       'Emissions_CO2',\n",
    "       'Emissions_CH4',\n",
    "       'Emissions_N2O', \n",
    "       'Emissions_Kyoto_Gases',\n",
    "       'Emissions_CO2_Carbon_Capture_and_Storage',\n",
    "       'Emissions_CO2_Carbon_Capture_and_Storage_Biomass',\n",
    "       'Emissions_CO2_Fossil_Fuels_and_Industry', \n",
    "       'Emissions_CO2_Land_Use',\n",
    "\n",
    "       # Economic variables \n",
    "       'Price_Carbon',\n",
    "       'GDP_PPP',\n",
    "        \n",
    "       ]"
   ]
  },
  {
   "attachments": {},
   "cell_type": "markdown",
   "metadata": {},
   "source": [
    "2) Methodology: Shapley-Owen Value Function"
   ]
  },
  {
   "cell_type": "code",
   "execution_count": 8,
   "metadata": {},
   "outputs": [],
   "source": [
    "### --------------\n",
    "# Shapley-Owen Value Function\n",
    "### --------------\n",
    "\n",
    "### -------------- Overview of the Shapley-Owen decomposition function --------------\n",
    "# The function below is the Shapley-Owen decomposition function.\n",
    "# For background on the Shapley-Owen decomposition, see section 2.3 and Appendix A of the paper.\n",
    "# The function also undertakes additional appraoches to the Shapley-Owen decomposition, as described in Appendix E of the paper.\n",
    "# --------------\n",
    "\n",
    "# -------------- Structure of the code --------------\n",
    "# The function below is structured as follows:\n",
    "# BLOCK A: Descriptive Stats\n",
    "# BLOCK B: Regressions\n",
    "# BLOCK C: Preparation of columns for input in the final table\n",
    "# BLOCK D: Preparation of columns for plotting\n",
    "# BLOCK E: Build the table that contains each step of the calculations above\n",
    "# --------------\n",
    "\n",
    "# -------------- Inputs --------------\n",
    "# The function below takes two inputs:\n",
    "# 1) variable: the dependent variables\n",
    "# 2) data: the dataframe prepared in script 01\n",
    "# --------------\n",
    "\n",
    "# -------------- Code of the Function --------------\n",
    "def shapley_owen_decomposition (variable, data):\n",
    "    # An empty table to fill with the calculations later on\n",
    "    df=[]\n",
    "    # An array of the decadal years 2020-2100, for the regression loop \n",
    "    years = data.year[1:10].unique()\n",
    "    for i in years:\n",
    "        # BLOCK A: Descriptive Stats\n",
    "        # Generate the basic descriptive stats for the dependent variable for each decadal year\n",
    "        avg=np.average(data[variable].loc[(data['year'] == i)])\n",
    "        median=np.median(data[variable].loc[(data['year'] == i)])\n",
    "        StDev=np.std(data[variable].loc[(data['year'] == i)])\n",
    "        # Generate the 90th percentile for the dependent variable for each decadal year\n",
    "        percentile_90=np.percentile(data[variable].loc[(data['year'] == i)], 90)\n",
    "        # Generate the 75th percentile for the dependent variable for each decadal year\n",
    "        percentile_75=np.percentile(data[variable].loc[(data['year'] == i)], 75)\n",
    "\n",
    "        # BLOCK B: Regressions \n",
    "        # 1) Univariate regression: Ambition\n",
    "        # Prepare the regression variables\n",
    "        dmatrices_Amb = str(variable + ' ~ cumulative_emissions + squared_cumulative_emissions')\n",
    "        y, X = dmatrices(\n",
    "            dmatrices_Amb,\n",
    "            data=data.loc[(data['year'] == i)],\n",
    "            return_type='dataframe'\n",
    "            )\n",
    "        # Describe the OLS regression model (dependent and explanatory vars)\n",
    "        model = sm.OLS(y, X)\n",
    "        # Fit the regression model, to compute R2 value later\n",
    "        Amb_results = model.fit()\n",
    "        # 1a) Univariate RCP regression: RCP [This is an additional regression to the one in the paper. RCP regressions are included in Appendix E]\n",
    "        # Prepare the regression variables\n",
    "        dmatrices_Amb_rcp = str(variable + ' ~ rcp')\n",
    "        y, X = dmatrices(\n",
    "            dmatrices_Amb_rcp,\n",
    "            data=data.loc[(data['year'] == i)],\n",
    "            return_type='dataframe'\n",
    "            )\n",
    "        # Describe the OLS regression model (dependent and explanatory vars)\n",
    "        model = sm.OLS(y, X)\n",
    "        # Fit the regression model, to compute R2 value later\n",
    "        Amb_rcp_results = model.fit()\n",
    "        # 2) Univariate regression: Scenario\n",
    "        # Prepare the regression variables\n",
    "        dmatrices_Scen = str(variable + ' ~ scenario')\n",
    "        y, X = dmatrices(\n",
    "            dmatrices_Scen,\n",
    "            data=data.loc[(data['year'] == i)],\n",
    "            return_type='dataframe'\n",
    "            )\n",
    "        # Describe the OLS regression model (dependent and explanatory vars)\n",
    "        model = sm.OLS(y, X)\n",
    "        # Fit the regression model, to compute R2 value later\n",
    "        Scen_results = model.fit()\n",
    "        # 3) Univariate regression: Model\n",
    "        # Prepare the regression variables\n",
    "        dmatrices_Mod = str(variable + ' ~ model')\n",
    "        y, X = dmatrices(\n",
    "            dmatrices_Mod,\n",
    "            data=data.loc[(data['year'] == i)],\n",
    "            return_type='dataframe'\n",
    "            )\n",
    "        # Describe the OLS regression model (dependent and explanatory vars)\n",
    "        model = sm.OLS(y, X)\n",
    "        # Fit the regression model, to compute R2 value later\n",
    "        Mod_results = model.fit()\n",
    "        # 4) Multivariate regression: Climate ambition and scenario\n",
    "        # Prepare the regression variables\n",
    "        dmatrices_Amb_Scen = str(variable + ' ~ cumulative_emissions + squared_cumulative_emissions + scenario')\n",
    "        y, X = dmatrices(\n",
    "            dmatrices_Amb_Scen,\n",
    "            data=data.loc[(data['year'] == i)],\n",
    "            return_type='dataframe'\n",
    "            )\n",
    "        # Describe the OLS regression model (dependent and explanatory vars)\n",
    "        model = sm.OLS(y, X)\n",
    "        # Fit the regression model, to compute R2 value later\n",
    "        Amb_Scen_results = model.fit()\n",
    "        # 4a) Multivariate RCP regression: rcp and scenario\n",
    "        # Prepare the regression variables\n",
    "        dmatrices_Amb_rcp_Scen = str(variable + ' ~ rcp + scenario')\n",
    "        y, X = dmatrices(\n",
    "            dmatrices_Amb_rcp_Scen,\n",
    "            data=data.loc[(data['year'] == i)],\n",
    "            return_type='dataframe'\n",
    "            )\n",
    "        # Describe the OLS regression model (dependent and explanatory vars)\n",
    "        model = sm.OLS(y, X)\n",
    "        # Fit the regression model, to compute R2 value later\n",
    "        Amb_rcp_Scen_results = model.fit()\n",
    "        # 5) Multivariate regression: Climate ambition and model\n",
    "        # Prepare the regression variables\n",
    "        dmatrices_Amb_Mod = str(variable + ' ~ cumulative_emissions + squared_cumulative_emissions + model')\n",
    "        y, X = dmatrices(\n",
    "            dmatrices_Amb_Mod,\n",
    "            data=data.loc[(data['year'] == i)],\n",
    "            return_type='dataframe'\n",
    "            )\n",
    "        # Describe the OLS regression model (dependent and explanatory vars)\n",
    "        model = sm.OLS(y, X)\n",
    "        # Fit the regression model, to compute R2 value later\n",
    "        Amb_Mod_results = model.fit()\n",
    "        # 5a) Multivariate RCP regression: Climate ambition and model\n",
    "        # Prepare the regression variables\n",
    "        dmatrices_Amb_rcp_Mod = str(variable + ' ~ rcp + model')\n",
    "        y, X = dmatrices(\n",
    "            dmatrices_Amb_rcp_Mod,\n",
    "            data=data.loc[(data['year'] == i)],\n",
    "            return_type='dataframe'\n",
    "            )\n",
    "        # Describe the OLS regression model (dependent and explanatory vars)\n",
    "        model = sm.OLS(y, X)\n",
    "        # Fit the regression model, to compute R2 value later\n",
    "        Amb_rcp_Mod_results = model.fit()\n",
    "        # 6) Multivariate regression: Scenario and model\n",
    "        # Prepare the regression variables\n",
    "        dmatrices_Scen_Mod = str(variable + ' ~ scenario + model')\n",
    "        y, X = dmatrices(\n",
    "            dmatrices_Scen_Mod,\n",
    "            data=data.loc[(data['year'] == i)],\n",
    "            return_type='dataframe'\n",
    "            )\n",
    "        # Describe the OLS regression model (dependent and explanatory vars)\n",
    "        model = sm.OLS(y, X)\n",
    "        # Fit the regression model, to compute R2 value later\n",
    "        Scen_Mod_results = model.fit()\n",
    "        # 7) Multivariate regression: climate ambition, scenario and model\n",
    "        # Prepare the regression variables\n",
    "        dmatrices_Amb_Scen_Mod = str(variable + ' ~ cumulative_emissions + squared_cumulative_emissions + scenario + model')\n",
    "        y, X = dmatrices(\n",
    "            dmatrices_Amb_Scen_Mod,\n",
    "            data=data.loc[(data['year'] == i)],\n",
    "            return_type='dataframe'\n",
    "            )\n",
    "        # Describe the OLS regression model (dependent and explanatory vars)\n",
    "        model = sm.OLS(y, X)\n",
    "        # Fit the regression model, to compute R2 value later\n",
    "        Amb_Scen_Mod_results = model.fit()\n",
    "        # 7a) Multivariate RCP regression: climate ambition, scenario and model\n",
    "        # Prepare the regression variables\n",
    "        dmatrices_Amb_rcp_Scen_Mod = str(variable + ' ~ rcp + scenario + model')\n",
    "        y, X = dmatrices(\n",
    "            dmatrices_Amb_rcp_Scen_Mod,\n",
    "            data=data.loc[(data['year'] == i)],\n",
    "            return_type='dataframe'\n",
    "            )\n",
    "        # Describe the OLS regression model (dependent and explanatory vars)\n",
    "        model = sm.OLS(y, X)\n",
    "        # Fit the regression model, to compute R2 value later\n",
    "        Amb_rcp_Scen_Mod_results = model.fit()\n",
    "        \n",
    "        # BLOCK C: Preparation of columns for input in the final table\n",
    "        # Step 1: R2 of the regressions:\n",
    "        R2_Amb =                Amb_results.rsquared\n",
    "        R2_Amb_rcp =            Amb_rcp_results.rsquared   \n",
    "        R2_Scen =               Scen_results.rsquared\n",
    "        R2_Mod =                Mod_results.rsquared\n",
    "\n",
    "        R2_Amb_Scen =           Amb_Scen_results.rsquared\n",
    "        R2_Amb_rcp_Scen =       Amb_rcp_Scen_results.rsquared\n",
    "        R2_Amb_Mod =            Amb_Mod_results.rsquared\n",
    "        R2_Amb_rcp_Mod =        Amb_rcp_Mod_results.rsquared\n",
    "        R2_Scen_Mod =           Scen_Mod_results.rsquared\n",
    "\n",
    "        R2_Amb_Scen_Mod =       Amb_Scen_Mod_results.rsquared\n",
    "        R2_Amb_rcp_Scen_Mod =   Amb_rcp_Scen_Mod_results.rsquared\n",
    "\n",
    "        R2_Residual =           1 - R2_Amb_Scen_Mod\n",
    "        R2_Residual_rcp =       1 - R2_Amb_rcp_Scen_Mod\n",
    "\n",
    "        # Step 2: Shapley Decomposition\n",
    "        R2_Amb_Shapley = (\n",
    "                            (R2_Amb                                     /   3) + \\\n",
    "                            ((R2_Amb_Scen       -       R2_Scen)        /   6) + \\\n",
    "                            ((R2_Amb_Mod        -       R2_Mod)         /   6) + \\\n",
    "                            ((R2_Amb_Scen_Mod   -       R2_Scen_Mod)    /   3)\n",
    "                        )\n",
    "        R2_Scen_Shapley = (\n",
    "                            (R2_Scen                                     /   3) + \\\n",
    "                            ((R2_Amb_Scen       -       R2_Amb)          /   6) + \\\n",
    "                            ((R2_Scen_Mod       -       R2_Mod)          /   6) + \\\n",
    "                            ((R2_Amb_Scen_Mod   -       R2_Amb_Mod)      /   3)\n",
    "                        )\n",
    "        R2_Mod_Shapley = (\n",
    "                            (R2_Mod                                      /   3) + \\\n",
    "                            ((R2_Amb_Mod        -       R2_Amb)          /   6) + \\\n",
    "                            ((R2_Scen_Mod       -       R2_Scen)         /   6) + \\\n",
    "                            ((R2_Amb_Scen_Mod   -       R2_Amb_Scen)     /   3)\n",
    "                        )\n",
    "        # Sum of Shapley Values\n",
    "        R2_Amb_Scen_Mod_Shapley = R2_Amb_Shapley + R2_Scen_Shapley + R2_Mod_Shapley\n",
    "\n",
    "        # The below test must = 0\n",
    "        Test_R2_Shapley_vs_R2 = R2_Amb_Scen_Mod - R2_Amb_Scen_Mod_Shapley\n",
    "\n",
    "        # Step 2a: Shapley Decomposition - rcp [This is an additional regression to the one in the paper. RCP regressions are included in Appendix E]\n",
    "        R2_Amb_Shapley_rcp = (\n",
    "                            (R2_Amb_rcp                                     /   3) + \\\n",
    "                            ((R2_Amb_rcp_Scen       -       R2_Scen)        /   6) + \\\n",
    "                            ((R2_Amb_rcp_Mod        -       R2_Mod)         /   6) + \\\n",
    "                            ((R2_Amb_rcp_Scen_Mod   -       R2_Scen_Mod)    /   3)\n",
    "                        )\n",
    "        R2_Scen_Shapley_rcp = (\n",
    "                            (R2_Scen                                        /   3) + \\\n",
    "                            ((R2_Amb_rcp_Scen       -       R2_Amb_rcp)     /   6) + \\\n",
    "                            ((R2_Scen_Mod       -       R2_Mod)             /   6) + \\\n",
    "                            ((R2_Amb_rcp_Scen_Mod   -       R2_Amb_rcp_Mod) /   3)\n",
    "                        )\n",
    "        R2_Mod_Shapley_rcp = (\n",
    "                            (R2_Mod                                         /   3) + \\\n",
    "                            ((R2_Amb_rcp_Mod        -       R2_Amb_rcp)     /   6) + \\\n",
    "                            ((R2_Scen_Mod       -       R2_Scen)            /   6) + \\\n",
    "                            ((R2_Amb_rcp_Scen_Mod   -       R2_Amb_rcp_Scen)/   3)\n",
    "                        )\n",
    "        # Sum of Shapley Values\n",
    "        R2_Amb_rcp_Scen_Mod_Shapley = R2_Amb_Shapley_rcp + R2_Scen_Shapley_rcp + R2_Mod_Shapley_rcp\n",
    "\n",
    "        # The below test must = 0\n",
    "        Test_R2_Shapley_vs_R2_rcp = R2_Amb_rcp_Scen_Mod - R2_Amb_rcp_Scen_Mod_Shapley\n",
    "\n",
    "        # Step 3\n",
    "        # We prepare the following columns which will be used to plot stacked bar charts.\n",
    "        # These stacked bar chart will show the R2 in the explanatory variables \n",
    "        # and the decomposition of this R2 variability by the three effects identified.\n",
    "        # The decomposition will be illustrated using the stacks in the stacked bar charts. \n",
    "        Avg_SD =        (avg - StDev)\n",
    "        # The heights of individual effects, is the product of *relevant R2 times 2 standard deviation*\n",
    "        SD2_Amb =                       (2 * StDev * R2_Amb_Shapley)\n",
    "        SD2_Scen=                       (2 * StDev * R2_Scen_Shapley)\n",
    "        SD2_Mod =                       (2 * StDev * R2_Mod_Shapley)\n",
    "        SD2_Resid =                     (2 * StDev * R2_Residual)\n",
    "        \n",
    "        # The \"if function\" in this BLOCK D below checks for negative values of AVG-SD and \n",
    "        # provide the input for variables to be plotted. These values below are the ones that are plotted in \n",
    "        # the Shapley Decomposition plots.\n",
    "        if Avg_SD >= 0:\n",
    "            Plot_Avg_SD = Avg_SD\n",
    "        else:\n",
    "            Plot_Avg_SD = 0\n",
    "        # We also create similar column that does the reverse of the above.\n",
    "        if Avg_SD < 0:\n",
    "            Plot_Avg_SD_Surrogate = Avg_SD\n",
    "        else:\n",
    "            Plot_Avg_SD_Surrogate = 0 \n",
    "        \n",
    "        # The following calculations are to ensure that the 4 SD2 stacks defined above are \n",
    "        # centered about the mean\n",
    "        Low_end = Plot_Avg_SD + Plot_Avg_SD_Surrogate\n",
    "        High_end = SD2_Amb + SD2_Scen + SD2_Mod + SD2_Resid + Plot_Avg_SD + Plot_Avg_SD_Surrogate\n",
    "        Length = High_end + Low_end\n",
    "        Mid_point = Length / 2\n",
    "        Avg_vs_Mid_point = avg - Mid_point # which must equal to zero in the final table\n",
    "\n",
    "        # Step 3a [This is an additional regression to the one in the paper. RCP regressions are included in Appendix E]\n",
    "        # We prepare the following columns which will be used to plot stacked bar charts.\n",
    "        # These stacked bar chart will show the R2 in the explanatory variables\n",
    "        # and the decomposition of this R2 variability by the three effects identified above.\n",
    "        # The decomposition will be illustrated using the stacks in the stacked bar charts.\n",
    "        Avg_SD =        (avg - StDev)\n",
    "        # The heights of individual effects, is the product of *relevant R2 times 2 standard deviation*\n",
    "        SD2_Amb_rcp =                       (2 * StDev * R2_Amb_Shapley_rcp)\n",
    "        SD2_Scen_rcp=                       (2 * StDev * R2_Scen_Shapley_rcp)\n",
    "        SD2_Mod_rcp =                       (2 * StDev * R2_Mod_Shapley_rcp)\n",
    "        SD2_Resid_rcp =                     (2 * StDev * R2_Residual_rcp)\n",
    "\n",
    "        # The \"if function\" in this BLOCK D below checks for negative values of AVG-SD and\n",
    "        # provide the input for variables to be plotted. These values below are the ones that are plotted in\n",
    "        # the Shapley Decomposition plots.\n",
    "        if Avg_SD >= 0:\n",
    "            Plot_Avg_SD_rcp = Avg_SD\n",
    "        else:\n",
    "            Plot_Avg_SD_rcp = 0\n",
    "        # We also create similar column that does the reverse of the above.\n",
    "        if Avg_SD < 0:\n",
    "            Plot_Avg_SD_Surrogate_rcp = Avg_SD\n",
    "        else:\n",
    "            Plot_Avg_SD_Surrogate_rcp = 0\n",
    "\n",
    "        # The following calculations are to ensure that the 4 SD2 stacks defined above are\n",
    "        # centered about the mean\n",
    "        Low_end_rcp = Plot_Avg_SD_rcp + Plot_Avg_SD_Surrogate_rcp\n",
    "        High_end_rcp = SD2_Amb_rcp + SD2_Scen_rcp + SD2_Mod_rcp + SD2_Resid_rcp + Plot_Avg_SD_rcp + Plot_Avg_SD_Surrogate_rcp\n",
    "        Length_rcp = High_end_rcp + Low_end_rcp\n",
    "        Mid_point_rcp = Length_rcp / 2\n",
    "        Avg_vs_Mid_point_rcp = avg - Mid_point_rcp\n",
    "                \n",
    "        # BLOCK E:\n",
    "        # Here we build the table that contains each step of the calculations above \n",
    "        df.append(\n",
    "                {\n",
    "                # The following set of columns contain the descriptive stats (from BLOCK A above) and the R2 of regressions (BLOCK C)\n",
    "                'Variable'                  :       variable,\n",
    "                'Year'                      :       i,\n",
    "                'Average'                   :       avg,\n",
    "                'Median'                    :       median,\n",
    "                'StDev'                     :       StDev,\n",
    "                'percentile_90'             :       percentile_90,\n",
    "                'percentile_75'             :       percentile_75,\n",
    "                'Avg-SD'                    :       Avg_SD,\n",
    "                'R2_Amb'                    :       R2_Amb,\n",
    "                'R2_Scen'                   :       R2_Scen,\n",
    "                'R2_Mod'                    :       R2_Mod,\n",
    "                'R2_Amb_Scen'               :       R2_Amb_Scen,\n",
    "                'R2_Amb_Mod'                :       R2_Amb_Mod,\n",
    "                'R2_Scen_Mod'               :       R2_Scen_Mod,\n",
    "                'R2_Amb_Scen_Mod'           :       R2_Amb_Scen_Mod,\n",
    "                'R2_Residual'               :       R2_Residual,\n",
    "\n",
    "                # The following set of columns contain the Shapley value calculations (BLOCK C)\n",
    "                'R2_Amb_Shapley'            :       R2_Amb_Shapley,\n",
    "                'R2_Scen_Shapley'           :       R2_Scen_Shapley,\n",
    "                'R2_Mod_Shapley'            :       R2_Mod_Shapley,\n",
    "                'R2_Amb_Scen_Mod_Shapley'   :       R2_Amb_Scen_Mod_Shapley,\n",
    "                'Test_R2_Shapley_vs_R2'     :       int(Test_R2_Shapley_vs_R2),\n",
    "\n",
    "                # The following set of columns contain the data from plotting\n",
    "                'Plot_Avg_SD'               :       Plot_Avg_SD,\n",
    "                'Plot_Avg_SD_Surrogate'     :       Plot_Avg_SD_Surrogate,\n",
    "                'Plot_Amb'                  :       SD2_Amb,\n",
    "                'Plot_Scen'                 :       SD2_Scen,\n",
    "                'Plot_Mod'                  :       SD2_Mod,\n",
    "                'Plot_Resid'                :       SD2_Resid,\n",
    "                'Avg_vs_Mid_point'          :       int(Avg_vs_Mid_point),\n",
    "\n",
    "                # Add normalised values of R2_Amb_Shapley, R2_Scen_Shapley, R2_Mod_Shapley\n",
    "                'R2_Amb_Scen_Mod_Shapleys_sum' :    R2_Amb_Scen_Mod_Shapley,\n",
    "                'R2_Amb_Shapley_norm'       :       R2_Amb_Shapley / R2_Amb_Scen_Mod_Shapley,\n",
    "                'R2_Scen_Shapley_norm'      :       R2_Scen_Shapley / R2_Amb_Scen_Mod_Shapley,\n",
    "                'R2_Mod_Shapley_norm'       :       R2_Mod_Shapley / R2_Amb_Scen_Mod_Shapley,\n",
    "\n",
    "                # The following set of columns will replicate the above but for the RCP decomposition \n",
    "                # [This is an additional regression to the one in the paper. RCP regressions are included in Appendix E]\n",
    "                # The following set of columns contain the descriptive stats (from BLOCK A above) and the R2 of regressions (BLOCK C)\n",
    "                'R2_Amb_rcp'                    :       R2_Amb_rcp,\n",
    "                'R2_Scen_rcp'                   :       R2_Scen,\n",
    "                'R2_Mod_rcp'                    :       R2_Mod,\n",
    "                'R2_Amb_rcp_Scen'               :       R2_Amb_rcp_Scen,\n",
    "                'R2_Amb_rcp_Mod'                :       R2_Amb_rcp_Mod,\n",
    "                'R2_Scen_rcp_Mod'               :       R2_Scen_Mod,\n",
    "                'R2_Amb_rcp_Scen_Mod'           :       R2_Amb_rcp_Scen_Mod,\n",
    "                'R2_Residual_rcp'               :       R2_Residual_rcp,\n",
    "\n",
    "                # The following set of columns contain the Shapley value calculations (BLOCK C)\n",
    "                'R2_Amb_Shapley_rcp'            :       R2_Amb_Shapley_rcp,\n",
    "                'R2_Scen_Shapley_rcp'           :       R2_Scen_Shapley_rcp,\n",
    "                'R2_Mod_Shapley_rcp'            :       R2_Mod_Shapley_rcp,\n",
    "                'R2_Amb_rcp_Scen_Mod_Shapley'   :       R2_Amb_rcp_Scen_Mod_Shapley,\n",
    "                'Test_R2_Shapley_vs_R2_rcp'     :       int(Test_R2_Shapley_vs_R2_rcp),\n",
    "\n",
    "                # The following set of columns contain the data from plotting\n",
    "                'Plot_Avg_SD_rcp'               :       Plot_Avg_SD_rcp,\n",
    "                'Plot_Avg_SD_Surrogate_rcp'     :       Plot_Avg_SD_Surrogate_rcp,\n",
    "                'Plot_Amb_rcp'                  :       SD2_Amb_rcp,\n",
    "                'Plot_Scen_rcp'                 :       SD2_Scen_rcp,\n",
    "                'Plot_Mod_rcp'                  :       SD2_Mod_rcp,\n",
    "                'Plot_Resid_rcp'                :       SD2_Resid_rcp,\n",
    "                'Avg_vs_Mid_point_rcp'          :       int(Avg_vs_Mid_point_rcp),\n",
    "\n",
    "                # Add normalised values of R2_Amb_Shapley, R2_Scen_Shapley, R2_Mod_Shapley\n",
    "                'R2_Amb_rcp_Scen_Mod_Shapleys_sum' :    R2_Amb_rcp_Scen_Mod_Shapley,\n",
    "                'R2_Amb_Shapley_rcp_norm'       :       R2_Amb_Shapley_rcp / R2_Amb_rcp_Scen_Mod_Shapley,\n",
    "                'R2_Scen_Shapley_rcp_norm'      :       R2_Scen_Shapley_rcp / R2_Amb_rcp_Scen_Mod_Shapley,\n",
    "                'R2_Mod_Shapley_rcp_norm'       :       R2_Mod_Shapley_rcp / R2_Amb_rcp_Scen_Mod_Shapley,\n",
    "\n",
    "                }\n",
    "                )\n",
    "    df = pd.DataFrame(df)\n",
    "    df\n",
    "    return(df)"
   ]
  },
  {
   "attachments": {},
   "cell_type": "markdown",
   "metadata": {},
   "source": [
    "3) Apply the function on the prepared SSPs data"
   ]
  },
  {
   "cell_type": "code",
   "execution_count": 9,
   "metadata": {},
   "outputs": [
    {
     "data": {
      "text/plain": [
       "['Primary_Energy',\n",
       " 'Primary_Energy_Wind',\n",
       " 'Primary_Energy_Solar',\n",
       " 'Primary_Energy_Biomass',\n",
       " 'Primary_Energy_Biomass_w_CCS',\n",
       " 'Primary_Energy_Hydro',\n",
       " 'Primary_Energy_Nuclear',\n",
       " 'Primary_Energy_Geothermal',\n",
       " 'Primary_Energy_Non_Biomass_Renewables',\n",
       " 'Primary_Energy_Fossil',\n",
       " 'Primary_Energy_Fossil_w_CCS',\n",
       " 'Primary_Energy_Fossil_wo_CCS',\n",
       " 'Primary_Energy_Coal',\n",
       " 'Primary_Energy_Coal_w_CCS',\n",
       " 'Primary_Energy_Coal_wo_CCS',\n",
       " 'Primary_Energy_Oil',\n",
       " 'Primary_Energy_Oil_w_CCS',\n",
       " 'Primary_Energy_Oil_wo_CCS',\n",
       " 'Primary_Energy_Gas',\n",
       " 'Primary_Energy_Gas_w_CCS',\n",
       " 'Primary_Energy_Gas_wo_CCS',\n",
       " 'Final_Energy',\n",
       " 'Final_Energy_Electricity',\n",
       " 'Final_Energy_Gases',\n",
       " 'Final_Energy_Heat',\n",
       " 'Final_Energy_Liquids',\n",
       " 'Final_Energy_Solids',\n",
       " 'Final_Energy_Hydrogen',\n",
       " 'Final_Energy_Solar',\n",
       " 'Final_Energy_Industry',\n",
       " 'Final_Energy_Residential_and_Commercial',\n",
       " 'Final_Energy_Transportation',\n",
       " 'Final_Energy_Electrification',\n",
       " 'Emissions_CO2',\n",
       " 'Emissions_CH4',\n",
       " 'Emissions_N2O',\n",
       " 'Emissions_Kyoto_Gases',\n",
       " 'Emissions_CO2_Carbon_Capture_and_Storage',\n",
       " 'Emissions_CO2_Carbon_Capture_and_Storage_Biomass',\n",
       " 'Emissions_CO2_Fossil_Fuels_and_Industry',\n",
       " 'Emissions_CO2_Land_Use',\n",
       " 'Price_Carbon',\n",
       " 'GDP_PPP']"
      ]
     },
     "execution_count": 9,
     "metadata": {},
     "output_type": "execute_result"
    }
   ],
   "source": [
    "# list of all dependent variables\n",
    "variables"
   ]
  },
  {
   "cell_type": "code",
   "execution_count": 10,
   "metadata": {},
   "outputs": [
    {
     "data": {
      "text/html": [
       "<div>\n",
       "<style scoped>\n",
       "    .dataframe tbody tr th:only-of-type {\n",
       "        vertical-align: middle;\n",
       "    }\n",
       "\n",
       "    .dataframe tbody tr th {\n",
       "        vertical-align: top;\n",
       "    }\n",
       "\n",
       "    .dataframe thead th {\n",
       "        text-align: right;\n",
       "    }\n",
       "</style>\n",
       "<table border=\"1\" class=\"dataframe\">\n",
       "  <thead>\n",
       "    <tr style=\"text-align: right;\">\n",
       "      <th></th>\n",
       "      <th>NAs</th>\n",
       "    </tr>\n",
       "  </thead>\n",
       "  <tbody>\n",
       "    <tr>\n",
       "      <th>Unnamed: 0</th>\n",
       "      <td>0</td>\n",
       "    </tr>\n",
       "    <tr>\n",
       "      <th>model</th>\n",
       "      <td>0</td>\n",
       "    </tr>\n",
       "    <tr>\n",
       "      <th>scenario</th>\n",
       "      <td>0</td>\n",
       "    </tr>\n",
       "    <tr>\n",
       "      <th>year</th>\n",
       "      <td>0</td>\n",
       "    </tr>\n",
       "    <tr>\n",
       "      <th>rcp</th>\n",
       "      <td>0</td>\n",
       "    </tr>\n",
       "    <tr>\n",
       "      <th>mod_scen_combined</th>\n",
       "      <td>0</td>\n",
       "    </tr>\n",
       "    <tr>\n",
       "      <th>Primary_Energy</th>\n",
       "      <td>0</td>\n",
       "    </tr>\n",
       "    <tr>\n",
       "      <th>Primary_Energy_Wind</th>\n",
       "      <td>0</td>\n",
       "    </tr>\n",
       "    <tr>\n",
       "      <th>Primary_Energy_Solar</th>\n",
       "      <td>0</td>\n",
       "    </tr>\n",
       "    <tr>\n",
       "      <th>Primary_Energy_Biomass</th>\n",
       "      <td>0</td>\n",
       "    </tr>\n",
       "    <tr>\n",
       "      <th>Primary_Energy_Biomass_w_CCS</th>\n",
       "      <td>70</td>\n",
       "    </tr>\n",
       "    <tr>\n",
       "      <th>Primary_Energy_Hydro</th>\n",
       "      <td>0</td>\n",
       "    </tr>\n",
       "    <tr>\n",
       "      <th>Primary_Energy_Nuclear</th>\n",
       "      <td>0</td>\n",
       "    </tr>\n",
       "    <tr>\n",
       "      <th>Primary_Energy_Geothermal</th>\n",
       "      <td>480</td>\n",
       "    </tr>\n",
       "    <tr>\n",
       "      <th>Primary_Energy_Fossil</th>\n",
       "      <td>0</td>\n",
       "    </tr>\n",
       "    <tr>\n",
       "      <th>Primary_Energy_Fossil_w_CCS</th>\n",
       "      <td>60</td>\n",
       "    </tr>\n",
       "    <tr>\n",
       "      <th>Primary_Energy_Fossil_wo_CCS</th>\n",
       "      <td>0</td>\n",
       "    </tr>\n",
       "    <tr>\n",
       "      <th>Primary_Energy_Coal</th>\n",
       "      <td>0</td>\n",
       "    </tr>\n",
       "    <tr>\n",
       "      <th>Primary_Energy_Coal_w_CCS</th>\n",
       "      <td>60</td>\n",
       "    </tr>\n",
       "    <tr>\n",
       "      <th>Primary_Energy_Coal_wo_CCS</th>\n",
       "      <td>0</td>\n",
       "    </tr>\n",
       "    <tr>\n",
       "      <th>Primary_Energy_Oil</th>\n",
       "      <td>0</td>\n",
       "    </tr>\n",
       "    <tr>\n",
       "      <th>Primary_Energy_Oil_w_CCS</th>\n",
       "      <td>640</td>\n",
       "    </tr>\n",
       "    <tr>\n",
       "      <th>Primary_Energy_Oil_wo_CCS</th>\n",
       "      <td>0</td>\n",
       "    </tr>\n",
       "    <tr>\n",
       "      <th>Primary_Energy_Gas</th>\n",
       "      <td>0</td>\n",
       "    </tr>\n",
       "    <tr>\n",
       "      <th>Primary_Energy_Gas_w_CCS</th>\n",
       "      <td>70</td>\n",
       "    </tr>\n",
       "    <tr>\n",
       "      <th>Primary_Energy_Gas_wo_CCS</th>\n",
       "      <td>0</td>\n",
       "    </tr>\n",
       "    <tr>\n",
       "      <th>Primary_Energy_Non_Biomass_Renewables</th>\n",
       "      <td>0</td>\n",
       "    </tr>\n",
       "    <tr>\n",
       "      <th>Emissions_CO2</th>\n",
       "      <td>0</td>\n",
       "    </tr>\n",
       "    <tr>\n",
       "      <th>Emissions_CH4</th>\n",
       "      <td>0</td>\n",
       "    </tr>\n",
       "    <tr>\n",
       "      <th>Emissions_N2O</th>\n",
       "      <td>0</td>\n",
       "    </tr>\n",
       "    <tr>\n",
       "      <th>Emissions_Kyoto_Gases</th>\n",
       "      <td>0</td>\n",
       "    </tr>\n",
       "    <tr>\n",
       "      <th>Emissions_CO2_Carbon_Capture_and_Storage</th>\n",
       "      <td>60</td>\n",
       "    </tr>\n",
       "    <tr>\n",
       "      <th>Emissions_CO2_Carbon_Capture_and_Storage_Biomass</th>\n",
       "      <td>70</td>\n",
       "    </tr>\n",
       "    <tr>\n",
       "      <th>Emissions_CO2_Fossil_Fuels_and_Industry</th>\n",
       "      <td>0</td>\n",
       "    </tr>\n",
       "    <tr>\n",
       "      <th>Emissions_CO2_Land_Use</th>\n",
       "      <td>0</td>\n",
       "    </tr>\n",
       "    <tr>\n",
       "      <th>Final_Energy</th>\n",
       "      <td>0</td>\n",
       "    </tr>\n",
       "    <tr>\n",
       "      <th>Final_Energy_Electricity</th>\n",
       "      <td>0</td>\n",
       "    </tr>\n",
       "    <tr>\n",
       "      <th>Final_Energy_Hydrogen</th>\n",
       "      <td>490</td>\n",
       "    </tr>\n",
       "    <tr>\n",
       "      <th>Final_Energy_Industry</th>\n",
       "      <td>420</td>\n",
       "    </tr>\n",
       "    <tr>\n",
       "      <th>Final_Energy_Residential_and_Commercial</th>\n",
       "      <td>420</td>\n",
       "    </tr>\n",
       "    <tr>\n",
       "      <th>Final_Energy_Transportation</th>\n",
       "      <td>0</td>\n",
       "    </tr>\n",
       "    <tr>\n",
       "      <th>Final_Energy_Gases</th>\n",
       "      <td>0</td>\n",
       "    </tr>\n",
       "    <tr>\n",
       "      <th>Final_Energy_Heat</th>\n",
       "      <td>250</td>\n",
       "    </tr>\n",
       "    <tr>\n",
       "      <th>Final_Energy_Liquids</th>\n",
       "      <td>0</td>\n",
       "    </tr>\n",
       "    <tr>\n",
       "      <th>Final_Energy_Solids</th>\n",
       "      <td>0</td>\n",
       "    </tr>\n",
       "    <tr>\n",
       "      <th>Final_Energy_Solar</th>\n",
       "      <td>640</td>\n",
       "    </tr>\n",
       "    <tr>\n",
       "      <th>Final_Energy_Electrification</th>\n",
       "      <td>0</td>\n",
       "    </tr>\n",
       "    <tr>\n",
       "      <th>Price_Carbon</th>\n",
       "      <td>120</td>\n",
       "    </tr>\n",
       "    <tr>\n",
       "      <th>GDP_PPP</th>\n",
       "      <td>0</td>\n",
       "    </tr>\n",
       "    <tr>\n",
       "      <th>cumulative_emissions</th>\n",
       "      <td>0</td>\n",
       "    </tr>\n",
       "    <tr>\n",
       "      <th>squared_cumulative_emissions</th>\n",
       "      <td>0</td>\n",
       "    </tr>\n",
       "  </tbody>\n",
       "</table>\n",
       "</div>"
      ],
      "text/plain": [
       "                                                  NAs\n",
       "Unnamed: 0                                          0\n",
       "model                                               0\n",
       "scenario                                            0\n",
       "year                                                0\n",
       "rcp                                                 0\n",
       "mod_scen_combined                                   0\n",
       "Primary_Energy                                      0\n",
       "Primary_Energy_Wind                                 0\n",
       "Primary_Energy_Solar                                0\n",
       "Primary_Energy_Biomass                              0\n",
       "Primary_Energy_Biomass_w_CCS                       70\n",
       "Primary_Energy_Hydro                                0\n",
       "Primary_Energy_Nuclear                              0\n",
       "Primary_Energy_Geothermal                         480\n",
       "Primary_Energy_Fossil                               0\n",
       "Primary_Energy_Fossil_w_CCS                        60\n",
       "Primary_Energy_Fossil_wo_CCS                        0\n",
       "Primary_Energy_Coal                                 0\n",
       "Primary_Energy_Coal_w_CCS                          60\n",
       "Primary_Energy_Coal_wo_CCS                          0\n",
       "Primary_Energy_Oil                                  0\n",
       "Primary_Energy_Oil_w_CCS                          640\n",
       "Primary_Energy_Oil_wo_CCS                           0\n",
       "Primary_Energy_Gas                                  0\n",
       "Primary_Energy_Gas_w_CCS                           70\n",
       "Primary_Energy_Gas_wo_CCS                           0\n",
       "Primary_Energy_Non_Biomass_Renewables               0\n",
       "Emissions_CO2                                       0\n",
       "Emissions_CH4                                       0\n",
       "Emissions_N2O                                       0\n",
       "Emissions_Kyoto_Gases                               0\n",
       "Emissions_CO2_Carbon_Capture_and_Storage           60\n",
       "Emissions_CO2_Carbon_Capture_and_Storage_Biomass   70\n",
       "Emissions_CO2_Fossil_Fuels_and_Industry             0\n",
       "Emissions_CO2_Land_Use                              0\n",
       "Final_Energy                                        0\n",
       "Final_Energy_Electricity                            0\n",
       "Final_Energy_Hydrogen                             490\n",
       "Final_Energy_Industry                             420\n",
       "Final_Energy_Residential_and_Commercial           420\n",
       "Final_Energy_Transportation                         0\n",
       "Final_Energy_Gases                                  0\n",
       "Final_Energy_Heat                                 250\n",
       "Final_Energy_Liquids                                0\n",
       "Final_Energy_Solids                                 0\n",
       "Final_Energy_Solar                                640\n",
       "Final_Energy_Electrification                        0\n",
       "Price_Carbon                                      120\n",
       "GDP_PPP                                             0\n",
       "cumulative_emissions                                0\n",
       "squared_cumulative_emissions                        0"
      ]
     },
     "execution_count": 10,
     "metadata": {},
     "output_type": "execute_result"
    }
   ],
   "source": [
    "# check for NaNs in the dependent variables\n",
    "count_nan_in_df = ssps_df.isnull().sum()\n",
    "count_nan_in_df = pd.DataFrame(count_nan_in_df, columns=['NAs'])\n",
    "count_nan_in_df"
   ]
  },
  {
   "cell_type": "code",
   "execution_count": 11,
   "metadata": {},
   "outputs": [
    {
     "data": {
      "text/html": [
       "<div>\n",
       "<style scoped>\n",
       "    .dataframe tbody tr th:only-of-type {\n",
       "        vertical-align: middle;\n",
       "    }\n",
       "\n",
       "    .dataframe tbody tr th {\n",
       "        vertical-align: top;\n",
       "    }\n",
       "\n",
       "    .dataframe thead th {\n",
       "        text-align: right;\n",
       "    }\n",
       "</style>\n",
       "<table border=\"1\" class=\"dataframe\">\n",
       "  <thead>\n",
       "    <tr style=\"text-align: right;\">\n",
       "      <th></th>\n",
       "      <th>Variable</th>\n",
       "      <th>Year</th>\n",
       "      <th>Average</th>\n",
       "      <th>Median</th>\n",
       "      <th>StDev</th>\n",
       "      <th>percentile_90</th>\n",
       "      <th>percentile_75</th>\n",
       "      <th>Avg-SD</th>\n",
       "      <th>R2_Amb</th>\n",
       "      <th>R2_Scen</th>\n",
       "      <th>...</th>\n",
       "      <th>Plot_Avg_SD_Surrogate_rcp</th>\n",
       "      <th>Plot_Amb_rcp</th>\n",
       "      <th>Plot_Scen_rcp</th>\n",
       "      <th>Plot_Mod_rcp</th>\n",
       "      <th>Plot_Resid_rcp</th>\n",
       "      <th>Avg_vs_Mid_point_rcp</th>\n",
       "      <th>R2_Amb_rcp_Scen_Mod_Shapleys_sum</th>\n",
       "      <th>R2_Amb_Shapley_rcp_norm</th>\n",
       "      <th>R2_Scen_Shapley_rcp_norm</th>\n",
       "      <th>R2_Mod_Shapley_rcp_norm</th>\n",
       "    </tr>\n",
       "  </thead>\n",
       "  <tbody>\n",
       "    <tr>\n",
       "      <th>0</th>\n",
       "      <td>Primary_Energy</td>\n",
       "      <td>2020</td>\n",
       "      <td>592.632501</td>\n",
       "      <td>590.293832</td>\n",
       "      <td>36.344500</td>\n",
       "      <td>637.097282</td>\n",
       "      <td>619.800000</td>\n",
       "      <td>556.288000</td>\n",
       "      <td>0.154003</td>\n",
       "      <td>0.458154</td>\n",
       "      <td>...</td>\n",
       "      <td>0.0</td>\n",
       "      <td>5.432936</td>\n",
       "      <td>31.845336</td>\n",
       "      <td>20.915194</td>\n",
       "      <td>14.495535</td>\n",
       "      <td>0</td>\n",
       "      <td>0.800581</td>\n",
       "      <td>0.093360</td>\n",
       "      <td>0.547232</td>\n",
       "      <td>0.359408</td>\n",
       "    </tr>\n",
       "    <tr>\n",
       "      <th>1</th>\n",
       "      <td>Primary_Energy</td>\n",
       "      <td>2030</td>\n",
       "      <td>652.114384</td>\n",
       "      <td>660.993132</td>\n",
       "      <td>107.144662</td>\n",
       "      <td>778.820990</td>\n",
       "      <td>718.468824</td>\n",
       "      <td>544.969722</td>\n",
       "      <td>0.401768</td>\n",
       "      <td>0.262821</td>\n",
       "      <td>...</td>\n",
       "      <td>0.0</td>\n",
       "      <td>78.425954</td>\n",
       "      <td>43.513784</td>\n",
       "      <td>48.624245</td>\n",
       "      <td>43.725342</td>\n",
       "      <td>0</td>\n",
       "      <td>0.795952</td>\n",
       "      <td>0.459804</td>\n",
       "      <td>0.255117</td>\n",
       "      <td>0.285079</td>\n",
       "    </tr>\n",
       "    <tr>\n",
       "      <th>2</th>\n",
       "      <td>Primary_Energy</td>\n",
       "      <td>2040</td>\n",
       "      <td>713.072097</td>\n",
       "      <td>716.093316</td>\n",
       "      <td>143.405963</td>\n",
       "      <td>889.381723</td>\n",
       "      <td>787.556742</td>\n",
       "      <td>569.666134</td>\n",
       "      <td>0.523812</td>\n",
       "      <td>0.311684</td>\n",
       "      <td>...</td>\n",
       "      <td>0.0</td>\n",
       "      <td>124.277108</td>\n",
       "      <td>73.227310</td>\n",
       "      <td>50.657487</td>\n",
       "      <td>38.650022</td>\n",
       "      <td>0</td>\n",
       "      <td>0.865243</td>\n",
       "      <td>0.500790</td>\n",
       "      <td>0.295079</td>\n",
       "      <td>0.204131</td>\n",
       "    </tr>\n",
       "    <tr>\n",
       "      <th>3</th>\n",
       "      <td>Primary_Energy</td>\n",
       "      <td>2050</td>\n",
       "      <td>768.841860</td>\n",
       "      <td>766.231300</td>\n",
       "      <td>173.245985</td>\n",
       "      <td>993.536219</td>\n",
       "      <td>853.573152</td>\n",
       "      <td>595.595875</td>\n",
       "      <td>0.531905</td>\n",
       "      <td>0.410085</td>\n",
       "      <td>...</td>\n",
       "      <td>0.0</td>\n",
       "      <td>133.842191</td>\n",
       "      <td>123.954285</td>\n",
       "      <td>49.104141</td>\n",
       "      <td>39.591352</td>\n",
       "      <td>0</td>\n",
       "      <td>0.885737</td>\n",
       "      <td>0.436109</td>\n",
       "      <td>0.403891</td>\n",
       "      <td>0.160000</td>\n",
       "    </tr>\n",
       "    <tr>\n",
       "      <th>4</th>\n",
       "      <td>Primary_Energy</td>\n",
       "      <td>2060</td>\n",
       "      <td>811.542265</td>\n",
       "      <td>792.744375</td>\n",
       "      <td>202.542032</td>\n",
       "      <td>1072.157164</td>\n",
       "      <td>912.971710</td>\n",
       "      <td>609.000232</td>\n",
       "      <td>0.540899</td>\n",
       "      <td>0.469406</td>\n",
       "      <td>...</td>\n",
       "      <td>0.0</td>\n",
       "      <td>141.758922</td>\n",
       "      <td>171.177758</td>\n",
       "      <td>47.498710</td>\n",
       "      <td>44.648676</td>\n",
       "      <td>0</td>\n",
       "      <td>0.889779</td>\n",
       "      <td>0.393299</td>\n",
       "      <td>0.474919</td>\n",
       "      <td>0.131781</td>\n",
       "    </tr>\n",
       "    <tr>\n",
       "      <th>...</th>\n",
       "      <td>...</td>\n",
       "      <td>...</td>\n",
       "      <td>...</td>\n",
       "      <td>...</td>\n",
       "      <td>...</td>\n",
       "      <td>...</td>\n",
       "      <td>...</td>\n",
       "      <td>...</td>\n",
       "      <td>...</td>\n",
       "      <td>...</td>\n",
       "      <td>...</td>\n",
       "      <td>...</td>\n",
       "      <td>...</td>\n",
       "      <td>...</td>\n",
       "      <td>...</td>\n",
       "      <td>...</td>\n",
       "      <td>...</td>\n",
       "      <td>...</td>\n",
       "      <td>...</td>\n",
       "      <td>...</td>\n",
       "      <td>...</td>\n",
       "    </tr>\n",
       "    <tr>\n",
       "      <th>4</th>\n",
       "      <td>GDP_PPP</td>\n",
       "      <td>2060</td>\n",
       "      <td>313.319643</td>\n",
       "      <td>280.515400</td>\n",
       "      <td>90.118210</td>\n",
       "      <td>467.491600</td>\n",
       "      <td>355.400000</td>\n",
       "      <td>223.201433</td>\n",
       "      <td>0.040172</td>\n",
       "      <td>0.974897</td>\n",
       "      <td>...</td>\n",
       "      <td>0.0</td>\n",
       "      <td>0.396960</td>\n",
       "      <td>168.414255</td>\n",
       "      <td>10.127686</td>\n",
       "      <td>1.297519</td>\n",
       "      <td>0</td>\n",
       "      <td>0.992801</td>\n",
       "      <td>0.002218</td>\n",
       "      <td>0.941183</td>\n",
       "      <td>0.056599</td>\n",
       "    </tr>\n",
       "    <tr>\n",
       "      <th>5</th>\n",
       "      <td>GDP_PPP</td>\n",
       "      <td>2070</td>\n",
       "      <td>373.698450</td>\n",
       "      <td>336.848500</td>\n",
       "      <td>123.763739</td>\n",
       "      <td>590.612400</td>\n",
       "      <td>419.291187</td>\n",
       "      <td>249.934711</td>\n",
       "      <td>0.044672</td>\n",
       "      <td>0.978820</td>\n",
       "      <td>...</td>\n",
       "      <td>0.0</td>\n",
       "      <td>0.467994</td>\n",
       "      <td>231.691988</td>\n",
       "      <td>13.737584</td>\n",
       "      <td>1.629911</td>\n",
       "      <td>0</td>\n",
       "      <td>0.993415</td>\n",
       "      <td>0.001903</td>\n",
       "      <td>0.942230</td>\n",
       "      <td>0.055867</td>\n",
       "    </tr>\n",
       "    <tr>\n",
       "      <th>6</th>\n",
       "      <td>GDP_PPP</td>\n",
       "      <td>2080</td>\n",
       "      <td>434.676270</td>\n",
       "      <td>398.498200</td>\n",
       "      <td>159.940390</td>\n",
       "      <td>722.843200</td>\n",
       "      <td>475.419188</td>\n",
       "      <td>274.735880</td>\n",
       "      <td>0.049324</td>\n",
       "      <td>0.981165</td>\n",
       "      <td>...</td>\n",
       "      <td>0.0</td>\n",
       "      <td>0.529475</td>\n",
       "      <td>299.586376</td>\n",
       "      <td>17.776548</td>\n",
       "      <td>1.988380</td>\n",
       "      <td>0</td>\n",
       "      <td>0.993784</td>\n",
       "      <td>0.001666</td>\n",
       "      <td>0.942414</td>\n",
       "      <td>0.055920</td>\n",
       "    </tr>\n",
       "    <tr>\n",
       "      <th>7</th>\n",
       "      <td>GDP_PPP</td>\n",
       "      <td>2090</td>\n",
       "      <td>496.656784</td>\n",
       "      <td>465.175700</td>\n",
       "      <td>198.808204</td>\n",
       "      <td>861.958600</td>\n",
       "      <td>524.875813</td>\n",
       "      <td>297.848579</td>\n",
       "      <td>0.054261</td>\n",
       "      <td>0.982979</td>\n",
       "      <td>...</td>\n",
       "      <td>0.0</td>\n",
       "      <td>0.633629</td>\n",
       "      <td>372.668716</td>\n",
       "      <td>22.006201</td>\n",
       "      <td>2.307862</td>\n",
       "      <td>0</td>\n",
       "      <td>0.994196</td>\n",
       "      <td>0.001603</td>\n",
       "      <td>0.942729</td>\n",
       "      <td>0.055668</td>\n",
       "    </tr>\n",
       "    <tr>\n",
       "      <th>8</th>\n",
       "      <td>GDP_PPP</td>\n",
       "      <td>2100</td>\n",
       "      <td>559.568511</td>\n",
       "      <td>537.072692</td>\n",
       "      <td>239.785261</td>\n",
       "      <td>1007.248000</td>\n",
       "      <td>565.389625</td>\n",
       "      <td>319.783250</td>\n",
       "      <td>0.058841</td>\n",
       "      <td>0.984976</td>\n",
       "      <td>...</td>\n",
       "      <td>0.0</td>\n",
       "      <td>0.775548</td>\n",
       "      <td>450.019805</td>\n",
       "      <td>26.340737</td>\n",
       "      <td>2.434434</td>\n",
       "      <td>0</td>\n",
       "      <td>0.994924</td>\n",
       "      <td>0.001625</td>\n",
       "      <td>0.943169</td>\n",
       "      <td>0.055206</td>\n",
       "    </tr>\n",
       "  </tbody>\n",
       "</table>\n",
       "<p>387 rows × 56 columns</p>\n",
       "</div>"
      ],
      "text/plain": [
       "          Variable  Year     Average      Median       StDev  percentile_90   \n",
       "0   Primary_Energy  2020  592.632501  590.293832   36.344500     637.097282  \\\n",
       "1   Primary_Energy  2030  652.114384  660.993132  107.144662     778.820990   \n",
       "2   Primary_Energy  2040  713.072097  716.093316  143.405963     889.381723   \n",
       "3   Primary_Energy  2050  768.841860  766.231300  173.245985     993.536219   \n",
       "4   Primary_Energy  2060  811.542265  792.744375  202.542032    1072.157164   \n",
       "..             ...   ...         ...         ...         ...            ...   \n",
       "4          GDP_PPP  2060  313.319643  280.515400   90.118210     467.491600   \n",
       "5          GDP_PPP  2070  373.698450  336.848500  123.763739     590.612400   \n",
       "6          GDP_PPP  2080  434.676270  398.498200  159.940390     722.843200   \n",
       "7          GDP_PPP  2090  496.656784  465.175700  198.808204     861.958600   \n",
       "8          GDP_PPP  2100  559.568511  537.072692  239.785261    1007.248000   \n",
       "\n",
       "    percentile_75      Avg-SD    R2_Amb   R2_Scen  ...   \n",
       "0      619.800000  556.288000  0.154003  0.458154  ...  \\\n",
       "1      718.468824  544.969722  0.401768  0.262821  ...   \n",
       "2      787.556742  569.666134  0.523812  0.311684  ...   \n",
       "3      853.573152  595.595875  0.531905  0.410085  ...   \n",
       "4      912.971710  609.000232  0.540899  0.469406  ...   \n",
       "..            ...         ...       ...       ...  ...   \n",
       "4      355.400000  223.201433  0.040172  0.974897  ...   \n",
       "5      419.291187  249.934711  0.044672  0.978820  ...   \n",
       "6      475.419188  274.735880  0.049324  0.981165  ...   \n",
       "7      524.875813  297.848579  0.054261  0.982979  ...   \n",
       "8      565.389625  319.783250  0.058841  0.984976  ...   \n",
       "\n",
       "    Plot_Avg_SD_Surrogate_rcp  Plot_Amb_rcp  Plot_Scen_rcp  Plot_Mod_rcp   \n",
       "0                         0.0      5.432936      31.845336     20.915194  \\\n",
       "1                         0.0     78.425954      43.513784     48.624245   \n",
       "2                         0.0    124.277108      73.227310     50.657487   \n",
       "3                         0.0    133.842191     123.954285     49.104141   \n",
       "4                         0.0    141.758922     171.177758     47.498710   \n",
       "..                        ...           ...            ...           ...   \n",
       "4                         0.0      0.396960     168.414255     10.127686   \n",
       "5                         0.0      0.467994     231.691988     13.737584   \n",
       "6                         0.0      0.529475     299.586376     17.776548   \n",
       "7                         0.0      0.633629     372.668716     22.006201   \n",
       "8                         0.0      0.775548     450.019805     26.340737   \n",
       "\n",
       "    Plot_Resid_rcp  Avg_vs_Mid_point_rcp  R2_Amb_rcp_Scen_Mod_Shapleys_sum   \n",
       "0        14.495535                     0                          0.800581  \\\n",
       "1        43.725342                     0                          0.795952   \n",
       "2        38.650022                     0                          0.865243   \n",
       "3        39.591352                     0                          0.885737   \n",
       "4        44.648676                     0                          0.889779   \n",
       "..             ...                   ...                               ...   \n",
       "4         1.297519                     0                          0.992801   \n",
       "5         1.629911                     0                          0.993415   \n",
       "6         1.988380                     0                          0.993784   \n",
       "7         2.307862                     0                          0.994196   \n",
       "8         2.434434                     0                          0.994924   \n",
       "\n",
       "    R2_Amb_Shapley_rcp_norm  R2_Scen_Shapley_rcp_norm  R2_Mod_Shapley_rcp_norm  \n",
       "0                  0.093360                  0.547232                 0.359408  \n",
       "1                  0.459804                  0.255117                 0.285079  \n",
       "2                  0.500790                  0.295079                 0.204131  \n",
       "3                  0.436109                  0.403891                 0.160000  \n",
       "4                  0.393299                  0.474919                 0.131781  \n",
       "..                      ...                       ...                      ...  \n",
       "4                  0.002218                  0.941183                 0.056599  \n",
       "5                  0.001903                  0.942230                 0.055867  \n",
       "6                  0.001666                  0.942414                 0.055920  \n",
       "7                  0.001603                  0.942729                 0.055668  \n",
       "8                  0.001625                  0.943169                 0.055206  \n",
       "\n",
       "[387 rows x 56 columns]"
      ]
     },
     "execution_count": 11,
     "metadata": {},
     "output_type": "execute_result"
    }
   ],
   "source": [
    "# Applying the function to all dependent variables\n",
    "# The below loop uses the count_nan_in_df table above in order to \n",
    "# drop the NAs rows from the data (ssps_df) only for the variables \n",
    "# with NaNs\n",
    "\n",
    "# Clear objects before running the loop \n",
    "df=[]\n",
    "df_list=[]\n",
    "data=[]\n",
    "\n",
    "for v in variables: # that is all dependent variables identified above\n",
    "    if count_nan_in_df.loc[v,'NAs'] == 0: \n",
    "        data = ssps_df\n",
    "        df = shapley_owen_decomposition(v, data)\n",
    "        df_list.append(df)\n",
    "    # if there are NaNs for certain variables then\n",
    "    # the function will run on a subset of the data that omits the NaNs\n",
    "    # and the corresponding columns\n",
    "    else:\n",
    "        data = ssps_df.dropna(subset=[v])\n",
    "        df = shapley_owen_decomposition(v, data)\n",
    "        df_list.append(df)        \n",
    "df_all = pd.concat(df_list)\n",
    "df_all"
   ]
  },
  {
   "cell_type": "markdown",
   "metadata": {},
   "source": [
    "4) Cleaning the final output to prepare the dataframe for plotting in the following steps"
   ]
  },
  {
   "cell_type": "code",
   "execution_count": 12,
   "metadata": {},
   "outputs": [],
   "source": [
    "# In the Variable column of df_all, remove the \"_\" from the values\n",
    "df_all['Variable'] = df_all['Variable'].str.replace('_', ' ')"
   ]
  },
  {
   "cell_type": "code",
   "execution_count": 13,
   "metadata": {},
   "outputs": [],
   "source": [
    "# In all variables that include wo CCS, delete the wo CCS, add \"Unabated\" instead\n",
    "\n",
    "def replace_wo_CCS(text):\n",
    "    return re.sub(r'(\\w+)\\swo\\sCCS', r'Unabated \\1', text)\n",
    "\n",
    "df_all['Variable'] = df_all['Variable'].apply(replace_wo_CCS)\n",
    "\n"
   ]
  },
  {
   "cell_type": "code",
   "execution_count": 14,
   "metadata": {},
   "outputs": [
    {
     "data": {
      "text/plain": [
       "array(['Primary Energy', 'Primary Energy Wind', 'Primary Energy Solar',\n",
       "       'Primary Energy Biomass', 'Primary Energy Biomass w CCS',\n",
       "       'Primary Energy Hydro', 'Primary Energy Nuclear',\n",
       "       'Primary Energy Geothermal',\n",
       "       'Primary Energy Non Biomass Renewables', 'Primary Energy Fossil',\n",
       "       'Primary Energy Fossil w CCS', 'Primary Energy Unabated Fossil',\n",
       "       'Primary Energy Coal', 'Primary Energy Coal w CCS',\n",
       "       'Primary Energy Unabated Coal', 'Primary Energy Oil',\n",
       "       'Primary Energy Oil w CCS', 'Primary Energy Unabated Oil',\n",
       "       'Primary Energy Gas', 'Primary Energy Gas w CCS',\n",
       "       'Primary Energy Unabated Gas', 'Final Energy',\n",
       "       'Final Energy Electricity', 'Final Energy Gases',\n",
       "       'Final Energy Heat', 'Final Energy Liquids', 'Final Energy Solids',\n",
       "       'Final Energy Hydrogen', 'Final Energy Solar',\n",
       "       'Final Energy Industry', 'Final Energy Residential and Commercial',\n",
       "       'Final Energy Transportation', 'Final Energy Electrification',\n",
       "       'Emissions CO2', 'Emissions CH4', 'Emissions N2O',\n",
       "       'Emissions Kyoto Gases',\n",
       "       'Emissions CO2 Carbon Capture and Storage',\n",
       "       'Emissions CO2 Carbon Capture and Storage Biomass',\n",
       "       'Emissions CO2 Fossil Fuels and Industry',\n",
       "       'Emissions CO2 Land Use', 'Price Carbon', 'GDP PPP'], dtype=object)"
      ]
     },
     "execution_count": 14,
     "metadata": {},
     "output_type": "execute_result"
    }
   ],
   "source": [
    "df_all.Variable.unique()"
   ]
  },
  {
   "cell_type": "code",
   "execution_count": 15,
   "metadata": {},
   "outputs": [
    {
     "data": {
      "text/plain": [
       "array(['Fossil', 'Non-fossil', 'Final Energy', 'Emissions', 'Economic'],\n",
       "      dtype=object)"
      ]
     },
     "execution_count": 15,
     "metadata": {},
     "output_type": "execute_result"
    }
   ],
   "source": [
    "# Adding Typology to the variables\n",
    "# Typologies are: Emissions, Fossil PE, Non-fossil PE, Final Energy, CCS/Land\n",
    "# Variables will be assigned to type according to the following loops:\n",
    "\n",
    "# Creating additional colum for Type\n",
    "Labels = ['Emissions ']\n",
    "for i in Labels:\n",
    "    df_all.loc[df_all['Variable'].str.contains(str(i)), 'Type'] = 'Emissions'\n",
    "\n",
    "Labels = ['Final Energy']\n",
    "for i in Labels:\n",
    "    df_all.loc[df_all['Variable'].str.contains(str(i)), 'Type'] = 'Final Energy'\n",
    "\n",
    "Labels = ['Primary Energy',\n",
    "         'Primary Energy Fossil',\n",
    "            \"Primary Energy Fossil w CCS\",\n",
    "            \"Primary Energy Unabated Fossil\",\n",
    "            'Primary Energy Coal',\n",
    "            'Primary Energy Coal w CCS',\n",
    "            'Primary Energy Unabated Coal',\n",
    "            'Primary Energy Gas',\n",
    "            \"Primary Energy Gas w CCS\",\n",
    "            \"Primary Energy Unabated Gas\",\n",
    "            'Primary Energy Oil',\n",
    "            'Primary Energy Oil w CCS',\n",
    "            'Primary Energy Unabated Oil',\n",
    "    ]\n",
    "\n",
    "for i in Labels:\n",
    "    df_all.loc[df_all['Variable'].str.contains(str(i)), 'Type'] = 'Fossil'\n",
    "\n",
    "Labels = [\n",
    "         'Primary Energy Wind',\n",
    "            'Primary Energy Solar',\n",
    "            'Primary Energy Biomass',\n",
    "            'Primary Energy Biomass w CCS',\n",
    "            'Primary Energy Hydro',\n",
    "            'Primary Energy Nuclear',\n",
    "            'Primary Energy Geothermal',\n",
    "            'Primary Energy Non Biomass Renewables',\n",
    "    ]\n",
    "\n",
    "for i in Labels:\n",
    "    df_all.loc[df_all['Variable'].str.contains(str(i)), 'Type'] = 'Non-fossil'\n",
    "\n",
    "Labels = [\n",
    "        'Price Carbon',\n",
    "       'GDP PPP'\n",
    "       ]\n",
    "for i in Labels:\n",
    "    df_all.loc[df_all['Variable'].str.contains(str(i)), 'Type'] = 'Economic'\n",
    "\n",
    "df_all.Type.unique()"
   ]
  },
  {
   "cell_type": "code",
   "execution_count": 16,
   "metadata": {},
   "outputs": [],
   "source": [
    "# # Export to CSV\n",
    "df_all.to_csv('../05_data/shapley-Owen_results_all_variables.csv')"
   ]
  },
  {
   "cell_type": "markdown",
   "metadata": {},
   "source": [
    "5) Plotting the ternary plots\n",
    "\n",
    "Please note that in preparing the ternary plots for section 3.9 of the paper, we had to remove some of the datapoints labels in order to make them readable, and re-added these labels in the body of the paper manually. In presenting Figures 13, 14 and 15 below, we show two versions: the full one with all the labels, and the cleaned version used in the paper. "
   ]
  },
  {
   "cell_type": "markdown",
   "metadata": {},
   "source": [
    "Figure 13: Ternary Plot – Focus on the Climate Ambition factor effects 2060"
   ]
  },
  {
   "cell_type": "code",
   "execution_count": 17,
   "metadata": {},
   "outputs": [
    {
     "name": "stderr",
     "output_type": "stream",
     "text": [
      "C:\\Users\\aalkhour\\AppData\\Local\\Temp\\ipykernel_25696\\1997078729.py:60: SettingWithCopyWarning: \n",
      "A value is trying to be set on a copy of a slice from a DataFrame.\n",
      "Try using .loc[row_indexer,col_indexer] = value instead\n",
      "\n",
      "See the caveats in the documentation: https://pandas.pydata.org/pandas-docs/stable/user_guide/indexing.html#returning-a-view-versus-a-copy\n",
      "  data['Variable'] = data['Variable'].replace(var_name_replacements)\n"
     ]
    },
    {
     "data": {
      "application/vnd.plotly.v1+json": {
       "config": {
        "plotlyServerURL": "https://plot.ly"
       },
       "data": [
        {
         "a": [
          0.4840793089391553,
          0.7579206343092577,
          0.8873657830331961,
          0.8643620301402961,
          0.9313811604411175,
          0.5350746725430966,
          0.5883112128680714,
          0.44846424436756993,
          0.46301481578872894,
          0.6903651410588121
         ],
         "b": [
          0.12775525684767464,
          0.054054187903661476,
          0.04415163727959408,
          0.05149009941180581,
          0.028673993534863617,
          0.1869444650433939,
          0.17633757691127053,
          0.33685932344788405,
          0.08472223221873093,
          0.24625797506865393
         ],
         "c": [
          0.3881654342131701,
          0.18802517778708072,
          0.06848257968720983,
          0.08414787044789805,
          0.03994484602401884,
          0.2779808624135095,
          0.23535121022065802,
          0.214676432184546,
          0.4522629519925401,
          0.06337688387253405
         ],
         "hovertemplate": "<b>%{hovertext}</b><br><br>Type=Fossil<br>Year=2060<br>Ambition (100%)=%{a}<br>Model (100%)=%{b}<br>Scenario (100%)=%{c}<br>text=%{text}<extra></extra>",
         "hovertext": [
          "",
          "",
          "",
          "",
          "",
          "Primary Energy Oil",
          "",
          "",
          "Gas w CCS",
          "PE Unabated Gas"
         ],
         "legendgroup": "Fossil",
         "marker": {
          "color": "#5D6D7E",
          "size": 12,
          "symbol": "x"
         },
         "mode": "markers+text",
         "name": "Fossil",
         "showlegend": true,
         "subplot": "ternary",
         "text": [
          "",
          "",
          "",
          "",
          "",
          "Primary Energy Oil",
          "",
          "",
          "Gas w CCS",
          "PE Unabated Gas"
         ],
         "textposition": "top center",
         "type": "scatterternary"
        },
        {
         "a": [
          0.45184915736777637,
          0.5914488116093717,
          0.6669757517364977
         ],
         "b": [
          0.32367489485519446,
          0.18951302926601535,
          0.19409100617425135
         ],
         "c": [
          0.22447594777702914,
          0.21903815912461297,
          0.13893324208925084
         ],
         "hovertemplate": "<b>%{hovertext}</b><br><br>Type=Non-fossil<br>Year=2060<br>Ambition (100%)=%{a}<br>Model (100%)=%{b}<br>Scenario (100%)=%{c}<br>text=%{text}<extra></extra>",
         "hovertext": [
          "PE Solar",
          "PE Biomass",
          "PE Biomass w CCS"
         ],
         "legendgroup": "Non-fossil",
         "marker": {
          "color": "#F8766D",
          "size": 12,
          "symbol": "star-dot"
         },
         "mode": "markers+text",
         "name": "Non-fossil",
         "showlegend": true,
         "subplot": "ternary",
         "text": [
          "PE Solar",
          "PE Biomass",
          "PE Biomass w CCS"
         ],
         "textposition": "top center",
         "type": "scatterternary"
        },
        {
         "a": [
          0.46507209429249596,
          0.6033859912897843,
          0.44306986530207765,
          0.36398489073283335,
          0.7311513961995617,
          0.6377623842556689
         ],
         "b": [
          0.17783613902811057,
          0.27824007797512634,
          0.23314975226298193,
          0.299565229449772,
          0.1781038508426023,
          0.25754974976082673
         ],
         "c": [
          0.35709176667939346,
          0.11837393073508927,
          0.32378038243494045,
          0.3364498798173947,
          0.09074475295783606,
          0.1046878659835044
         ],
         "hovertemplate": "<b>%{hovertext}</b><br><br>Type=Final Energy<br>Year=2060<br>Ambition (100%)=%{a}<br>Model (100%)=%{b}<br>Scenario (100%)=%{c}<br>text=%{text}<extra></extra>",
         "hovertext": [
          "FE Total",
          "FE Gases",
          "FE Liquids",
          "Final Energy Solids",
          "FE Hydrogen",
          "FE Electrification"
         ],
         "legendgroup": "Final Energy",
         "marker": {
          "color": "#52BE80",
          "size": 12,
          "symbol": "hexagon-dot"
         },
         "mode": "markers+text",
         "name": "Final Energy",
         "showlegend": true,
         "subplot": "ternary",
         "text": [
          "FE Total",
          "FE Gases",
          "FE Liquids",
          "Final Energy Solids",
          "FE Hydrogen",
          "FE Electrification"
         ],
         "textposition": "top center",
         "type": "scatterternary"
        },
        {
         "a": [
          0.9569450587144694,
          0.8301234862165034,
          0.624715594509261,
          0.942559128602261,
          0.48505744398144435,
          0.7722292463092219,
          0.9453739829739832
         ],
         "b": [
          0.005522283570015316,
          0.08737893248684318,
          0.10369517594155962,
          0.014901902145807814,
          0.13375837106335187,
          0.06558358504205566,
          0.014006442258665715
         ],
         "c": [
          0.0375326577155153,
          0.08249758129665341,
          0.2715892295491795,
          0.04253896925193123,
          0.38118418495520384,
          0.16218716864872262,
          0.040619574767351174
         ],
         "hovertemplate": "<b>%{hovertext}</b><br><br>Type=Emissions<br>Year=2060<br>Ambition (100%)=%{a}<br>Model (100%)=%{b}<br>Scenario (100%)=%{c}<br>text=%{text}<extra></extra>",
         "hovertext": [
          "",
          "CH4",
          "Emissions N2O",
          "",
          "CCS",
          "BECCS",
          ""
         ],
         "legendgroup": "Emissions",
         "marker": {
          "color": "#C0392B",
          "size": 12,
          "symbol": "cross-dot"
         },
         "mode": "markers+text",
         "name": "Emissions",
         "showlegend": true,
         "subplot": "ternary",
         "text": [
          "",
          "CH4",
          "Emissions N2O",
          "",
          "CCS",
          "BECCS",
          ""
         ],
         "textposition": "top center",
         "type": "scatterternary"
        },
        {
         "a": [
          0.6540105574895458
         ],
         "b": [
          0.33187955360625376
         ],
         "c": [
          0.014109888904200354
         ],
         "hovertemplate": "<b>%{hovertext}</b><br><br>Type=Economic<br>Year=2060<br>Ambition (100%)=%{a}<br>Model (100%)=%{b}<br>Scenario (100%)=%{c}<br>text=%{text}<extra></extra>",
         "hovertext": [
          "CTax"
         ],
         "legendgroup": "Economic",
         "marker": {
          "color": "#A3A500",
          "size": 12,
          "symbol": "circle"
         },
         "mode": "markers+text",
         "name": "Economic",
         "showlegend": true,
         "subplot": "ternary",
         "text": [
          "CTax"
         ],
         "textposition": "top center",
         "type": "scatterternary"
        },
        {
         "a": [
          0.5,
          0.5,
          0.5,
          0.5,
          0,
          0.5
         ],
         "b": [
          0.5,
          0.5,
          0,
          0.5,
          0.5,
          0.5
         ],
         "c": [
          0,
          0.5,
          0.5,
          0.5,
          0.5,
          0.5
         ],
         "line": {
          "width": 0.1
         },
         "marker": {
          "color": "black",
          "size": 12
         },
         "mode": "lines",
         "showlegend": false,
         "textposition": "top center",
         "type": "scatterternary"
        },
        {
         "a": [
          0.5,
          0,
          0.5,
          0.5,
          0,
          0.5
         ],
         "b": [
          0,
          0.5,
          0,
          0.5,
          0.5,
          0.5
         ],
         "c": [
          0.5,
          0.5,
          0.5,
          0,
          0.5,
          0
         ],
         "line": {
          "width": 0.1
         },
         "marker": {
          "color": "black",
          "size": 12
         },
         "mode": "lines",
         "showlegend": false,
         "textposition": "top center",
         "type": "scatterternary"
        }
       ],
       "layout": {
        "annotations": [
         {
          "font": {
           "size": 18
          },
          "showarrow": false,
          "text": "→ Scenario →",
          "textangle": 60,
          "x": 0.87,
          "xref": "paper",
          "y": 0.5,
          "yref": "paper"
         },
         {
          "font": {
           "size": 18
          },
          "showarrow": false,
          "text": "← Model ←",
          "textangle": 0,
          "x": 0.5,
          "xref": "paper",
          "y": 0.035,
          "yref": "paper"
         },
         {
          "font": {
           "size": 18
          },
          "showarrow": false,
          "text": "→ Ambition →",
          "textangle": -60,
          "x": 0.15,
          "xref": "paper",
          "y": 0.5,
          "yref": "paper"
         }
        ],
        "height": 1200,
        "legend": {
         "title": {
          "font": {
           "color": "#545454",
           "size": 18
          },
          "text": "Type"
         },
         "tracegroupgap": 0
        },
        "template": {
         "data": {
          "bar": [
           {
            "error_x": {
             "color": "rgb(51,51,51)"
            },
            "error_y": {
             "color": "rgb(51,51,51)"
            },
            "marker": {
             "line": {
              "color": "rgb(237,237,237)",
              "width": 0.5
             },
             "pattern": {
              "fillmode": "overlay",
              "size": 10,
              "solidity": 0.2
             }
            },
            "type": "bar"
           }
          ],
          "barpolar": [
           {
            "marker": {
             "line": {
              "color": "rgb(237,237,237)",
              "width": 0.5
             },
             "pattern": {
              "fillmode": "overlay",
              "size": 10,
              "solidity": 0.2
             }
            },
            "type": "barpolar"
           }
          ],
          "carpet": [
           {
            "aaxis": {
             "endlinecolor": "rgb(51,51,51)",
             "gridcolor": "white",
             "linecolor": "white",
             "minorgridcolor": "white",
             "startlinecolor": "rgb(51,51,51)"
            },
            "baxis": {
             "endlinecolor": "rgb(51,51,51)",
             "gridcolor": "white",
             "linecolor": "white",
             "minorgridcolor": "white",
             "startlinecolor": "rgb(51,51,51)"
            },
            "type": "carpet"
           }
          ],
          "choropleth": [
           {
            "colorbar": {
             "outlinewidth": 0,
             "tickcolor": "rgb(237,237,237)",
             "ticklen": 6,
             "ticks": "inside"
            },
            "type": "choropleth"
           }
          ],
          "contour": [
           {
            "colorbar": {
             "outlinewidth": 0,
             "tickcolor": "rgb(237,237,237)",
             "ticklen": 6,
             "ticks": "inside"
            },
            "colorscale": [
             [
              0,
              "rgb(20,44,66)"
             ],
             [
              1,
              "rgb(90,179,244)"
             ]
            ],
            "type": "contour"
           }
          ],
          "contourcarpet": [
           {
            "colorbar": {
             "outlinewidth": 0,
             "tickcolor": "rgb(237,237,237)",
             "ticklen": 6,
             "ticks": "inside"
            },
            "type": "contourcarpet"
           }
          ],
          "heatmap": [
           {
            "colorbar": {
             "outlinewidth": 0,
             "tickcolor": "rgb(237,237,237)",
             "ticklen": 6,
             "ticks": "inside"
            },
            "colorscale": [
             [
              0,
              "rgb(20,44,66)"
             ],
             [
              1,
              "rgb(90,179,244)"
             ]
            ],
            "type": "heatmap"
           }
          ],
          "heatmapgl": [
           {
            "colorbar": {
             "outlinewidth": 0,
             "tickcolor": "rgb(237,237,237)",
             "ticklen": 6,
             "ticks": "inside"
            },
            "colorscale": [
             [
              0,
              "rgb(20,44,66)"
             ],
             [
              1,
              "rgb(90,179,244)"
             ]
            ],
            "type": "heatmapgl"
           }
          ],
          "histogram": [
           {
            "marker": {
             "pattern": {
              "fillmode": "overlay",
              "size": 10,
              "solidity": 0.2
             }
            },
            "type": "histogram"
           }
          ],
          "histogram2d": [
           {
            "colorbar": {
             "outlinewidth": 0,
             "tickcolor": "rgb(237,237,237)",
             "ticklen": 6,
             "ticks": "inside"
            },
            "colorscale": [
             [
              0,
              "rgb(20,44,66)"
             ],
             [
              1,
              "rgb(90,179,244)"
             ]
            ],
            "type": "histogram2d"
           }
          ],
          "histogram2dcontour": [
           {
            "colorbar": {
             "outlinewidth": 0,
             "tickcolor": "rgb(237,237,237)",
             "ticklen": 6,
             "ticks": "inside"
            },
            "colorscale": [
             [
              0,
              "rgb(20,44,66)"
             ],
             [
              1,
              "rgb(90,179,244)"
             ]
            ],
            "type": "histogram2dcontour"
           }
          ],
          "mesh3d": [
           {
            "colorbar": {
             "outlinewidth": 0,
             "tickcolor": "rgb(237,237,237)",
             "ticklen": 6,
             "ticks": "inside"
            },
            "type": "mesh3d"
           }
          ],
          "parcoords": [
           {
            "line": {
             "colorbar": {
              "outlinewidth": 0,
              "tickcolor": "rgb(237,237,237)",
              "ticklen": 6,
              "ticks": "inside"
             }
            },
            "type": "parcoords"
           }
          ],
          "pie": [
           {
            "automargin": true,
            "type": "pie"
           }
          ],
          "scatter": [
           {
            "fillpattern": {
             "fillmode": "overlay",
             "size": 10,
             "solidity": 0.2
            },
            "type": "scatter"
           }
          ],
          "scatter3d": [
           {
            "line": {
             "colorbar": {
              "outlinewidth": 0,
              "tickcolor": "rgb(237,237,237)",
              "ticklen": 6,
              "ticks": "inside"
             }
            },
            "marker": {
             "colorbar": {
              "outlinewidth": 0,
              "tickcolor": "rgb(237,237,237)",
              "ticklen": 6,
              "ticks": "inside"
             }
            },
            "type": "scatter3d"
           }
          ],
          "scattercarpet": [
           {
            "marker": {
             "colorbar": {
              "outlinewidth": 0,
              "tickcolor": "rgb(237,237,237)",
              "ticklen": 6,
              "ticks": "inside"
             }
            },
            "type": "scattercarpet"
           }
          ],
          "scattergeo": [
           {
            "marker": {
             "colorbar": {
              "outlinewidth": 0,
              "tickcolor": "rgb(237,237,237)",
              "ticklen": 6,
              "ticks": "inside"
             }
            },
            "type": "scattergeo"
           }
          ],
          "scattergl": [
           {
            "marker": {
             "colorbar": {
              "outlinewidth": 0,
              "tickcolor": "rgb(237,237,237)",
              "ticklen": 6,
              "ticks": "inside"
             }
            },
            "type": "scattergl"
           }
          ],
          "scattermapbox": [
           {
            "marker": {
             "colorbar": {
              "outlinewidth": 0,
              "tickcolor": "rgb(237,237,237)",
              "ticklen": 6,
              "ticks": "inside"
             }
            },
            "type": "scattermapbox"
           }
          ],
          "scatterpolar": [
           {
            "marker": {
             "colorbar": {
              "outlinewidth": 0,
              "tickcolor": "rgb(237,237,237)",
              "ticklen": 6,
              "ticks": "inside"
             }
            },
            "type": "scatterpolar"
           }
          ],
          "scatterpolargl": [
           {
            "marker": {
             "colorbar": {
              "outlinewidth": 0,
              "tickcolor": "rgb(237,237,237)",
              "ticklen": 6,
              "ticks": "inside"
             }
            },
            "type": "scatterpolargl"
           }
          ],
          "scatterternary": [
           {
            "marker": {
             "colorbar": {
              "outlinewidth": 0,
              "tickcolor": "rgb(237,237,237)",
              "ticklen": 6,
              "ticks": "inside"
             }
            },
            "type": "scatterternary"
           }
          ],
          "surface": [
           {
            "colorbar": {
             "outlinewidth": 0,
             "tickcolor": "rgb(237,237,237)",
             "ticklen": 6,
             "ticks": "inside"
            },
            "colorscale": [
             [
              0,
              "rgb(20,44,66)"
             ],
             [
              1,
              "rgb(90,179,244)"
             ]
            ],
            "type": "surface"
           }
          ],
          "table": [
           {
            "cells": {
             "fill": {
              "color": "rgb(237,237,237)"
             },
             "line": {
              "color": "white"
             }
            },
            "header": {
             "fill": {
              "color": "rgb(217,217,217)"
             },
             "line": {
              "color": "white"
             }
            },
            "type": "table"
           }
          ]
         },
         "layout": {
          "annotationdefaults": {
           "arrowhead": 0,
           "arrowwidth": 1
          },
          "autotypenumbers": "strict",
          "coloraxis": {
           "colorbar": {
            "outlinewidth": 0,
            "tickcolor": "rgb(237,237,237)",
            "ticklen": 6,
            "ticks": "inside"
           }
          },
          "colorscale": {
           "sequential": [
            [
             0,
             "rgb(20,44,66)"
            ],
            [
             1,
             "rgb(90,179,244)"
            ]
           ],
           "sequentialminus": [
            [
             0,
             "rgb(20,44,66)"
            ],
            [
             1,
             "rgb(90,179,244)"
            ]
           ]
          },
          "colorway": [
           "#F8766D",
           "#A3A500",
           "#00BF7D",
           "#00B0F6",
           "#E76BF3"
          ],
          "font": {
           "color": "rgb(51,51,51)"
          },
          "geo": {
           "bgcolor": "white",
           "lakecolor": "white",
           "landcolor": "rgb(237,237,237)",
           "showlakes": true,
           "showland": true,
           "subunitcolor": "white"
          },
          "hoverlabel": {
           "align": "left"
          },
          "hovermode": "closest",
          "paper_bgcolor": "white",
          "plot_bgcolor": "rgb(237,237,237)",
          "polar": {
           "angularaxis": {
            "gridcolor": "white",
            "linecolor": "white",
            "showgrid": true,
            "tickcolor": "rgb(51,51,51)",
            "ticks": "outside"
           },
           "bgcolor": "rgb(237,237,237)",
           "radialaxis": {
            "gridcolor": "white",
            "linecolor": "white",
            "showgrid": true,
            "tickcolor": "rgb(51,51,51)",
            "ticks": "outside"
           }
          },
          "scene": {
           "xaxis": {
            "backgroundcolor": "rgb(237,237,237)",
            "gridcolor": "white",
            "gridwidth": 2,
            "linecolor": "white",
            "showbackground": true,
            "showgrid": true,
            "tickcolor": "rgb(51,51,51)",
            "ticks": "outside",
            "zerolinecolor": "white"
           },
           "yaxis": {
            "backgroundcolor": "rgb(237,237,237)",
            "gridcolor": "white",
            "gridwidth": 2,
            "linecolor": "white",
            "showbackground": true,
            "showgrid": true,
            "tickcolor": "rgb(51,51,51)",
            "ticks": "outside",
            "zerolinecolor": "white"
           },
           "zaxis": {
            "backgroundcolor": "rgb(237,237,237)",
            "gridcolor": "white",
            "gridwidth": 2,
            "linecolor": "white",
            "showbackground": true,
            "showgrid": true,
            "tickcolor": "rgb(51,51,51)",
            "ticks": "outside",
            "zerolinecolor": "white"
           }
          },
          "shapedefaults": {
           "fillcolor": "black",
           "line": {
            "width": 0
           },
           "opacity": 0.3
          },
          "ternary": {
           "aaxis": {
            "gridcolor": "white",
            "linecolor": "white",
            "showgrid": true,
            "tickcolor": "rgb(51,51,51)",
            "ticks": "outside"
           },
           "baxis": {
            "gridcolor": "white",
            "linecolor": "white",
            "showgrid": true,
            "tickcolor": "rgb(51,51,51)",
            "ticks": "outside"
           },
           "bgcolor": "rgb(237,237,237)",
           "caxis": {
            "gridcolor": "white",
            "linecolor": "white",
            "showgrid": true,
            "tickcolor": "rgb(51,51,51)",
            "ticks": "outside"
           }
          },
          "xaxis": {
           "automargin": true,
           "gridcolor": "white",
           "linecolor": "white",
           "showgrid": true,
           "tickcolor": "rgb(51,51,51)",
           "ticks": "outside",
           "title": {
            "standoff": 15
           },
           "zerolinecolor": "white"
          },
          "yaxis": {
           "automargin": true,
           "gridcolor": "white",
           "linecolor": "white",
           "showgrid": true,
           "tickcolor": "rgb(51,51,51)",
           "ticks": "outside",
           "title": {
            "standoff": 15
           },
           "zerolinecolor": "white"
          }
         }
        },
        "ternary": {
         "aaxis": {
          "title": {
           "text": "Ambition (100%)"
          }
         },
         "baxis": {
          "title": {
           "text": "Model (100%)"
          }
         },
         "caxis": {
          "title": {
           "text": "Scenario (100%)"
          }
         },
         "domain": {
          "x": [
           0,
           1
          ],
          "y": [
           0,
           1
          ]
         }
        },
        "title": {
         "font": {
          "size": 24
         },
         "text": "Summary Ternary Plot - Ambition effects dominance - 2060"
        },
        "width": 1200
       }
      }
     },
     "metadata": {},
     "output_type": "display_data"
    }
   ],
   "source": [
    "# Figure 13: Ternary Plot for all variables 2060, focus on Ambition - cleaned version of the code to match the paper\n",
    "\n",
    "# -----------\n",
    "# Setup the style parameters\n",
    "# -----------\n",
    "sns.set()\n",
    "sns.set_style(\"white\")\n",
    "plt.rcParams['figure.dpi']= 100\n",
    "plt.rcParams['figure.figsize'] = (20,6)\n",
    "plt.rc(\"savefig\", dpi=150)\n",
    "plt.rc(\"font\", size=14)\n",
    "\n",
    "# -----------\n",
    "# Choose columns to plot and filter the data accordingly\n",
    "# -----------\n",
    "cols = [ \n",
    "    'Variable',\n",
    "    'Year',\n",
    "    'R2_Amb_Shapley_norm',\n",
    "    'R2_Mod_Shapley_norm',\n",
    "    'R2_Scen_Shapley_norm',\n",
    "    'Type'\n",
    "    ]\n",
    "\n",
    "data = df_all[cols]\n",
    "\n",
    "# -----------\n",
    "# Rename the variables to be plotted for better readability\n",
    "# -----------\n",
    "var_name_replacements = {\n",
    "    'Emissions CO2 Carbon Capture and Storage': 'CCS',\n",
    "    'Primary Energy': '',\n",
    "    'Final Energy': 'FE Total',\n",
    "    'Primary Energy Unabated Gas': 'PE Unabated Gas',\n",
    "    'Emissions CO2 Carbon Capture and Storage Biomass': 'BECCS',\n",
    "    'Primary Energy Fossil': '',\n",
    "    'Primary Energy Biomass w CCS': 'PE Biomass w CCS',\n",
    "    'Primary Energy Gas': '',\n",
    "    'Primary Energy Solar': 'PE Solar',\n",
    "    'Primary Energy Unabated Fossil': '',\n",
    "    'Primary Energy Unabated Oil': '',\n",
    "    'Primary Energy Biomass': 'PE Biomass',\n",
    "    'Final Energy Electrification': 'FE Electrification',\n",
    "    'Emissions CH4': 'CH4',\n",
    "    'Primary Energy Coal': '',\n",
    "    'Final Energy Gases': 'FE Gases',\n",
    "    'Emissions Kyoto Gases': '',\n",
    "    'Primary Energy Unabated Coal': '',\n",
    "    'Emissions CO2 Fossil Fuels and Industry': '',\n",
    "    'Emissions CO2': '',\n",
    "    'Price Carbon': 'CTax',\n",
    "    'Final Energy Hydrogen': 'FE Hydrogen',\n",
    "    'Final Energy Liquids': 'FE Liquids',\n",
    "    'Primary Energy Gas w CCS': 'Gas w CCS',\n",
    "\n",
    "\n",
    "    }\n",
    "\n",
    "# Replace values in the \"Variable\" column using dictionary\n",
    "data['Variable'] = data['Variable'].replace(var_name_replacements)\n",
    "\n",
    "# -----------\n",
    "# Filter the data to show only the needed data points that highlight the Ambition effects dominance\n",
    "# -----------\n",
    "data = data.query('Year == 2060 and R2_Amb_Shapley_norm >= 0.3 and R2_Scen_Shapley_norm < 0.5 and R2_Mod_Shapley_norm < 0.5')\\\n",
    "            .query('Variable != \"Primary Energy Non Biomass Renewables\"')\\\n",
    "\n",
    "# -----------\n",
    "# Plot the data\n",
    "# -----------\n",
    "fig = px.scatter_ternary(\n",
    "    data.query('Year ==2060'), \n",
    "    a=\"R2_Amb_Shapley_norm\", \n",
    "    b=\"R2_Mod_Shapley_norm\", \n",
    "    c=\"R2_Scen_Shapley_norm\",\n",
    "    symbol=\"Type\",\n",
    "    color='Type',\n",
    "    template= \"ggplot2\",\n",
    "    symbol_map={\"Emissions\":\"cross-dot\", 'Final Energy':'hexagon-dot',\"Fossil\":\"x\",\"Non-fossil\":\"star-dot\",\"Land\":\"square-x\"},\n",
    "    color_discrete_map={\"Emissions\":\"#C0392B\", \"Non-Fossil\":\"#F4D03F\", 'Final Energy':'#52BE80',\"Fossil\":\"#5D6D7E\",\"Land\":\"LightSkyBlue\"},\n",
    "    labels={\"R2_Amb_Shapley_norm\": \"Ambition (100%)\",\n",
    "            \"R2_Mod_Shapley_norm\": \"Model (100%)\",\n",
    "            \"R2_Scen_Shapley_norm\": \"Scenario (100%)\"},\n",
    "    title=\"Summary Ternary Plot - Ambition effects dominance - 2060\",\n",
    "    hover_name='Variable',\n",
    "    text= data['Variable'],\n",
    "    animation_frame='Year',\n",
    "    width=1200,\n",
    "    height=1200,\n",
    "    )\n",
    "\n",
    "# -----------\n",
    "# Lines connecting mid-point of each axis to mid-point of the plot\n",
    "# -----------\n",
    "fig.add_trace(\n",
    "    go.Scatterternary(a=[0.5, 0.5,0.5, 0.5,0, 0.5],\n",
    "                      b=[0.5, 0.5,0, 0.5,0.5, 0.5],\n",
    "                      c=[0, 0.5,0.5, 0.5,0.5, 0.5],\n",
    "                      mode='lines',\n",
    "                      marker=dict(color='black'),\n",
    "                      line=dict(width=0.1),\n",
    "                      showlegend=False,\n",
    "                      )\n",
    "                )\n",
    "\n",
    "# Lines connecting mid-points of all axes together\n",
    "fig.add_trace(\n",
    "    go.Scatterternary(a=[0.5, 0,0.5, 0.5,0, 0.5],\n",
    "                      b=[0, 0.5,0, 0.5,0.5, 0.5],\n",
    "                      c=[0.5, 0.5,0.5, 0,0.5, 0],\n",
    "                      mode='lines',\n",
    "                      marker=dict(color='black'),\n",
    "                      line=dict(width=0.1),\n",
    "                      showlegend=False,\n",
    "                      \n",
    "                      )\n",
    "                )\n",
    "\n",
    "fig.update_traces(\n",
    "    marker=dict(\n",
    "        size=12),\n",
    "    textposition='top center'\n",
    "    )\n",
    "# Add annotations and visual elements\n",
    "fig.update_layout(\n",
    "    legend_title=\"Type\",\n",
    "    legend_title_font_color=\"#545454\",\n",
    "    legend_title_font_size=18,\n",
    "    title_font_size=24,\n",
    "    annotations=[\n",
    "        dict(\n",
    "            x=0.87,\n",
    "            y=0.5,\n",
    "            xref=\"paper\",\n",
    "            yref=\"paper\",\n",
    "            text=\"\\u2192 Scenario \\u2192\",\n",
    "            showarrow=False,\n",
    "            font=dict(\n",
    "                size=18,\n",
    "            ),\n",
    "            textangle=60\n",
    "        ),\n",
    "        dict(\n",
    "            x=0.5,\n",
    "            y=0.035,\n",
    "            xref=\"paper\",\n",
    "            yref=\"paper\",\n",
    "            text=\"\\u2190 Model \\u2190\",\n",
    "            showarrow=False,\n",
    "            font=dict(\n",
    "                size=18,\n",
    "            ),\n",
    "            textangle=0\n",
    "        ),\n",
    "        dict(\n",
    "            x=0.15,\n",
    "            y=0.5,\n",
    "            xref=\"paper\",\n",
    "            yref=\"paper\",\n",
    "            text=\"\\u2192 Ambition \\u2192\",\n",
    "            showarrow=False,\n",
    "            font=dict(\n",
    "                size=18,\n",
    "            ),\n",
    "            textangle=-60\n",
    "        )\n",
    "\n",
    "    ]\n",
    ")\n",
    "\n",
    "fig.show()\n",
    "\n",
    "# Save the plot\n",
    "fig.write_image(\"Figure_13_Ternary_Plot_2060_Ambition_Effects.png\")\n"
   ]
  },
  {
   "cell_type": "code",
   "execution_count": 18,
   "metadata": {},
   "outputs": [
    {
     "data": {
      "application/vnd.plotly.v1+json": {
       "config": {
        "plotlyServerURL": "https://plot.ly"
       },
       "data": [
        {
         "a": [
          0.4840793089391553,
          0.7579206343092577,
          0.8873657830331961,
          0.8643620301402961,
          0.9313811604411175,
          0.5350746725430966,
          0.5883112128680714,
          0.44846424436756993,
          0.46301481578872894,
          0.6903651410588121
         ],
         "b": [
          0.12775525684767464,
          0.054054187903661476,
          0.04415163727959408,
          0.05149009941180581,
          0.028673993534863617,
          0.1869444650433939,
          0.17633757691127053,
          0.33685932344788405,
          0.08472223221873093,
          0.24625797506865393
         ],
         "c": [
          0.3881654342131701,
          0.18802517778708072,
          0.06848257968720983,
          0.08414787044789805,
          0.03994484602401884,
          0.2779808624135095,
          0.23535121022065802,
          0.214676432184546,
          0.4522629519925401,
          0.06337688387253405
         ],
         "hovertemplate": "<b>%{hovertext}</b><br><br>Type=Fossil<br>Year=2060<br>Ambition (100%)=%{a}<br>Model (100%)=%{b}<br>Scenario (100%)=%{c}<br>text=%{text}<extra></extra>",
         "hovertext": [
          "Primary Energy",
          "Primary Energy Fossil",
          "Primary Energy Unabated Fossil",
          "Primary Energy Coal",
          "Primary Energy Unabated Coal",
          "Primary Energy Oil",
          "Primary Energy Unabated Oil",
          "Primary Energy Gas",
          "Primary Energy Gas w CCS",
          "Primary Energy Unabated Gas"
         ],
         "legendgroup": "Fossil",
         "marker": {
          "color": "#5D6D7E",
          "size": 12,
          "symbol": "x"
         },
         "mode": "markers+text",
         "name": "Fossil",
         "showlegend": true,
         "subplot": "ternary",
         "text": [
          "Primary Energy",
          "Primary Energy Fossil",
          "Primary Energy Unabated Fossil",
          "Primary Energy Coal",
          "Primary Energy Unabated Coal",
          "Primary Energy Oil",
          "Primary Energy Unabated Oil",
          "Primary Energy Gas",
          "Primary Energy Gas w CCS",
          "Primary Energy Unabated Gas"
         ],
         "textposition": "bottom center",
         "type": "scatterternary"
        },
        {
         "a": [
          0.45184915736777637,
          0.5914488116093717,
          0.6669757517364977
         ],
         "b": [
          0.32367489485519446,
          0.18951302926601535,
          0.19409100617425135
         ],
         "c": [
          0.22447594777702914,
          0.21903815912461297,
          0.13893324208925084
         ],
         "hovertemplate": "<b>%{hovertext}</b><br><br>Type=Non-fossil<br>Year=2060<br>Ambition (100%)=%{a}<br>Model (100%)=%{b}<br>Scenario (100%)=%{c}<br>text=%{text}<extra></extra>",
         "hovertext": [
          "Primary Energy Solar",
          "Primary Energy Biomass",
          "Primary Energy Biomass w CCS"
         ],
         "legendgroup": "Non-fossil",
         "marker": {
          "color": "#F8766D",
          "size": 12,
          "symbol": "star-dot"
         },
         "mode": "markers+text",
         "name": "Non-fossil",
         "showlegend": true,
         "subplot": "ternary",
         "text": [
          "Primary Energy Solar",
          "Primary Energy Biomass",
          "Primary Energy Biomass w CCS"
         ],
         "textposition": "bottom center",
         "type": "scatterternary"
        },
        {
         "a": [
          0.46507209429249596,
          0.6033859912897843,
          0.44306986530207765,
          0.36398489073283335,
          0.7311513961995617,
          0.6377623842556689
         ],
         "b": [
          0.17783613902811057,
          0.27824007797512634,
          0.23314975226298193,
          0.299565229449772,
          0.1781038508426023,
          0.25754974976082673
         ],
         "c": [
          0.35709176667939346,
          0.11837393073508927,
          0.32378038243494045,
          0.3364498798173947,
          0.09074475295783606,
          0.1046878659835044
         ],
         "hovertemplate": "<b>%{hovertext}</b><br><br>Type=Final Energy<br>Year=2060<br>Ambition (100%)=%{a}<br>Model (100%)=%{b}<br>Scenario (100%)=%{c}<br>text=%{text}<extra></extra>",
         "hovertext": [
          "Final Energy",
          "Final Energy Gases",
          "Final Energy Liquids",
          "Final Energy Solids",
          "Final Energy Hydrogen",
          "Final Energy Electrification"
         ],
         "legendgroup": "Final Energy",
         "marker": {
          "color": "#52BE80",
          "size": 12,
          "symbol": "hexagon-dot"
         },
         "mode": "markers+text",
         "name": "Final Energy",
         "showlegend": true,
         "subplot": "ternary",
         "text": [
          "Final Energy",
          "Final Energy Gases",
          "Final Energy Liquids",
          "Final Energy Solids",
          "Final Energy Hydrogen",
          "Final Energy Electrification"
         ],
         "textposition": "bottom center",
         "type": "scatterternary"
        },
        {
         "a": [
          0.9569450587144694,
          0.8301234862165034,
          0.624715594509261,
          0.942559128602261,
          0.48505744398144435,
          0.7722292463092219,
          0.9453739829739832
         ],
         "b": [
          0.005522283570015316,
          0.08737893248684318,
          0.10369517594155962,
          0.014901902145807814,
          0.13375837106335187,
          0.06558358504205566,
          0.014006442258665715
         ],
         "c": [
          0.0375326577155153,
          0.08249758129665341,
          0.2715892295491795,
          0.04253896925193123,
          0.38118418495520384,
          0.16218716864872262,
          0.040619574767351174
         ],
         "hovertemplate": "<b>%{hovertext}</b><br><br>Type=Emissions<br>Year=2060<br>Ambition (100%)=%{a}<br>Model (100%)=%{b}<br>Scenario (100%)=%{c}<br>text=%{text}<extra></extra>",
         "hovertext": [
          "Emissions CO2",
          "Emissions CH4",
          "Emissions N2O",
          "Emissions Kyoto Gases",
          "Emissions CO2 Carbon Capture and Storage",
          "Emissions CO2 Carbon Capture and Storage Biomass",
          "Emissions CO2 Fossil Fuels and Industry"
         ],
         "legendgroup": "Emissions",
         "marker": {
          "color": "#C0392B",
          "size": 12,
          "symbol": "cross-dot"
         },
         "mode": "markers+text",
         "name": "Emissions",
         "showlegend": true,
         "subplot": "ternary",
         "text": [
          "Emissions CO2",
          "Emissions CH4",
          "Emissions N2O",
          "Emissions Kyoto Gases",
          "Emissions CO2 Carbon Capture and Storage",
          "Emissions CO2 Carbon Capture and Storage Biomass",
          "Emissions CO2 Fossil Fuels and Industry"
         ],
         "textposition": "bottom center",
         "type": "scatterternary"
        },
        {
         "a": [
          0.6540105574895458
         ],
         "b": [
          0.33187955360625376
         ],
         "c": [
          0.014109888904200354
         ],
         "hovertemplate": "<b>%{hovertext}</b><br><br>Type=Economic<br>Year=2060<br>Ambition (100%)=%{a}<br>Model (100%)=%{b}<br>Scenario (100%)=%{c}<br>text=%{text}<extra></extra>",
         "hovertext": [
          "Price Carbon"
         ],
         "legendgroup": "Economic",
         "marker": {
          "color": "#A3A500",
          "size": 12,
          "symbol": "circle"
         },
         "mode": "markers+text",
         "name": "Economic",
         "showlegend": true,
         "subplot": "ternary",
         "text": [
          "Price Carbon"
         ],
         "textposition": "bottom center",
         "type": "scatterternary"
        },
        {
         "a": [
          0.5,
          0.5,
          0.5,
          0.5,
          0,
          0.5
         ],
         "b": [
          0.5,
          0.5,
          0,
          0.5,
          0.5,
          0.5
         ],
         "c": [
          0,
          0.5,
          0.5,
          0.5,
          0.5,
          0.5
         ],
         "line": {
          "width": 0.1
         },
         "marker": {
          "color": "black",
          "size": 12
         },
         "mode": "lines",
         "showlegend": false,
         "textposition": "bottom center",
         "type": "scatterternary"
        },
        {
         "a": [
          0.5,
          0,
          0.5,
          0.5,
          0,
          0.5
         ],
         "b": [
          0,
          0.5,
          0,
          0.5,
          0.5,
          0.5
         ],
         "c": [
          0.5,
          0.5,
          0.5,
          0,
          0.5,
          0
         ],
         "line": {
          "width": 0.1
         },
         "marker": {
          "color": "black",
          "size": 12
         },
         "mode": "lines",
         "showlegend": false,
         "textposition": "bottom center",
         "type": "scatterternary"
        }
       ],
       "layout": {
        "annotations": [
         {
          "font": {
           "size": 18
          },
          "showarrow": false,
          "text": "→ Scenario →",
          "textangle": 60,
          "x": 0.87,
          "xref": "paper",
          "y": 0.5,
          "yref": "paper"
         },
         {
          "font": {
           "size": 18
          },
          "showarrow": false,
          "text": "← Model ←",
          "textangle": 0,
          "x": 0.5,
          "xref": "paper",
          "y": 0.035,
          "yref": "paper"
         },
         {
          "font": {
           "size": 18
          },
          "showarrow": false,
          "text": "→ Ambition →",
          "textangle": -60,
          "x": 0.15,
          "xref": "paper",
          "y": 0.5,
          "yref": "paper"
         }
        ],
        "height": 1200,
        "legend": {
         "title": {
          "font": {
           "color": "#545454",
           "size": 18
          },
          "text": "Type"
         },
         "tracegroupgap": 0
        },
        "template": {
         "data": {
          "bar": [
           {
            "error_x": {
             "color": "rgb(51,51,51)"
            },
            "error_y": {
             "color": "rgb(51,51,51)"
            },
            "marker": {
             "line": {
              "color": "rgb(237,237,237)",
              "width": 0.5
             },
             "pattern": {
              "fillmode": "overlay",
              "size": 10,
              "solidity": 0.2
             }
            },
            "type": "bar"
           }
          ],
          "barpolar": [
           {
            "marker": {
             "line": {
              "color": "rgb(237,237,237)",
              "width": 0.5
             },
             "pattern": {
              "fillmode": "overlay",
              "size": 10,
              "solidity": 0.2
             }
            },
            "type": "barpolar"
           }
          ],
          "carpet": [
           {
            "aaxis": {
             "endlinecolor": "rgb(51,51,51)",
             "gridcolor": "white",
             "linecolor": "white",
             "minorgridcolor": "white",
             "startlinecolor": "rgb(51,51,51)"
            },
            "baxis": {
             "endlinecolor": "rgb(51,51,51)",
             "gridcolor": "white",
             "linecolor": "white",
             "minorgridcolor": "white",
             "startlinecolor": "rgb(51,51,51)"
            },
            "type": "carpet"
           }
          ],
          "choropleth": [
           {
            "colorbar": {
             "outlinewidth": 0,
             "tickcolor": "rgb(237,237,237)",
             "ticklen": 6,
             "ticks": "inside"
            },
            "type": "choropleth"
           }
          ],
          "contour": [
           {
            "colorbar": {
             "outlinewidth": 0,
             "tickcolor": "rgb(237,237,237)",
             "ticklen": 6,
             "ticks": "inside"
            },
            "colorscale": [
             [
              0,
              "rgb(20,44,66)"
             ],
             [
              1,
              "rgb(90,179,244)"
             ]
            ],
            "type": "contour"
           }
          ],
          "contourcarpet": [
           {
            "colorbar": {
             "outlinewidth": 0,
             "tickcolor": "rgb(237,237,237)",
             "ticklen": 6,
             "ticks": "inside"
            },
            "type": "contourcarpet"
           }
          ],
          "heatmap": [
           {
            "colorbar": {
             "outlinewidth": 0,
             "tickcolor": "rgb(237,237,237)",
             "ticklen": 6,
             "ticks": "inside"
            },
            "colorscale": [
             [
              0,
              "rgb(20,44,66)"
             ],
             [
              1,
              "rgb(90,179,244)"
             ]
            ],
            "type": "heatmap"
           }
          ],
          "heatmapgl": [
           {
            "colorbar": {
             "outlinewidth": 0,
             "tickcolor": "rgb(237,237,237)",
             "ticklen": 6,
             "ticks": "inside"
            },
            "colorscale": [
             [
              0,
              "rgb(20,44,66)"
             ],
             [
              1,
              "rgb(90,179,244)"
             ]
            ],
            "type": "heatmapgl"
           }
          ],
          "histogram": [
           {
            "marker": {
             "pattern": {
              "fillmode": "overlay",
              "size": 10,
              "solidity": 0.2
             }
            },
            "type": "histogram"
           }
          ],
          "histogram2d": [
           {
            "colorbar": {
             "outlinewidth": 0,
             "tickcolor": "rgb(237,237,237)",
             "ticklen": 6,
             "ticks": "inside"
            },
            "colorscale": [
             [
              0,
              "rgb(20,44,66)"
             ],
             [
              1,
              "rgb(90,179,244)"
             ]
            ],
            "type": "histogram2d"
           }
          ],
          "histogram2dcontour": [
           {
            "colorbar": {
             "outlinewidth": 0,
             "tickcolor": "rgb(237,237,237)",
             "ticklen": 6,
             "ticks": "inside"
            },
            "colorscale": [
             [
              0,
              "rgb(20,44,66)"
             ],
             [
              1,
              "rgb(90,179,244)"
             ]
            ],
            "type": "histogram2dcontour"
           }
          ],
          "mesh3d": [
           {
            "colorbar": {
             "outlinewidth": 0,
             "tickcolor": "rgb(237,237,237)",
             "ticklen": 6,
             "ticks": "inside"
            },
            "type": "mesh3d"
           }
          ],
          "parcoords": [
           {
            "line": {
             "colorbar": {
              "outlinewidth": 0,
              "tickcolor": "rgb(237,237,237)",
              "ticklen": 6,
              "ticks": "inside"
             }
            },
            "type": "parcoords"
           }
          ],
          "pie": [
           {
            "automargin": true,
            "type": "pie"
           }
          ],
          "scatter": [
           {
            "fillpattern": {
             "fillmode": "overlay",
             "size": 10,
             "solidity": 0.2
            },
            "type": "scatter"
           }
          ],
          "scatter3d": [
           {
            "line": {
             "colorbar": {
              "outlinewidth": 0,
              "tickcolor": "rgb(237,237,237)",
              "ticklen": 6,
              "ticks": "inside"
             }
            },
            "marker": {
             "colorbar": {
              "outlinewidth": 0,
              "tickcolor": "rgb(237,237,237)",
              "ticklen": 6,
              "ticks": "inside"
             }
            },
            "type": "scatter3d"
           }
          ],
          "scattercarpet": [
           {
            "marker": {
             "colorbar": {
              "outlinewidth": 0,
              "tickcolor": "rgb(237,237,237)",
              "ticklen": 6,
              "ticks": "inside"
             }
            },
            "type": "scattercarpet"
           }
          ],
          "scattergeo": [
           {
            "marker": {
             "colorbar": {
              "outlinewidth": 0,
              "tickcolor": "rgb(237,237,237)",
              "ticklen": 6,
              "ticks": "inside"
             }
            },
            "type": "scattergeo"
           }
          ],
          "scattergl": [
           {
            "marker": {
             "colorbar": {
              "outlinewidth": 0,
              "tickcolor": "rgb(237,237,237)",
              "ticklen": 6,
              "ticks": "inside"
             }
            },
            "type": "scattergl"
           }
          ],
          "scattermapbox": [
           {
            "marker": {
             "colorbar": {
              "outlinewidth": 0,
              "tickcolor": "rgb(237,237,237)",
              "ticklen": 6,
              "ticks": "inside"
             }
            },
            "type": "scattermapbox"
           }
          ],
          "scatterpolar": [
           {
            "marker": {
             "colorbar": {
              "outlinewidth": 0,
              "tickcolor": "rgb(237,237,237)",
              "ticklen": 6,
              "ticks": "inside"
             }
            },
            "type": "scatterpolar"
           }
          ],
          "scatterpolargl": [
           {
            "marker": {
             "colorbar": {
              "outlinewidth": 0,
              "tickcolor": "rgb(237,237,237)",
              "ticklen": 6,
              "ticks": "inside"
             }
            },
            "type": "scatterpolargl"
           }
          ],
          "scatterternary": [
           {
            "marker": {
             "colorbar": {
              "outlinewidth": 0,
              "tickcolor": "rgb(237,237,237)",
              "ticklen": 6,
              "ticks": "inside"
             }
            },
            "type": "scatterternary"
           }
          ],
          "surface": [
           {
            "colorbar": {
             "outlinewidth": 0,
             "tickcolor": "rgb(237,237,237)",
             "ticklen": 6,
             "ticks": "inside"
            },
            "colorscale": [
             [
              0,
              "rgb(20,44,66)"
             ],
             [
              1,
              "rgb(90,179,244)"
             ]
            ],
            "type": "surface"
           }
          ],
          "table": [
           {
            "cells": {
             "fill": {
              "color": "rgb(237,237,237)"
             },
             "line": {
              "color": "white"
             }
            },
            "header": {
             "fill": {
              "color": "rgb(217,217,217)"
             },
             "line": {
              "color": "white"
             }
            },
            "type": "table"
           }
          ]
         },
         "layout": {
          "annotationdefaults": {
           "arrowhead": 0,
           "arrowwidth": 1
          },
          "autotypenumbers": "strict",
          "coloraxis": {
           "colorbar": {
            "outlinewidth": 0,
            "tickcolor": "rgb(237,237,237)",
            "ticklen": 6,
            "ticks": "inside"
           }
          },
          "colorscale": {
           "sequential": [
            [
             0,
             "rgb(20,44,66)"
            ],
            [
             1,
             "rgb(90,179,244)"
            ]
           ],
           "sequentialminus": [
            [
             0,
             "rgb(20,44,66)"
            ],
            [
             1,
             "rgb(90,179,244)"
            ]
           ]
          },
          "colorway": [
           "#F8766D",
           "#A3A500",
           "#00BF7D",
           "#00B0F6",
           "#E76BF3"
          ],
          "font": {
           "color": "rgb(51,51,51)"
          },
          "geo": {
           "bgcolor": "white",
           "lakecolor": "white",
           "landcolor": "rgb(237,237,237)",
           "showlakes": true,
           "showland": true,
           "subunitcolor": "white"
          },
          "hoverlabel": {
           "align": "left"
          },
          "hovermode": "closest",
          "paper_bgcolor": "white",
          "plot_bgcolor": "rgb(237,237,237)",
          "polar": {
           "angularaxis": {
            "gridcolor": "white",
            "linecolor": "white",
            "showgrid": true,
            "tickcolor": "rgb(51,51,51)",
            "ticks": "outside"
           },
           "bgcolor": "rgb(237,237,237)",
           "radialaxis": {
            "gridcolor": "white",
            "linecolor": "white",
            "showgrid": true,
            "tickcolor": "rgb(51,51,51)",
            "ticks": "outside"
           }
          },
          "scene": {
           "xaxis": {
            "backgroundcolor": "rgb(237,237,237)",
            "gridcolor": "white",
            "gridwidth": 2,
            "linecolor": "white",
            "showbackground": true,
            "showgrid": true,
            "tickcolor": "rgb(51,51,51)",
            "ticks": "outside",
            "zerolinecolor": "white"
           },
           "yaxis": {
            "backgroundcolor": "rgb(237,237,237)",
            "gridcolor": "white",
            "gridwidth": 2,
            "linecolor": "white",
            "showbackground": true,
            "showgrid": true,
            "tickcolor": "rgb(51,51,51)",
            "ticks": "outside",
            "zerolinecolor": "white"
           },
           "zaxis": {
            "backgroundcolor": "rgb(237,237,237)",
            "gridcolor": "white",
            "gridwidth": 2,
            "linecolor": "white",
            "showbackground": true,
            "showgrid": true,
            "tickcolor": "rgb(51,51,51)",
            "ticks": "outside",
            "zerolinecolor": "white"
           }
          },
          "shapedefaults": {
           "fillcolor": "black",
           "line": {
            "width": 0
           },
           "opacity": 0.3
          },
          "ternary": {
           "aaxis": {
            "gridcolor": "white",
            "linecolor": "white",
            "showgrid": true,
            "tickcolor": "rgb(51,51,51)",
            "ticks": "outside"
           },
           "baxis": {
            "gridcolor": "white",
            "linecolor": "white",
            "showgrid": true,
            "tickcolor": "rgb(51,51,51)",
            "ticks": "outside"
           },
           "bgcolor": "rgb(237,237,237)",
           "caxis": {
            "gridcolor": "white",
            "linecolor": "white",
            "showgrid": true,
            "tickcolor": "rgb(51,51,51)",
            "ticks": "outside"
           }
          },
          "xaxis": {
           "automargin": true,
           "gridcolor": "white",
           "linecolor": "white",
           "showgrid": true,
           "tickcolor": "rgb(51,51,51)",
           "ticks": "outside",
           "title": {
            "standoff": 15
           },
           "zerolinecolor": "white"
          },
          "yaxis": {
           "automargin": true,
           "gridcolor": "white",
           "linecolor": "white",
           "showgrid": true,
           "tickcolor": "rgb(51,51,51)",
           "ticks": "outside",
           "title": {
            "standoff": 15
           },
           "zerolinecolor": "white"
          }
         }
        },
        "ternary": {
         "aaxis": {
          "title": {
           "text": "Ambition (100%)"
          }
         },
         "baxis": {
          "title": {
           "text": "Model (100%)"
          }
         },
         "caxis": {
          "title": {
           "text": "Scenario (100%)"
          }
         },
         "domain": {
          "x": [
           0,
           1
          ],
          "y": [
           0,
           1
          ]
         }
        },
        "title": {
         "font": {
          "size": 24
         },
         "text": "Summary - Shapley-Owen Decomposition - 2060 All Variables - Ambition effects"
        },
        "width": 1200
       }
      }
     },
     "metadata": {},
     "output_type": "display_data"
    }
   ],
   "source": [
    "# Figure 13: Ternary Plot for all variables 2060, focus on Ambition - full version with all the labels\n",
    "\n",
    "# -----------\n",
    "# Setup the style parameters\n",
    "# -----------\n",
    "sns.set()\n",
    "sns.set_style(\"white\")\n",
    "plt.rcParams['figure.dpi']= 100\n",
    "plt.rcParams['figure.figsize'] = (20,6)\n",
    "plt.rc(\"savefig\", dpi=150)\n",
    "plt.rc(\"font\", size=14)\n",
    "\n",
    "# -----------\n",
    "# Choose columns to plot and filter the data accordingly\n",
    "# -----------\n",
    "cols = [ \n",
    "    'Variable',\n",
    "    'Year',\n",
    "    'R2_Amb_Shapley_norm',\n",
    "    'R2_Mod_Shapley_norm',\n",
    "    'R2_Scen_Shapley_norm',\n",
    "    'Type'\n",
    "    ]\n",
    "\n",
    "data = df_all[cols]\n",
    "\n",
    "# -----------\n",
    "# Filter the data to show only the needed data points that highlight the Ambition effects dominance\n",
    "# -----------\n",
    "data = data.query('Year == 2060 and R2_Amb_Shapley_norm >= 0.3 and R2_Scen_Shapley_norm < 0.5 and R2_Mod_Shapley_norm < 0.5')\\\n",
    "            .query('Variable != \"Primary Energy Non Biomass Renewables\"')\\\n",
    "\n",
    "# -----------\n",
    "# Plot the data\n",
    "# -----------\n",
    "fig = px.scatter_ternary(data.query('Year ==2060'), \n",
    "    a=\"R2_Amb_Shapley_norm\", \n",
    "    b=\"R2_Mod_Shapley_norm\", \n",
    "    c=\"R2_Scen_Shapley_norm\",\n",
    "    symbol=\"Type\",\n",
    "    color='Type',\n",
    "    template=\"ggplot2\",\n",
    "    symbol_map={\"Emissions\":\"cross-dot\", 'Final Energy':'hexagon-dot',\"Fossil\":\"x\",\"Non-fossil\":\"star-dot\",\"Land\":\"square-x\"},\n",
    "    color_discrete_map={\"Emissions\":\"#C0392B\", \"Non-Fossil\":\"#F4D03F\", 'Final Energy':'#52BE80',\"Fossil\":\"#5D6D7E\",\"Land\":\"LightSkyBlue\"},\n",
    "    labels={\"R2_Amb_Shapley_norm\": \"Ambition (100%)\",\n",
    "            \"R2_Mod_Shapley_norm\": \"Model (100%)\",\n",
    "            \"R2_Scen_Shapley_norm\": \"Scenario (100%)\"},\n",
    "    title=\"Summary - Shapley-Owen Decomposition - 2060 All Variables - Ambition effects\",\n",
    "    text=['' if x == '' else x for x in data['Variable']],\n",
    "    hover_name='Variable',\n",
    "    animation_frame='Year',\n",
    "    width=1200,\n",
    "    height=1200\n",
    "    )\n",
    "\n",
    "# Lines connecting mid-point of each axis to mid-point of the plot\n",
    "fig.add_trace(\n",
    "    go.Scatterternary(a=[0.5, 0.5,0.5, 0.5,0, 0.5],\n",
    "                      b=[0.5, 0.5,0, 0.5,0.5, 0.5],\n",
    "                      c=[0, 0.5,0.5, 0.5,0.5, 0.5],\n",
    "                      mode='lines',\n",
    "                      marker=dict(color='black'),\n",
    "                      line=dict(width=0.1),\n",
    "                      showlegend=False,\n",
    "                      )\n",
    "                )\n",
    "\n",
    "# Lines connecting mid-points of all axes together\n",
    "fig.add_trace(\n",
    "    go.Scatterternary(a=[0.5, 0,0.5, 0.5,0, 0.5],\n",
    "                      b=[0, 0.5,0, 0.5,0.5, 0.5],\n",
    "                      c=[0.5, 0.5,0.5, 0,0.5, 0],\n",
    "                      mode='lines',\n",
    "                      marker=dict(color='black'),\n",
    "                      line=dict(width=0.1),\n",
    "                      showlegend=False,\n",
    "                      \n",
    "                      )\n",
    "                )\n",
    "\n",
    "fig.update_traces(\n",
    "    marker=dict(\n",
    "        size=12),\n",
    "    textposition='bottom center')\n",
    "\n",
    "# Add annotations and visual elements\n",
    "fig.update_layout(\n",
    "    legend_title=\"Type\",\n",
    "    legend_title_font_color=\"#545454\",\n",
    "    legend_title_font_size=18,\n",
    "    title_font_size=24,\n",
    "    annotations=[\n",
    "        dict(\n",
    "            x=0.87,\n",
    "            y=0.5,\n",
    "            xref=\"paper\",\n",
    "            yref=\"paper\",\n",
    "            text=\"\\u2192 Scenario \\u2192\",\n",
    "            showarrow=False,\n",
    "            font=dict(\n",
    "                size=18,\n",
    "            ),\n",
    "            textangle=60\n",
    "        ),\n",
    "        dict(\n",
    "            x=0.5,\n",
    "            y=0.035,\n",
    "            xref=\"paper\",\n",
    "            yref=\"paper\",\n",
    "            text=\"\\u2190 Model \\u2190\",\n",
    "            showarrow=False,\n",
    "            font=dict(\n",
    "                size=18,\n",
    "            ),\n",
    "            textangle=0\n",
    "        ),\n",
    "        dict(\n",
    "            x=0.15,\n",
    "            y=0.5,\n",
    "            xref=\"paper\",\n",
    "            yref=\"paper\",\n",
    "            text=\"\\u2192 Ambition \\u2192\",\n",
    "            showarrow=False,\n",
    "            font=dict(\n",
    "                size=18,\n",
    "            ),\n",
    "            textangle=-60\n",
    "        )\n",
    "\n",
    "    ]\n",
    ")\n",
    "\n",
    "fig.show()\n",
    "\n",
    "# Save the plot\n",
    "fig.write_image(\"Figure_13_Ternary_Plot_2060_full_labels_Ambition_Effects.png\")"
   ]
  },
  {
   "cell_type": "markdown",
   "metadata": {},
   "source": [
    "Figure 14: Ternary Plot – Focus on the Scenario Factor effects 2060"
   ]
  },
  {
   "cell_type": "code",
   "execution_count": 19,
   "metadata": {},
   "outputs": [
    {
     "name": "stderr",
     "output_type": "stream",
     "text": [
      "C:\\Users\\aalkhour\\AppData\\Local\\Temp\\ipykernel_25696\\2446770824.py:36: SettingWithCopyWarning:\n",
      "\n",
      "\n",
      "A value is trying to be set on a copy of a slice from a DataFrame.\n",
      "Try using .loc[row_indexer,col_indexer] = value instead\n",
      "\n",
      "See the caveats in the documentation: https://pandas.pydata.org/pandas-docs/stable/user_guide/indexing.html#returning-a-view-versus-a-copy\n",
      "\n"
     ]
    },
    {
     "data": {
      "application/vnd.plotly.v1+json": {
       "config": {
        "plotlyServerURL": "https://plot.ly"
       },
       "data": [
        {
         "a": [
          0.2623466340921003
         ],
         "b": [
          0.30751959783683813
         ],
         "c": [
          0.4301337680710616
         ],
         "hovertemplate": "<b>%{hovertext}</b><br><br>Type=Non-fossil<br>Year=2060<br>Ambition (100%)=%{a}<br>Model (100%)=%{b}<br>Scenario (100%)=%{c}<br>text=%{text}<extra></extra>",
         "hovertext": [
          "Primary Energy Nuclear"
         ],
         "legendgroup": "Non-fossil",
         "marker": {
          "color": "#F8766D",
          "size": 12,
          "symbol": "star-dot"
         },
         "mode": "markers+text",
         "name": "Non-fossil",
         "showlegend": true,
         "subplot": "ternary",
         "text": [
          "Primary Energy Nuclear"
         ],
         "textposition": "middle left",
         "type": "scatterternary"
        },
        {
         "a": [
          0.3060908840842983,
          0.23569575013037414
         ],
         "b": [
          0.1569168576717756,
          0.15583008172965826
         ],
         "c": [
          0.5369922582439262,
          0.6084741681399676
         ],
         "hovertemplate": "<b>%{hovertext}</b><br><br>Type=Fossil<br>Year=2060<br>Ambition (100%)=%{a}<br>Model (100%)=%{b}<br>Scenario (100%)=%{c}<br>text=%{text}<extra></extra>",
         "hovertext": [
          "Primary Energy Fossil w CCS",
          "Primary Energy Coal w CCS"
         ],
         "legendgroup": "Fossil",
         "marker": {
          "color": "#5D6D7E",
          "size": 12,
          "symbol": "x"
         },
         "mode": "markers+text",
         "name": "Fossil",
         "showlegend": true,
         "subplot": "ternary",
         "text": [
          "Primary Energy Fossil w CCS",
          "Primary Energy Coal w CCS"
         ],
         "textposition": "middle left",
         "type": "scatterternary"
        },
        {
         "a": [
          0.2607847796950948,
          0.28293737321584395
         ],
         "b": [
          0.1469515802830271,
          0.3199090926888623
         ],
         "c": [
          0.5922636400218783,
          0.39715353409529375
         ],
         "hovertemplate": "<b>%{hovertext}</b><br><br>Type=Final Energy<br>Year=2060<br>Ambition (100%)=%{a}<br>Model (100%)=%{b}<br>Scenario (100%)=%{c}<br>text=%{text}<extra></extra>",
         "hovertext": [
          "FE Buildings",
          "FE Transport"
         ],
         "legendgroup": "Final Energy",
         "marker": {
          "color": "#52BE80",
          "size": 12,
          "symbol": "hexagon-dot"
         },
         "mode": "markers+text",
         "name": "Final Energy",
         "showlegend": true,
         "subplot": "ternary",
         "text": [
          "FE Buildings",
          "FE Transport"
         ],
         "textposition": "middle left",
         "type": "scatterternary"
        },
        {
         "a": [
          0.02000250057454557
         ],
         "b": [
          0.05541942828290485
         ],
         "c": [
          0.9245780711425496
         ],
         "hovertemplate": "<b>%{hovertext}</b><br><br>Type=Economic<br>Year=2060<br>Ambition (100%)=%{a}<br>Model (100%)=%{b}<br>Scenario (100%)=%{c}<br>text=%{text}<extra></extra>",
         "hovertext": [
          "GDP PPP"
         ],
         "legendgroup": "Economic",
         "marker": {
          "color": "#A3A500",
          "size": 12,
          "symbol": "circle"
         },
         "mode": "markers+text",
         "name": "Economic",
         "showlegend": true,
         "subplot": "ternary",
         "text": [
          "GDP PPP"
         ],
         "textposition": "middle left",
         "type": "scatterternary"
        },
        {
         "a": [
          0.5,
          0.5,
          0.5,
          0.5,
          0,
          0.5
         ],
         "b": [
          0.5,
          0.5,
          0,
          0.5,
          0.5,
          0.5
         ],
         "c": [
          0,
          0.5,
          0.5,
          0.5,
          0.5,
          0.5
         ],
         "line": {
          "width": 0.1
         },
         "marker": {
          "color": "black",
          "size": 12
         },
         "mode": "lines",
         "showlegend": false,
         "textposition": "middle left",
         "type": "scatterternary"
        },
        {
         "a": [
          0.5,
          0,
          0.5,
          0.5,
          0,
          0.5
         ],
         "b": [
          0,
          0.5,
          0,
          0.5,
          0.5,
          0.5
         ],
         "c": [
          0.5,
          0.5,
          0.5,
          0,
          0.5,
          0
         ],
         "line": {
          "width": 0.1
         },
         "marker": {
          "color": "black",
          "size": 12
         },
         "mode": "lines",
         "showlegend": false,
         "textposition": "middle left",
         "type": "scatterternary"
        }
       ],
       "layout": {
        "annotations": [
         {
          "font": {
           "size": 18
          },
          "showarrow": false,
          "text": "→ Scenario →",
          "textangle": 60,
          "x": 0.87,
          "xref": "paper",
          "y": 0.5,
          "yref": "paper"
         },
         {
          "font": {
           "size": 18
          },
          "showarrow": false,
          "text": "← Model ←",
          "textangle": 0,
          "x": 0.5,
          "xref": "paper",
          "y": 0.035,
          "yref": "paper"
         },
         {
          "font": {
           "size": 18
          },
          "showarrow": false,
          "text": "→ Ambition →",
          "textangle": -60,
          "x": 0.15,
          "xref": "paper",
          "y": 0.5,
          "yref": "paper"
         }
        ],
        "height": 1200,
        "legend": {
         "title": {
          "font": {
           "color": "#545454",
           "size": 18
          },
          "text": "Type"
         },
         "tracegroupgap": 0
        },
        "template": {
         "data": {
          "bar": [
           {
            "error_x": {
             "color": "rgb(51,51,51)"
            },
            "error_y": {
             "color": "rgb(51,51,51)"
            },
            "marker": {
             "line": {
              "color": "rgb(237,237,237)",
              "width": 0.5
             },
             "pattern": {
              "fillmode": "overlay",
              "size": 10,
              "solidity": 0.2
             }
            },
            "type": "bar"
           }
          ],
          "barpolar": [
           {
            "marker": {
             "line": {
              "color": "rgb(237,237,237)",
              "width": 0.5
             },
             "pattern": {
              "fillmode": "overlay",
              "size": 10,
              "solidity": 0.2
             }
            },
            "type": "barpolar"
           }
          ],
          "carpet": [
           {
            "aaxis": {
             "endlinecolor": "rgb(51,51,51)",
             "gridcolor": "white",
             "linecolor": "white",
             "minorgridcolor": "white",
             "startlinecolor": "rgb(51,51,51)"
            },
            "baxis": {
             "endlinecolor": "rgb(51,51,51)",
             "gridcolor": "white",
             "linecolor": "white",
             "minorgridcolor": "white",
             "startlinecolor": "rgb(51,51,51)"
            },
            "type": "carpet"
           }
          ],
          "choropleth": [
           {
            "colorbar": {
             "outlinewidth": 0,
             "tickcolor": "rgb(237,237,237)",
             "ticklen": 6,
             "ticks": "inside"
            },
            "type": "choropleth"
           }
          ],
          "contour": [
           {
            "colorbar": {
             "outlinewidth": 0,
             "tickcolor": "rgb(237,237,237)",
             "ticklen": 6,
             "ticks": "inside"
            },
            "colorscale": [
             [
              0,
              "rgb(20,44,66)"
             ],
             [
              1,
              "rgb(90,179,244)"
             ]
            ],
            "type": "contour"
           }
          ],
          "contourcarpet": [
           {
            "colorbar": {
             "outlinewidth": 0,
             "tickcolor": "rgb(237,237,237)",
             "ticklen": 6,
             "ticks": "inside"
            },
            "type": "contourcarpet"
           }
          ],
          "heatmap": [
           {
            "colorbar": {
             "outlinewidth": 0,
             "tickcolor": "rgb(237,237,237)",
             "ticklen": 6,
             "ticks": "inside"
            },
            "colorscale": [
             [
              0,
              "rgb(20,44,66)"
             ],
             [
              1,
              "rgb(90,179,244)"
             ]
            ],
            "type": "heatmap"
           }
          ],
          "heatmapgl": [
           {
            "colorbar": {
             "outlinewidth": 0,
             "tickcolor": "rgb(237,237,237)",
             "ticklen": 6,
             "ticks": "inside"
            },
            "colorscale": [
             [
              0,
              "rgb(20,44,66)"
             ],
             [
              1,
              "rgb(90,179,244)"
             ]
            ],
            "type": "heatmapgl"
           }
          ],
          "histogram": [
           {
            "marker": {
             "pattern": {
              "fillmode": "overlay",
              "size": 10,
              "solidity": 0.2
             }
            },
            "type": "histogram"
           }
          ],
          "histogram2d": [
           {
            "colorbar": {
             "outlinewidth": 0,
             "tickcolor": "rgb(237,237,237)",
             "ticklen": 6,
             "ticks": "inside"
            },
            "colorscale": [
             [
              0,
              "rgb(20,44,66)"
             ],
             [
              1,
              "rgb(90,179,244)"
             ]
            ],
            "type": "histogram2d"
           }
          ],
          "histogram2dcontour": [
           {
            "colorbar": {
             "outlinewidth": 0,
             "tickcolor": "rgb(237,237,237)",
             "ticklen": 6,
             "ticks": "inside"
            },
            "colorscale": [
             [
              0,
              "rgb(20,44,66)"
             ],
             [
              1,
              "rgb(90,179,244)"
             ]
            ],
            "type": "histogram2dcontour"
           }
          ],
          "mesh3d": [
           {
            "colorbar": {
             "outlinewidth": 0,
             "tickcolor": "rgb(237,237,237)",
             "ticklen": 6,
             "ticks": "inside"
            },
            "type": "mesh3d"
           }
          ],
          "parcoords": [
           {
            "line": {
             "colorbar": {
              "outlinewidth": 0,
              "tickcolor": "rgb(237,237,237)",
              "ticklen": 6,
              "ticks": "inside"
             }
            },
            "type": "parcoords"
           }
          ],
          "pie": [
           {
            "automargin": true,
            "type": "pie"
           }
          ],
          "scatter": [
           {
            "fillpattern": {
             "fillmode": "overlay",
             "size": 10,
             "solidity": 0.2
            },
            "type": "scatter"
           }
          ],
          "scatter3d": [
           {
            "line": {
             "colorbar": {
              "outlinewidth": 0,
              "tickcolor": "rgb(237,237,237)",
              "ticklen": 6,
              "ticks": "inside"
             }
            },
            "marker": {
             "colorbar": {
              "outlinewidth": 0,
              "tickcolor": "rgb(237,237,237)",
              "ticklen": 6,
              "ticks": "inside"
             }
            },
            "type": "scatter3d"
           }
          ],
          "scattercarpet": [
           {
            "marker": {
             "colorbar": {
              "outlinewidth": 0,
              "tickcolor": "rgb(237,237,237)",
              "ticklen": 6,
              "ticks": "inside"
             }
            },
            "type": "scattercarpet"
           }
          ],
          "scattergeo": [
           {
            "marker": {
             "colorbar": {
              "outlinewidth": 0,
              "tickcolor": "rgb(237,237,237)",
              "ticklen": 6,
              "ticks": "inside"
             }
            },
            "type": "scattergeo"
           }
          ],
          "scattergl": [
           {
            "marker": {
             "colorbar": {
              "outlinewidth": 0,
              "tickcolor": "rgb(237,237,237)",
              "ticklen": 6,
              "ticks": "inside"
             }
            },
            "type": "scattergl"
           }
          ],
          "scattermapbox": [
           {
            "marker": {
             "colorbar": {
              "outlinewidth": 0,
              "tickcolor": "rgb(237,237,237)",
              "ticklen": 6,
              "ticks": "inside"
             }
            },
            "type": "scattermapbox"
           }
          ],
          "scatterpolar": [
           {
            "marker": {
             "colorbar": {
              "outlinewidth": 0,
              "tickcolor": "rgb(237,237,237)",
              "ticklen": 6,
              "ticks": "inside"
             }
            },
            "type": "scatterpolar"
           }
          ],
          "scatterpolargl": [
           {
            "marker": {
             "colorbar": {
              "outlinewidth": 0,
              "tickcolor": "rgb(237,237,237)",
              "ticklen": 6,
              "ticks": "inside"
             }
            },
            "type": "scatterpolargl"
           }
          ],
          "scatterternary": [
           {
            "marker": {
             "colorbar": {
              "outlinewidth": 0,
              "tickcolor": "rgb(237,237,237)",
              "ticklen": 6,
              "ticks": "inside"
             }
            },
            "type": "scatterternary"
           }
          ],
          "surface": [
           {
            "colorbar": {
             "outlinewidth": 0,
             "tickcolor": "rgb(237,237,237)",
             "ticklen": 6,
             "ticks": "inside"
            },
            "colorscale": [
             [
              0,
              "rgb(20,44,66)"
             ],
             [
              1,
              "rgb(90,179,244)"
             ]
            ],
            "type": "surface"
           }
          ],
          "table": [
           {
            "cells": {
             "fill": {
              "color": "rgb(237,237,237)"
             },
             "line": {
              "color": "white"
             }
            },
            "header": {
             "fill": {
              "color": "rgb(217,217,217)"
             },
             "line": {
              "color": "white"
             }
            },
            "type": "table"
           }
          ]
         },
         "layout": {
          "annotationdefaults": {
           "arrowhead": 0,
           "arrowwidth": 1
          },
          "autotypenumbers": "strict",
          "coloraxis": {
           "colorbar": {
            "outlinewidth": 0,
            "tickcolor": "rgb(237,237,237)",
            "ticklen": 6,
            "ticks": "inside"
           }
          },
          "colorscale": {
           "sequential": [
            [
             0,
             "rgb(20,44,66)"
            ],
            [
             1,
             "rgb(90,179,244)"
            ]
           ],
           "sequentialminus": [
            [
             0,
             "rgb(20,44,66)"
            ],
            [
             1,
             "rgb(90,179,244)"
            ]
           ]
          },
          "colorway": [
           "#F8766D",
           "#A3A500",
           "#00BF7D",
           "#00B0F6",
           "#E76BF3"
          ],
          "font": {
           "color": "rgb(51,51,51)"
          },
          "geo": {
           "bgcolor": "white",
           "lakecolor": "white",
           "landcolor": "rgb(237,237,237)",
           "showlakes": true,
           "showland": true,
           "subunitcolor": "white"
          },
          "hoverlabel": {
           "align": "left"
          },
          "hovermode": "closest",
          "paper_bgcolor": "white",
          "plot_bgcolor": "rgb(237,237,237)",
          "polar": {
           "angularaxis": {
            "gridcolor": "white",
            "linecolor": "white",
            "showgrid": true,
            "tickcolor": "rgb(51,51,51)",
            "ticks": "outside"
           },
           "bgcolor": "rgb(237,237,237)",
           "radialaxis": {
            "gridcolor": "white",
            "linecolor": "white",
            "showgrid": true,
            "tickcolor": "rgb(51,51,51)",
            "ticks": "outside"
           }
          },
          "scene": {
           "xaxis": {
            "backgroundcolor": "rgb(237,237,237)",
            "gridcolor": "white",
            "gridwidth": 2,
            "linecolor": "white",
            "showbackground": true,
            "showgrid": true,
            "tickcolor": "rgb(51,51,51)",
            "ticks": "outside",
            "zerolinecolor": "white"
           },
           "yaxis": {
            "backgroundcolor": "rgb(237,237,237)",
            "gridcolor": "white",
            "gridwidth": 2,
            "linecolor": "white",
            "showbackground": true,
            "showgrid": true,
            "tickcolor": "rgb(51,51,51)",
            "ticks": "outside",
            "zerolinecolor": "white"
           },
           "zaxis": {
            "backgroundcolor": "rgb(237,237,237)",
            "gridcolor": "white",
            "gridwidth": 2,
            "linecolor": "white",
            "showbackground": true,
            "showgrid": true,
            "tickcolor": "rgb(51,51,51)",
            "ticks": "outside",
            "zerolinecolor": "white"
           }
          },
          "shapedefaults": {
           "fillcolor": "black",
           "line": {
            "width": 0
           },
           "opacity": 0.3
          },
          "ternary": {
           "aaxis": {
            "gridcolor": "white",
            "linecolor": "white",
            "showgrid": true,
            "tickcolor": "rgb(51,51,51)",
            "ticks": "outside"
           },
           "baxis": {
            "gridcolor": "white",
            "linecolor": "white",
            "showgrid": true,
            "tickcolor": "rgb(51,51,51)",
            "ticks": "outside"
           },
           "bgcolor": "rgb(237,237,237)",
           "caxis": {
            "gridcolor": "white",
            "linecolor": "white",
            "showgrid": true,
            "tickcolor": "rgb(51,51,51)",
            "ticks": "outside"
           }
          },
          "xaxis": {
           "automargin": true,
           "gridcolor": "white",
           "linecolor": "white",
           "showgrid": true,
           "tickcolor": "rgb(51,51,51)",
           "ticks": "outside",
           "title": {
            "standoff": 15
           },
           "zerolinecolor": "white"
          },
          "yaxis": {
           "automargin": true,
           "gridcolor": "white",
           "linecolor": "white",
           "showgrid": true,
           "tickcolor": "rgb(51,51,51)",
           "ticks": "outside",
           "title": {
            "standoff": 15
           },
           "zerolinecolor": "white"
          }
         }
        },
        "ternary": {
         "aaxis": {
          "title": {
           "text": "Ambition (100%)"
          }
         },
         "baxis": {
          "title": {
           "text": "Model (100%)"
          }
         },
         "caxis": {
          "title": {
           "text": "Scenario (100%)"
          }
         },
         "domain": {
          "x": [
           0,
           1
          ],
          "y": [
           0,
           1
          ]
         }
        },
        "title": {
         "font": {
          "size": 24
         },
         "text": "Summary Ternary Plot - Scenario effects dominance - 2060"
        },
        "width": 1200
       }
      }
     },
     "metadata": {},
     "output_type": "display_data"
    }
   ],
   "source": [
    "# Figure 14: Ternary Plot for all variables 2060, focus on Scenario - cleaned version of the code to match the paper\n",
    "\n",
    "# -----------\n",
    "# Setup the style parameters\n",
    "# -----------\n",
    "sns.set()\n",
    "sns.set_style(\"white\")\n",
    "plt.rcParams['figure.dpi']= 100\n",
    "plt.rcParams['figure.figsize'] = (20,6)\n",
    "plt.rc(\"savefig\", dpi=150)\n",
    "plt.rc(\"font\", size=14)\n",
    "\n",
    "# -----------\n",
    "# Choose columns to plot and filter the data accordingly\n",
    "# -----------\n",
    "cols = [ \n",
    "    'Variable',\n",
    "    'Year',\n",
    "    'R2_Amb_Shapley_norm',\n",
    "    'R2_Mod_Shapley_norm',\n",
    "    'R2_Scen_Shapley_norm',\n",
    "    'Type'\n",
    "    ]\n",
    "\n",
    "data = df_all[cols]\n",
    "\n",
    "# -----------\n",
    "# Rename the variables to be plotted for better readability\n",
    "# -----------\n",
    "var_name_replacements = {\n",
    "    'Final Energy Transportation': 'FE Transport',\n",
    "    'Final Energy Residential and Commercial': 'FE Buildings',\n",
    "}\n",
    "\n",
    "# Replace values in the \"Variable\" column using dictionary\n",
    "data['Variable'] = data['Variable'].replace(var_name_replacements)\n",
    "\n",
    "# -----------\n",
    "# Filter the data to show only the needed data points that highlight the Scenario effects dominance\n",
    "# -----------\n",
    "\n",
    "data = data.query('Year == 2060 and R2_Scen_Shapley_norm >= 0.25 and R2_Amb_Shapley_norm < 0.37 and R2_Mod_Shapley_norm < 0.35')\\\n",
    "            .query('Variable != \"Final Energy Solids\"')\n",
    "\n",
    "# -----------\n",
    "# Plot the data\n",
    "# -----------\n",
    "fig = px.scatter_ternary(\n",
    "    data.query('Year ==2060'), \n",
    "    a=\"R2_Amb_Shapley_norm\", \n",
    "    b=\"R2_Mod_Shapley_norm\", \n",
    "    c=\"R2_Scen_Shapley_norm\",\n",
    "    symbol=\"Type\",\n",
    "    color='Type',\n",
    "    template= \"ggplot2\",\n",
    "    symbol_map={\"Emissions\":\"cross-dot\", 'Final Energy':'hexagon-dot',\"Fossil\":\"x\",\"Non-fossil\":\"star-dot\",\"Land\":\"square-x\"},\n",
    "    color_discrete_map={\"Emissions\":\"#C0392B\", \"Non-Fossil\":\"#F4D03F\", 'Final Energy':'#52BE80',\"Fossil\":\"#5D6D7E\",\"Land\":\"LightSkyBlue\"},\n",
    "    labels={\"R2_Amb_Shapley_norm\": \"Ambition (100%)\",\n",
    "            \"R2_Mod_Shapley_norm\": \"Model (100%)\",\n",
    "            \"R2_Scen_Shapley_norm\": \"Scenario (100%)\"},\n",
    "    title=\"Summary Ternary Plot - Scenario effects dominance - 2060\",\n",
    "    hover_name='Variable',\n",
    "    text= data['Variable'],\n",
    "    animation_frame='Year',\n",
    "    width=1200,\n",
    "    height=1200,\n",
    "    )\n",
    "\n",
    "# Lines connecting mid-point of each axis to mid-point of the plot\n",
    "fig.add_trace(\n",
    "    go.Scatterternary(a=[0.5, 0.5,0.5, 0.5,0, 0.5],\n",
    "                      b=[0.5, 0.5,0, 0.5,0.5, 0.5],\n",
    "                      c=[0, 0.5,0.5, 0.5,0.5, 0.5],\n",
    "                      mode='lines',\n",
    "                      marker=dict(color='black'),\n",
    "                      line=dict(width=0.1),\n",
    "                      showlegend=False,\n",
    "                      )\n",
    "                )\n",
    "\n",
    "# Lines connecting mid-points of all axes together\n",
    "fig.add_trace(\n",
    "    go.Scatterternary(a=[0.5, 0,0.5, 0.5,0, 0.5],\n",
    "                      b=[0, 0.5,0, 0.5,0.5, 0.5],\n",
    "                      c=[0.5, 0.5,0.5, 0,0.5, 0],\n",
    "                      mode='lines',\n",
    "                      marker=dict(color='black'),\n",
    "                      line=dict(width=0.1),\n",
    "                      showlegend=False,\n",
    "                      \n",
    "                      )\n",
    "                )\n",
    "\n",
    "fig.update_traces(\n",
    "    marker=dict(\n",
    "        size=12),\n",
    "    textposition='middle left',\n",
    "    )\n",
    "\n",
    "fig.update_layout(\n",
    "    legend_title=\"Type\",\n",
    "    legend_title_font_color=\"#545454\",\n",
    "    legend_title_font_size=18,\n",
    "    title_font_size=24,\n",
    "    annotations=[\n",
    "        dict(\n",
    "            x=0.87,\n",
    "            y=0.5,\n",
    "            xref=\"paper\",\n",
    "            yref=\"paper\",\n",
    "            text=\"\\u2192 Scenario \\u2192\",\n",
    "            showarrow=False,\n",
    "            font=dict(\n",
    "                size=18,\n",
    "            ),\n",
    "            textangle=60\n",
    "        ),\n",
    "        dict(\n",
    "            x=0.5,\n",
    "            y=0.035,\n",
    "            xref=\"paper\",\n",
    "            yref=\"paper\",\n",
    "            text=\"\\u2190 Model \\u2190\",\n",
    "            showarrow=False,\n",
    "            font=dict(\n",
    "                size=18,\n",
    "            ),\n",
    "            textangle=0\n",
    "        ),\n",
    "        dict(\n",
    "            x=0.15,\n",
    "            y=0.5,\n",
    "            xref=\"paper\",\n",
    "            yref=\"paper\",\n",
    "            text=\"\\u2192 Ambition \\u2192\",\n",
    "            showarrow=False,\n",
    "            font=dict(\n",
    "                size=18,\n",
    "            ),\n",
    "            textangle=-60\n",
    "        )\n",
    "\n",
    "    ]\n",
    ")\n",
    "\n",
    "fig.show()\n",
    "\n",
    "# Save the plot\n",
    "fig.write_image(\"Figure_14_Ternary_Plot_2060_Scenario_Effects.png\")"
   ]
  },
  {
   "cell_type": "code",
   "execution_count": 20,
   "metadata": {},
   "outputs": [
    {
     "data": {
      "application/vnd.plotly.v1+json": {
       "config": {
        "plotlyServerURL": "https://plot.ly"
       },
       "data": [
        {
         "a": [
          0.2623466340921003
         ],
         "b": [
          0.30751959783683813
         ],
         "c": [
          0.4301337680710616
         ],
         "hovertemplate": "<b>%{hovertext}</b><br><br>Type=Non-fossil<br>Year=2060<br>Ambition (100%)=%{a}<br>R2_Mod_Shapley_norm=%{b}<br>Scenario (100%)=%{c}<br>text=%{text}<extra></extra>",
         "hovertext": [
          "Primary Energy Nuclear"
         ],
         "legendgroup": "Non-fossil",
         "marker": {
          "color": "#F8766D",
          "size": 12,
          "symbol": "star-dot"
         },
         "mode": "markers+text",
         "name": "Non-fossil",
         "showlegend": true,
         "subplot": "ternary",
         "text": [
          "Primary Energy Nuclear"
         ],
         "textposition": "middle left",
         "type": "scatterternary"
        },
        {
         "a": [
          0.3060908840842983,
          0.23569575013037414
         ],
         "b": [
          0.1569168576717756,
          0.15583008172965826
         ],
         "c": [
          0.5369922582439262,
          0.6084741681399676
         ],
         "hovertemplate": "<b>%{hovertext}</b><br><br>Type=Fossil<br>Year=2060<br>Ambition (100%)=%{a}<br>R2_Mod_Shapley_norm=%{b}<br>Scenario (100%)=%{c}<br>text=%{text}<extra></extra>",
         "hovertext": [
          "Primary Energy Fossil w CCS",
          "Primary Energy Coal w CCS"
         ],
         "legendgroup": "Fossil",
         "marker": {
          "color": "#5D6D7E",
          "size": 12,
          "symbol": "x"
         },
         "mode": "markers+text",
         "name": "Fossil",
         "showlegend": true,
         "subplot": "ternary",
         "text": [
          "Primary Energy Fossil w CCS",
          "Primary Energy Coal w CCS"
         ],
         "textposition": "middle left",
         "type": "scatterternary"
        },
        {
         "a": [
          0.2607847796950948,
          0.28293737321584395
         ],
         "b": [
          0.1469515802830271,
          0.3199090926888623
         ],
         "c": [
          0.5922636400218783,
          0.39715353409529375
         ],
         "hovertemplate": "<b>%{hovertext}</b><br><br>Type=Final Energy<br>Year=2060<br>Ambition (100%)=%{a}<br>R2_Mod_Shapley_norm=%{b}<br>Scenario (100%)=%{c}<br>text=%{text}<extra></extra>",
         "hovertext": [
          "Final Energy Residential and Commercial",
          "Final Energy Transportation"
         ],
         "legendgroup": "Final Energy",
         "marker": {
          "color": "#52BE80",
          "size": 12,
          "symbol": "hexagon-dot"
         },
         "mode": "markers+text",
         "name": "Final Energy",
         "showlegend": true,
         "subplot": "ternary",
         "text": [
          "Final Energy Residential and Commercial",
          "Final Energy Transportation"
         ],
         "textposition": "middle left",
         "type": "scatterternary"
        },
        {
         "a": [
          0.02000250057454557
         ],
         "b": [
          0.05541942828290485
         ],
         "c": [
          0.9245780711425496
         ],
         "hovertemplate": "<b>%{hovertext}</b><br><br>Type=Economic<br>Year=2060<br>Ambition (100%)=%{a}<br>R2_Mod_Shapley_norm=%{b}<br>Scenario (100%)=%{c}<br>text=%{text}<extra></extra>",
         "hovertext": [
          "GDP PPP"
         ],
         "legendgroup": "Economic",
         "marker": {
          "color": "#A3A500",
          "size": 12,
          "symbol": "circle"
         },
         "mode": "markers+text",
         "name": "Economic",
         "showlegend": true,
         "subplot": "ternary",
         "text": [
          "GDP PPP"
         ],
         "textposition": "middle left",
         "type": "scatterternary"
        },
        {
         "a": [
          0.5,
          0.5,
          0.5,
          0.5,
          0,
          0.5
         ],
         "b": [
          0.5,
          0.5,
          0,
          0.5,
          0.5,
          0.5
         ],
         "c": [
          0,
          0.5,
          0.5,
          0.5,
          0.5,
          0.5
         ],
         "line": {
          "width": 0.1
         },
         "marker": {
          "color": "black",
          "size": 12
         },
         "mode": "lines",
         "showlegend": false,
         "textposition": "middle left",
         "type": "scatterternary"
        },
        {
         "a": [
          0.5,
          0,
          0.5,
          0.5,
          0,
          0.5
         ],
         "b": [
          0,
          0.5,
          0,
          0.5,
          0.5,
          0.5
         ],
         "c": [
          0.5,
          0.5,
          0.5,
          0,
          0.5,
          0
         ],
         "line": {
          "width": 0.1
         },
         "marker": {
          "color": "black",
          "size": 12
         },
         "mode": "lines",
         "showlegend": false,
         "textposition": "middle left",
         "type": "scatterternary"
        }
       ],
       "layout": {
        "annotations": [
         {
          "font": {
           "size": 18
          },
          "showarrow": false,
          "text": "→ Scenario →",
          "textangle": 60,
          "x": 0.87,
          "xref": "paper",
          "y": 0.5,
          "yref": "paper"
         },
         {
          "font": {
           "size": 18
          },
          "showarrow": false,
          "text": "← Model ←",
          "textangle": 0,
          "x": 0.5,
          "xref": "paper",
          "y": 0.035,
          "yref": "paper"
         },
         {
          "font": {
           "size": 18
          },
          "showarrow": false,
          "text": "→ Ambition →",
          "textangle": -60,
          "x": 0.15,
          "xref": "paper",
          "y": 0.5,
          "yref": "paper"
         }
        ],
        "height": 1200,
        "legend": {
         "title": {
          "font": {
           "color": "#545454",
           "size": 18
          },
          "text": "Type"
         },
         "tracegroupgap": 0
        },
        "template": {
         "data": {
          "bar": [
           {
            "error_x": {
             "color": "rgb(51,51,51)"
            },
            "error_y": {
             "color": "rgb(51,51,51)"
            },
            "marker": {
             "line": {
              "color": "rgb(237,237,237)",
              "width": 0.5
             },
             "pattern": {
              "fillmode": "overlay",
              "size": 10,
              "solidity": 0.2
             }
            },
            "type": "bar"
           }
          ],
          "barpolar": [
           {
            "marker": {
             "line": {
              "color": "rgb(237,237,237)",
              "width": 0.5
             },
             "pattern": {
              "fillmode": "overlay",
              "size": 10,
              "solidity": 0.2
             }
            },
            "type": "barpolar"
           }
          ],
          "carpet": [
           {
            "aaxis": {
             "endlinecolor": "rgb(51,51,51)",
             "gridcolor": "white",
             "linecolor": "white",
             "minorgridcolor": "white",
             "startlinecolor": "rgb(51,51,51)"
            },
            "baxis": {
             "endlinecolor": "rgb(51,51,51)",
             "gridcolor": "white",
             "linecolor": "white",
             "minorgridcolor": "white",
             "startlinecolor": "rgb(51,51,51)"
            },
            "type": "carpet"
           }
          ],
          "choropleth": [
           {
            "colorbar": {
             "outlinewidth": 0,
             "tickcolor": "rgb(237,237,237)",
             "ticklen": 6,
             "ticks": "inside"
            },
            "type": "choropleth"
           }
          ],
          "contour": [
           {
            "colorbar": {
             "outlinewidth": 0,
             "tickcolor": "rgb(237,237,237)",
             "ticklen": 6,
             "ticks": "inside"
            },
            "colorscale": [
             [
              0,
              "rgb(20,44,66)"
             ],
             [
              1,
              "rgb(90,179,244)"
             ]
            ],
            "type": "contour"
           }
          ],
          "contourcarpet": [
           {
            "colorbar": {
             "outlinewidth": 0,
             "tickcolor": "rgb(237,237,237)",
             "ticklen": 6,
             "ticks": "inside"
            },
            "type": "contourcarpet"
           }
          ],
          "heatmap": [
           {
            "colorbar": {
             "outlinewidth": 0,
             "tickcolor": "rgb(237,237,237)",
             "ticklen": 6,
             "ticks": "inside"
            },
            "colorscale": [
             [
              0,
              "rgb(20,44,66)"
             ],
             [
              1,
              "rgb(90,179,244)"
             ]
            ],
            "type": "heatmap"
           }
          ],
          "heatmapgl": [
           {
            "colorbar": {
             "outlinewidth": 0,
             "tickcolor": "rgb(237,237,237)",
             "ticklen": 6,
             "ticks": "inside"
            },
            "colorscale": [
             [
              0,
              "rgb(20,44,66)"
             ],
             [
              1,
              "rgb(90,179,244)"
             ]
            ],
            "type": "heatmapgl"
           }
          ],
          "histogram": [
           {
            "marker": {
             "pattern": {
              "fillmode": "overlay",
              "size": 10,
              "solidity": 0.2
             }
            },
            "type": "histogram"
           }
          ],
          "histogram2d": [
           {
            "colorbar": {
             "outlinewidth": 0,
             "tickcolor": "rgb(237,237,237)",
             "ticklen": 6,
             "ticks": "inside"
            },
            "colorscale": [
             [
              0,
              "rgb(20,44,66)"
             ],
             [
              1,
              "rgb(90,179,244)"
             ]
            ],
            "type": "histogram2d"
           }
          ],
          "histogram2dcontour": [
           {
            "colorbar": {
             "outlinewidth": 0,
             "tickcolor": "rgb(237,237,237)",
             "ticklen": 6,
             "ticks": "inside"
            },
            "colorscale": [
             [
              0,
              "rgb(20,44,66)"
             ],
             [
              1,
              "rgb(90,179,244)"
             ]
            ],
            "type": "histogram2dcontour"
           }
          ],
          "mesh3d": [
           {
            "colorbar": {
             "outlinewidth": 0,
             "tickcolor": "rgb(237,237,237)",
             "ticklen": 6,
             "ticks": "inside"
            },
            "type": "mesh3d"
           }
          ],
          "parcoords": [
           {
            "line": {
             "colorbar": {
              "outlinewidth": 0,
              "tickcolor": "rgb(237,237,237)",
              "ticklen": 6,
              "ticks": "inside"
             }
            },
            "type": "parcoords"
           }
          ],
          "pie": [
           {
            "automargin": true,
            "type": "pie"
           }
          ],
          "scatter": [
           {
            "fillpattern": {
             "fillmode": "overlay",
             "size": 10,
             "solidity": 0.2
            },
            "type": "scatter"
           }
          ],
          "scatter3d": [
           {
            "line": {
             "colorbar": {
              "outlinewidth": 0,
              "tickcolor": "rgb(237,237,237)",
              "ticklen": 6,
              "ticks": "inside"
             }
            },
            "marker": {
             "colorbar": {
              "outlinewidth": 0,
              "tickcolor": "rgb(237,237,237)",
              "ticklen": 6,
              "ticks": "inside"
             }
            },
            "type": "scatter3d"
           }
          ],
          "scattercarpet": [
           {
            "marker": {
             "colorbar": {
              "outlinewidth": 0,
              "tickcolor": "rgb(237,237,237)",
              "ticklen": 6,
              "ticks": "inside"
             }
            },
            "type": "scattercarpet"
           }
          ],
          "scattergeo": [
           {
            "marker": {
             "colorbar": {
              "outlinewidth": 0,
              "tickcolor": "rgb(237,237,237)",
              "ticklen": 6,
              "ticks": "inside"
             }
            },
            "type": "scattergeo"
           }
          ],
          "scattergl": [
           {
            "marker": {
             "colorbar": {
              "outlinewidth": 0,
              "tickcolor": "rgb(237,237,237)",
              "ticklen": 6,
              "ticks": "inside"
             }
            },
            "type": "scattergl"
           }
          ],
          "scattermapbox": [
           {
            "marker": {
             "colorbar": {
              "outlinewidth": 0,
              "tickcolor": "rgb(237,237,237)",
              "ticklen": 6,
              "ticks": "inside"
             }
            },
            "type": "scattermapbox"
           }
          ],
          "scatterpolar": [
           {
            "marker": {
             "colorbar": {
              "outlinewidth": 0,
              "tickcolor": "rgb(237,237,237)",
              "ticklen": 6,
              "ticks": "inside"
             }
            },
            "type": "scatterpolar"
           }
          ],
          "scatterpolargl": [
           {
            "marker": {
             "colorbar": {
              "outlinewidth": 0,
              "tickcolor": "rgb(237,237,237)",
              "ticklen": 6,
              "ticks": "inside"
             }
            },
            "type": "scatterpolargl"
           }
          ],
          "scatterternary": [
           {
            "marker": {
             "colorbar": {
              "outlinewidth": 0,
              "tickcolor": "rgb(237,237,237)",
              "ticklen": 6,
              "ticks": "inside"
             }
            },
            "type": "scatterternary"
           }
          ],
          "surface": [
           {
            "colorbar": {
             "outlinewidth": 0,
             "tickcolor": "rgb(237,237,237)",
             "ticklen": 6,
             "ticks": "inside"
            },
            "colorscale": [
             [
              0,
              "rgb(20,44,66)"
             ],
             [
              1,
              "rgb(90,179,244)"
             ]
            ],
            "type": "surface"
           }
          ],
          "table": [
           {
            "cells": {
             "fill": {
              "color": "rgb(237,237,237)"
             },
             "line": {
              "color": "white"
             }
            },
            "header": {
             "fill": {
              "color": "rgb(217,217,217)"
             },
             "line": {
              "color": "white"
             }
            },
            "type": "table"
           }
          ]
         },
         "layout": {
          "annotationdefaults": {
           "arrowhead": 0,
           "arrowwidth": 1
          },
          "autotypenumbers": "strict",
          "coloraxis": {
           "colorbar": {
            "outlinewidth": 0,
            "tickcolor": "rgb(237,237,237)",
            "ticklen": 6,
            "ticks": "inside"
           }
          },
          "colorscale": {
           "sequential": [
            [
             0,
             "rgb(20,44,66)"
            ],
            [
             1,
             "rgb(90,179,244)"
            ]
           ],
           "sequentialminus": [
            [
             0,
             "rgb(20,44,66)"
            ],
            [
             1,
             "rgb(90,179,244)"
            ]
           ]
          },
          "colorway": [
           "#F8766D",
           "#A3A500",
           "#00BF7D",
           "#00B0F6",
           "#E76BF3"
          ],
          "font": {
           "color": "rgb(51,51,51)"
          },
          "geo": {
           "bgcolor": "white",
           "lakecolor": "white",
           "landcolor": "rgb(237,237,237)",
           "showlakes": true,
           "showland": true,
           "subunitcolor": "white"
          },
          "hoverlabel": {
           "align": "left"
          },
          "hovermode": "closest",
          "paper_bgcolor": "white",
          "plot_bgcolor": "rgb(237,237,237)",
          "polar": {
           "angularaxis": {
            "gridcolor": "white",
            "linecolor": "white",
            "showgrid": true,
            "tickcolor": "rgb(51,51,51)",
            "ticks": "outside"
           },
           "bgcolor": "rgb(237,237,237)",
           "radialaxis": {
            "gridcolor": "white",
            "linecolor": "white",
            "showgrid": true,
            "tickcolor": "rgb(51,51,51)",
            "ticks": "outside"
           }
          },
          "scene": {
           "xaxis": {
            "backgroundcolor": "rgb(237,237,237)",
            "gridcolor": "white",
            "gridwidth": 2,
            "linecolor": "white",
            "showbackground": true,
            "showgrid": true,
            "tickcolor": "rgb(51,51,51)",
            "ticks": "outside",
            "zerolinecolor": "white"
           },
           "yaxis": {
            "backgroundcolor": "rgb(237,237,237)",
            "gridcolor": "white",
            "gridwidth": 2,
            "linecolor": "white",
            "showbackground": true,
            "showgrid": true,
            "tickcolor": "rgb(51,51,51)",
            "ticks": "outside",
            "zerolinecolor": "white"
           },
           "zaxis": {
            "backgroundcolor": "rgb(237,237,237)",
            "gridcolor": "white",
            "gridwidth": 2,
            "linecolor": "white",
            "showbackground": true,
            "showgrid": true,
            "tickcolor": "rgb(51,51,51)",
            "ticks": "outside",
            "zerolinecolor": "white"
           }
          },
          "shapedefaults": {
           "fillcolor": "black",
           "line": {
            "width": 0
           },
           "opacity": 0.3
          },
          "ternary": {
           "aaxis": {
            "gridcolor": "white",
            "linecolor": "white",
            "showgrid": true,
            "tickcolor": "rgb(51,51,51)",
            "ticks": "outside"
           },
           "baxis": {
            "gridcolor": "white",
            "linecolor": "white",
            "showgrid": true,
            "tickcolor": "rgb(51,51,51)",
            "ticks": "outside"
           },
           "bgcolor": "rgb(237,237,237)",
           "caxis": {
            "gridcolor": "white",
            "linecolor": "white",
            "showgrid": true,
            "tickcolor": "rgb(51,51,51)",
            "ticks": "outside"
           }
          },
          "xaxis": {
           "automargin": true,
           "gridcolor": "white",
           "linecolor": "white",
           "showgrid": true,
           "tickcolor": "rgb(51,51,51)",
           "ticks": "outside",
           "title": {
            "standoff": 15
           },
           "zerolinecolor": "white"
          },
          "yaxis": {
           "automargin": true,
           "gridcolor": "white",
           "linecolor": "white",
           "showgrid": true,
           "tickcolor": "rgb(51,51,51)",
           "ticks": "outside",
           "title": {
            "standoff": 15
           },
           "zerolinecolor": "white"
          }
         }
        },
        "ternary": {
         "aaxis": {
          "title": {
           "text": "Ambition (100%)"
          }
         },
         "baxis": {
          "title": {
           "text": "R2_Mod_Shapley_norm"
          }
         },
         "caxis": {
          "title": {
           "text": "Scenario (100%)"
          }
         },
         "domain": {
          "x": [
           0,
           1
          ],
          "y": [
           0,
           1
          ]
         }
        },
        "title": {
         "font": {
          "size": 24
         },
         "text": "Summary Ternary Plot - Scenario effects dominance - 2060"
        },
        "width": 1200
       }
      }
     },
     "metadata": {},
     "output_type": "display_data"
    }
   ],
   "source": [
    "# Figure 14: Ternary Plot for all variables 2060, focus on Scenario - full version with all the labels\n",
    "\n",
    "# -----------\n",
    "# Setup the style parameters\n",
    "# -----------\n",
    "sns.set()\n",
    "sns.set_style(\"white\")\n",
    "plt.rcParams['figure.dpi']= 100\n",
    "plt.rcParams['figure.figsize'] = (20,6)\n",
    "plt.rc(\"savefig\", dpi=150)\n",
    "plt.rc(\"font\", size=14)\n",
    "\n",
    "# -----------\n",
    "# Choose columns to plot and filter the data accordingly\n",
    "# -----------\n",
    "cols = [ \n",
    "    'Variable',\n",
    "    'Year',\n",
    "    'R2_Amb_Shapley_norm',\n",
    "    'R2_Mod_Shapley_norm',\n",
    "    'R2_Scen_Shapley_norm',\n",
    "    'Type'\n",
    "    ]\n",
    "\n",
    "data = df_all[cols]\n",
    "# -----------\n",
    "# Filter the data to show only the needed data points that highlight the Scenario effects dominance\n",
    "# -----------\n",
    "data = data.query('Year == 2060 and R2_Scen_Shapley_norm >= 0.25 and R2_Amb_Shapley_norm < 0.37 and R2_Mod_Shapley_norm < 0.35')\\\n",
    "            .query('Variable != \"Final Energy Solids\"')\n",
    "\n",
    "# -----------\n",
    "# Plot the data\n",
    "# -----------\n",
    "fig = px.scatter_ternary(data.query('Year ==2060'), \n",
    "    a=\"R2_Amb_Shapley_norm\", \n",
    "    b=\"R2_Mod_Shapley_norm\", \n",
    "    c=\"R2_Scen_Shapley_norm\",\n",
    "    symbol=\"Type\",\n",
    "    color='Type',\n",
    "    template=\"ggplot2\",\n",
    "    symbol_map={\"Emissions\":\"cross-dot\", 'Final Energy':'hexagon-dot',\"Fossil\":\"x\",\"Non-fossil\":\"star-dot\",\"Land\":\"square-x\"},\n",
    "    color_discrete_map={\"Emissions\":\"#C0392B\", \"Non-Fossil\":\"#F4D03F\", 'Final Energy':'#52BE80',\"Fossil\":\"#5D6D7E\",\"Land\":\"LightSkyBlue\"},\n",
    "    labels={\"R2_Amb_Shapley_norm\": \"Ambition (100%)\",\n",
    "            \"R2_Mod\": \"Model (100%)\",\n",
    "            \"R2_Scen_Shapley_norm\": \"Scenario (100%)\"},\n",
    "    title=\"Summary Ternary Plot - Scenario effects dominance - 2060\",\n",
    "    text=['' if x == '' else x for x in data['Variable']],\n",
    "    hover_name='Variable',\n",
    "    animation_frame='Year',\n",
    "    width=1200,\n",
    "    height=1200\n",
    "    )\n",
    "\n",
    "\n",
    "# Lines connecting mid-point of each axis to mid-point of the plot\n",
    "fig.add_trace(\n",
    "    go.Scatterternary(a=[0.5, 0.5,0.5, 0.5,0, 0.5],\n",
    "                      b=[0.5, 0.5,0, 0.5,0.5, 0.5],\n",
    "                      c=[0, 0.5,0.5, 0.5,0.5, 0.5],\n",
    "                      mode='lines',\n",
    "                      marker=dict(color='black'),\n",
    "                      line=dict(width=0.1),\n",
    "                      showlegend=False,\n",
    "                      )\n",
    "                )\n",
    "\n",
    "# Lines connecting mid-points of all axes together\n",
    "fig.add_trace(\n",
    "    go.Scatterternary(a=[0.5, 0,0.5, 0.5,0, 0.5],\n",
    "                      b=[0, 0.5,0, 0.5,0.5, 0.5],\n",
    "                      c=[0.5, 0.5,0.5, 0,0.5, 0],\n",
    "                      mode='lines',\n",
    "                      marker=dict(color='black'),\n",
    "                      line=dict(width=0.1),\n",
    "                      showlegend=False,\n",
    "                      \n",
    "                      )\n",
    "                )\n",
    "\n",
    "fig.update_traces(\n",
    "    marker=dict(\n",
    "        size=12),\n",
    "    textposition='middle left')\n",
    "\n",
    "fig.update_layout(\n",
    "    legend_title=\"Type\",\n",
    "    legend_title_font_color=\"#545454\",\n",
    "    legend_title_font_size=18,\n",
    "    title_font_size=24,\n",
    "    annotations=[\n",
    "        dict(\n",
    "            x=0.87,\n",
    "            y=0.5,\n",
    "            xref=\"paper\",\n",
    "            yref=\"paper\",\n",
    "            text=\"\\u2192 Scenario \\u2192\",\n",
    "            showarrow=False,\n",
    "            font=dict(\n",
    "                size=18,\n",
    "            ),\n",
    "            textangle=60\n",
    "        ),\n",
    "        dict(\n",
    "            x=0.5,\n",
    "            y=0.035,\n",
    "            xref=\"paper\",\n",
    "            yref=\"paper\",\n",
    "            text=\"\\u2190 Model \\u2190\",\n",
    "            showarrow=False,\n",
    "            font=dict(\n",
    "                size=18,\n",
    "            ),\n",
    "            textangle=0\n",
    "        ),\n",
    "        dict(\n",
    "            x=0.15,\n",
    "            y=0.5,\n",
    "            xref=\"paper\",\n",
    "            yref=\"paper\",\n",
    "            text=\"\\u2192 Ambition \\u2192\",\n",
    "            showarrow=False,\n",
    "            font=dict(\n",
    "                size=18,\n",
    "            ),\n",
    "            textangle=-60\n",
    "        )\n",
    "\n",
    "    ]\n",
    ")\n",
    "\n",
    "fig.show()\n",
    "\n",
    "# Save the plot\n",
    "fig.write_image(\"Figure_14_Ternary_Plot_2060_full_labels_Scenario_Effects.png\")\n"
   ]
  },
  {
   "cell_type": "markdown",
   "metadata": {},
   "source": [
    "Figure 15: Ternary Plot – Focus on the Model Factor effects 2060"
   ]
  },
  {
   "cell_type": "code",
   "execution_count": 21,
   "metadata": {},
   "outputs": [
    {
     "name": "stderr",
     "output_type": "stream",
     "text": [
      "C:\\Users\\aalkhour\\AppData\\Local\\Temp\\ipykernel_25696\\246525499.py:38: SettingWithCopyWarning:\n",
      "\n",
      "\n",
      "A value is trying to be set on a copy of a slice from a DataFrame.\n",
      "Try using .loc[row_indexer,col_indexer] = value instead\n",
      "\n",
      "See the caveats in the documentation: https://pandas.pydata.org/pandas-docs/stable/user_guide/indexing.html#returning-a-view-versus-a-copy\n",
      "\n"
     ]
    },
    {
     "data": {
      "application/vnd.plotly.v1+json": {
       "config": {
        "plotlyServerURL": "https://plot.ly"
       },
       "data": [
        {
         "a": [
          0.23885845842960476,
          0.0801529175192103,
          0.4468739475930228
         ],
         "b": [
          0.6779521208162169,
          0.850105225093935,
          0.5068483791596154
         ],
         "c": [
          0.08318942075417828,
          0.06974185738685468,
          0.04627767324736177
         ],
         "hovertemplate": "<b>%{hovertext}</b><br><br>Type=Non-fossil<br>Year=2060<br>Ambition (100%)=%{a}<br>Model (100%)=%{b}<br>Scenario (100%)=%{c}<br>text=%{text}<extra></extra>",
         "hovertext": [
          "PE Wind",
          "Primary Energy Hydro",
          "Primary Energy Geothermal"
         ],
         "legendgroup": "Non-fossil",
         "marker": {
          "color": "#F8766D",
          "size": 12,
          "symbol": "star-dot"
         },
         "mode": "markers+text",
         "name": "Non-fossil",
         "showlegend": true,
         "subplot": "ternary",
         "text": [
          "PE Wind",
          "Primary Energy Hydro",
          "Primary Energy Geothermal"
         ],
         "textposition": "middle right",
         "type": "scatterternary"
        },
        {
         "a": [
          0.12886235810744542
         ],
         "b": [
          0.698505383099739
         ],
         "c": [
          0.17263225879281552
         ],
         "hovertemplate": "<b>%{hovertext}</b><br><br>Type=Fossil<br>Year=2060<br>Ambition (100%)=%{a}<br>Model (100%)=%{b}<br>Scenario (100%)=%{c}<br>text=%{text}<extra></extra>",
         "hovertext": [
          "Primary Energy Oil w CCS"
         ],
         "legendgroup": "Fossil",
         "marker": {
          "color": "#5D6D7E",
          "size": 12,
          "symbol": "x"
         },
         "mode": "markers+text",
         "name": "Fossil",
         "showlegend": true,
         "subplot": "ternary",
         "text": [
          "Primary Energy Oil w CCS"
         ],
         "textposition": "middle right",
         "type": "scatterternary"
        },
        {
         "a": [
          0.19062945796724326,
          0.00490848881021704,
          0.25427027226757937
         ],
         "b": [
          0.4381958445295443,
          0.9665375186952131,
          0.625296627839324
         ],
         "c": [
          0.3711746975032123,
          0.028553992494569868,
          0.1204330998930966
         ],
         "hovertemplate": "<b>%{hovertext}</b><br><br>Type=Final Energy<br>Year=2060<br>Ambition (100%)=%{a}<br>Model (100%)=%{b}<br>Scenario (100%)=%{c}<br>text=%{text}<extra></extra>",
         "hovertext": [
          "Final Energy Electricity",
          "Final Energy Heat",
          "FE Industry"
         ],
         "legendgroup": "Final Energy",
         "marker": {
          "color": "#52BE80",
          "size": 12,
          "symbol": "hexagon-dot"
         },
         "mode": "markers+text",
         "name": "Final Energy",
         "showlegend": true,
         "subplot": "ternary",
         "text": [
          "Final Energy Electricity",
          "Final Energy Heat",
          "FE Industry"
         ],
         "textposition": "middle right",
         "type": "scatterternary"
        },
        {
         "a": [
          0.19809613477765595
         ],
         "b": [
          0.5697346721319428
         ],
         "c": [
          0.23216919309040124
         ],
         "hovertemplate": "<b>%{hovertext}</b><br><br>Type=Emissions<br>Year=2060<br>Ambition (100%)=%{a}<br>Model (100%)=%{b}<br>Scenario (100%)=%{c}<br>text=%{text}<extra></extra>",
         "hovertext": [
          "Emissions CO2 Land Use"
         ],
         "legendgroup": "Emissions",
         "marker": {
          "color": "#C0392B",
          "size": 12,
          "symbol": "cross-dot"
         },
         "mode": "markers+text",
         "name": "Emissions",
         "showlegend": true,
         "subplot": "ternary",
         "text": [
          "Emissions CO2 Land Use"
         ],
         "textposition": "middle right",
         "type": "scatterternary"
        },
        {
         "a": [
          0.5,
          0.5,
          0.5,
          0.5,
          0,
          0.5
         ],
         "b": [
          0.5,
          0.5,
          0,
          0.5,
          0.5,
          0.5
         ],
         "c": [
          0,
          0.5,
          0.5,
          0.5,
          0.5,
          0.5
         ],
         "line": {
          "width": 0.1
         },
         "marker": {
          "color": "black",
          "size": 12
         },
         "mode": "lines",
         "showlegend": false,
         "textposition": "middle right",
         "type": "scatterternary"
        },
        {
         "a": [
          0.5,
          0,
          0.5,
          0.5,
          0,
          0.5
         ],
         "b": [
          0,
          0.5,
          0,
          0.5,
          0.5,
          0.5
         ],
         "c": [
          0.5,
          0.5,
          0.5,
          0,
          0.5,
          0
         ],
         "line": {
          "width": 0.1
         },
         "marker": {
          "color": "black",
          "size": 12
         },
         "mode": "lines",
         "showlegend": false,
         "textposition": "middle right",
         "type": "scatterternary"
        }
       ],
       "layout": {
        "annotations": [
         {
          "font": {
           "size": 18
          },
          "showarrow": false,
          "text": "→ Scenario →",
          "textangle": 60,
          "x": 0.87,
          "xref": "paper",
          "y": 0.5,
          "yref": "paper"
         },
         {
          "font": {
           "size": 18
          },
          "showarrow": false,
          "text": "← Model ←",
          "textangle": 0,
          "x": 0.5,
          "xref": "paper",
          "y": 0.035,
          "yref": "paper"
         },
         {
          "font": {
           "size": 18
          },
          "showarrow": false,
          "text": "→ Ambition →",
          "textangle": -60,
          "x": 0.15,
          "xref": "paper",
          "y": 0.5,
          "yref": "paper"
         }
        ],
        "height": 1200,
        "legend": {
         "title": {
          "font": {
           "color": "#545454",
           "size": 18
          },
          "text": "Type"
         },
         "tracegroupgap": 0
        },
        "template": {
         "data": {
          "bar": [
           {
            "error_x": {
             "color": "rgb(51,51,51)"
            },
            "error_y": {
             "color": "rgb(51,51,51)"
            },
            "marker": {
             "line": {
              "color": "rgb(237,237,237)",
              "width": 0.5
             },
             "pattern": {
              "fillmode": "overlay",
              "size": 10,
              "solidity": 0.2
             }
            },
            "type": "bar"
           }
          ],
          "barpolar": [
           {
            "marker": {
             "line": {
              "color": "rgb(237,237,237)",
              "width": 0.5
             },
             "pattern": {
              "fillmode": "overlay",
              "size": 10,
              "solidity": 0.2
             }
            },
            "type": "barpolar"
           }
          ],
          "carpet": [
           {
            "aaxis": {
             "endlinecolor": "rgb(51,51,51)",
             "gridcolor": "white",
             "linecolor": "white",
             "minorgridcolor": "white",
             "startlinecolor": "rgb(51,51,51)"
            },
            "baxis": {
             "endlinecolor": "rgb(51,51,51)",
             "gridcolor": "white",
             "linecolor": "white",
             "minorgridcolor": "white",
             "startlinecolor": "rgb(51,51,51)"
            },
            "type": "carpet"
           }
          ],
          "choropleth": [
           {
            "colorbar": {
             "outlinewidth": 0,
             "tickcolor": "rgb(237,237,237)",
             "ticklen": 6,
             "ticks": "inside"
            },
            "type": "choropleth"
           }
          ],
          "contour": [
           {
            "colorbar": {
             "outlinewidth": 0,
             "tickcolor": "rgb(237,237,237)",
             "ticklen": 6,
             "ticks": "inside"
            },
            "colorscale": [
             [
              0,
              "rgb(20,44,66)"
             ],
             [
              1,
              "rgb(90,179,244)"
             ]
            ],
            "type": "contour"
           }
          ],
          "contourcarpet": [
           {
            "colorbar": {
             "outlinewidth": 0,
             "tickcolor": "rgb(237,237,237)",
             "ticklen": 6,
             "ticks": "inside"
            },
            "type": "contourcarpet"
           }
          ],
          "heatmap": [
           {
            "colorbar": {
             "outlinewidth": 0,
             "tickcolor": "rgb(237,237,237)",
             "ticklen": 6,
             "ticks": "inside"
            },
            "colorscale": [
             [
              0,
              "rgb(20,44,66)"
             ],
             [
              1,
              "rgb(90,179,244)"
             ]
            ],
            "type": "heatmap"
           }
          ],
          "heatmapgl": [
           {
            "colorbar": {
             "outlinewidth": 0,
             "tickcolor": "rgb(237,237,237)",
             "ticklen": 6,
             "ticks": "inside"
            },
            "colorscale": [
             [
              0,
              "rgb(20,44,66)"
             ],
             [
              1,
              "rgb(90,179,244)"
             ]
            ],
            "type": "heatmapgl"
           }
          ],
          "histogram": [
           {
            "marker": {
             "pattern": {
              "fillmode": "overlay",
              "size": 10,
              "solidity": 0.2
             }
            },
            "type": "histogram"
           }
          ],
          "histogram2d": [
           {
            "colorbar": {
             "outlinewidth": 0,
             "tickcolor": "rgb(237,237,237)",
             "ticklen": 6,
             "ticks": "inside"
            },
            "colorscale": [
             [
              0,
              "rgb(20,44,66)"
             ],
             [
              1,
              "rgb(90,179,244)"
             ]
            ],
            "type": "histogram2d"
           }
          ],
          "histogram2dcontour": [
           {
            "colorbar": {
             "outlinewidth": 0,
             "tickcolor": "rgb(237,237,237)",
             "ticklen": 6,
             "ticks": "inside"
            },
            "colorscale": [
             [
              0,
              "rgb(20,44,66)"
             ],
             [
              1,
              "rgb(90,179,244)"
             ]
            ],
            "type": "histogram2dcontour"
           }
          ],
          "mesh3d": [
           {
            "colorbar": {
             "outlinewidth": 0,
             "tickcolor": "rgb(237,237,237)",
             "ticklen": 6,
             "ticks": "inside"
            },
            "type": "mesh3d"
           }
          ],
          "parcoords": [
           {
            "line": {
             "colorbar": {
              "outlinewidth": 0,
              "tickcolor": "rgb(237,237,237)",
              "ticklen": 6,
              "ticks": "inside"
             }
            },
            "type": "parcoords"
           }
          ],
          "pie": [
           {
            "automargin": true,
            "type": "pie"
           }
          ],
          "scatter": [
           {
            "fillpattern": {
             "fillmode": "overlay",
             "size": 10,
             "solidity": 0.2
            },
            "type": "scatter"
           }
          ],
          "scatter3d": [
           {
            "line": {
             "colorbar": {
              "outlinewidth": 0,
              "tickcolor": "rgb(237,237,237)",
              "ticklen": 6,
              "ticks": "inside"
             }
            },
            "marker": {
             "colorbar": {
              "outlinewidth": 0,
              "tickcolor": "rgb(237,237,237)",
              "ticklen": 6,
              "ticks": "inside"
             }
            },
            "type": "scatter3d"
           }
          ],
          "scattercarpet": [
           {
            "marker": {
             "colorbar": {
              "outlinewidth": 0,
              "tickcolor": "rgb(237,237,237)",
              "ticklen": 6,
              "ticks": "inside"
             }
            },
            "type": "scattercarpet"
           }
          ],
          "scattergeo": [
           {
            "marker": {
             "colorbar": {
              "outlinewidth": 0,
              "tickcolor": "rgb(237,237,237)",
              "ticklen": 6,
              "ticks": "inside"
             }
            },
            "type": "scattergeo"
           }
          ],
          "scattergl": [
           {
            "marker": {
             "colorbar": {
              "outlinewidth": 0,
              "tickcolor": "rgb(237,237,237)",
              "ticklen": 6,
              "ticks": "inside"
             }
            },
            "type": "scattergl"
           }
          ],
          "scattermapbox": [
           {
            "marker": {
             "colorbar": {
              "outlinewidth": 0,
              "tickcolor": "rgb(237,237,237)",
              "ticklen": 6,
              "ticks": "inside"
             }
            },
            "type": "scattermapbox"
           }
          ],
          "scatterpolar": [
           {
            "marker": {
             "colorbar": {
              "outlinewidth": 0,
              "tickcolor": "rgb(237,237,237)",
              "ticklen": 6,
              "ticks": "inside"
             }
            },
            "type": "scatterpolar"
           }
          ],
          "scatterpolargl": [
           {
            "marker": {
             "colorbar": {
              "outlinewidth": 0,
              "tickcolor": "rgb(237,237,237)",
              "ticklen": 6,
              "ticks": "inside"
             }
            },
            "type": "scatterpolargl"
           }
          ],
          "scatterternary": [
           {
            "marker": {
             "colorbar": {
              "outlinewidth": 0,
              "tickcolor": "rgb(237,237,237)",
              "ticklen": 6,
              "ticks": "inside"
             }
            },
            "type": "scatterternary"
           }
          ],
          "surface": [
           {
            "colorbar": {
             "outlinewidth": 0,
             "tickcolor": "rgb(237,237,237)",
             "ticklen": 6,
             "ticks": "inside"
            },
            "colorscale": [
             [
              0,
              "rgb(20,44,66)"
             ],
             [
              1,
              "rgb(90,179,244)"
             ]
            ],
            "type": "surface"
           }
          ],
          "table": [
           {
            "cells": {
             "fill": {
              "color": "rgb(237,237,237)"
             },
             "line": {
              "color": "white"
             }
            },
            "header": {
             "fill": {
              "color": "rgb(217,217,217)"
             },
             "line": {
              "color": "white"
             }
            },
            "type": "table"
           }
          ]
         },
         "layout": {
          "annotationdefaults": {
           "arrowhead": 0,
           "arrowwidth": 1
          },
          "autotypenumbers": "strict",
          "coloraxis": {
           "colorbar": {
            "outlinewidth": 0,
            "tickcolor": "rgb(237,237,237)",
            "ticklen": 6,
            "ticks": "inside"
           }
          },
          "colorscale": {
           "sequential": [
            [
             0,
             "rgb(20,44,66)"
            ],
            [
             1,
             "rgb(90,179,244)"
            ]
           ],
           "sequentialminus": [
            [
             0,
             "rgb(20,44,66)"
            ],
            [
             1,
             "rgb(90,179,244)"
            ]
           ]
          },
          "colorway": [
           "#F8766D",
           "#A3A500",
           "#00BF7D",
           "#00B0F6",
           "#E76BF3"
          ],
          "font": {
           "color": "rgb(51,51,51)"
          },
          "geo": {
           "bgcolor": "white",
           "lakecolor": "white",
           "landcolor": "rgb(237,237,237)",
           "showlakes": true,
           "showland": true,
           "subunitcolor": "white"
          },
          "hoverlabel": {
           "align": "left"
          },
          "hovermode": "closest",
          "paper_bgcolor": "white",
          "plot_bgcolor": "rgb(237,237,237)",
          "polar": {
           "angularaxis": {
            "gridcolor": "white",
            "linecolor": "white",
            "showgrid": true,
            "tickcolor": "rgb(51,51,51)",
            "ticks": "outside"
           },
           "bgcolor": "rgb(237,237,237)",
           "radialaxis": {
            "gridcolor": "white",
            "linecolor": "white",
            "showgrid": true,
            "tickcolor": "rgb(51,51,51)",
            "ticks": "outside"
           }
          },
          "scene": {
           "xaxis": {
            "backgroundcolor": "rgb(237,237,237)",
            "gridcolor": "white",
            "gridwidth": 2,
            "linecolor": "white",
            "showbackground": true,
            "showgrid": true,
            "tickcolor": "rgb(51,51,51)",
            "ticks": "outside",
            "zerolinecolor": "white"
           },
           "yaxis": {
            "backgroundcolor": "rgb(237,237,237)",
            "gridcolor": "white",
            "gridwidth": 2,
            "linecolor": "white",
            "showbackground": true,
            "showgrid": true,
            "tickcolor": "rgb(51,51,51)",
            "ticks": "outside",
            "zerolinecolor": "white"
           },
           "zaxis": {
            "backgroundcolor": "rgb(237,237,237)",
            "gridcolor": "white",
            "gridwidth": 2,
            "linecolor": "white",
            "showbackground": true,
            "showgrid": true,
            "tickcolor": "rgb(51,51,51)",
            "ticks": "outside",
            "zerolinecolor": "white"
           }
          },
          "shapedefaults": {
           "fillcolor": "black",
           "line": {
            "width": 0
           },
           "opacity": 0.3
          },
          "ternary": {
           "aaxis": {
            "gridcolor": "white",
            "linecolor": "white",
            "showgrid": true,
            "tickcolor": "rgb(51,51,51)",
            "ticks": "outside"
           },
           "baxis": {
            "gridcolor": "white",
            "linecolor": "white",
            "showgrid": true,
            "tickcolor": "rgb(51,51,51)",
            "ticks": "outside"
           },
           "bgcolor": "rgb(237,237,237)",
           "caxis": {
            "gridcolor": "white",
            "linecolor": "white",
            "showgrid": true,
            "tickcolor": "rgb(51,51,51)",
            "ticks": "outside"
           }
          },
          "xaxis": {
           "automargin": true,
           "gridcolor": "white",
           "linecolor": "white",
           "showgrid": true,
           "tickcolor": "rgb(51,51,51)",
           "ticks": "outside",
           "title": {
            "standoff": 15
           },
           "zerolinecolor": "white"
          },
          "yaxis": {
           "automargin": true,
           "gridcolor": "white",
           "linecolor": "white",
           "showgrid": true,
           "tickcolor": "rgb(51,51,51)",
           "ticks": "outside",
           "title": {
            "standoff": 15
           },
           "zerolinecolor": "white"
          }
         }
        },
        "ternary": {
         "aaxis": {
          "title": {
           "text": "Ambition (100%)"
          }
         },
         "baxis": {
          "title": {
           "text": "Model (100%)"
          }
         },
         "caxis": {
          "title": {
           "text": "Scenario (100%)"
          }
         },
         "domain": {
          "x": [
           0,
           1
          ],
          "y": [
           0,
           1
          ]
         }
        },
        "title": {
         "font": {
          "size": 24
         },
         "text": "Summary Ternary Plot - Model effects dominance - 2060"
        },
        "width": 1200
       }
      }
     },
     "metadata": {},
     "output_type": "display_data"
    }
   ],
   "source": [
    "# Figure 15: Ternary Plot for all variables 2060, focus on Model - cleaned version of the code to match the paper\n",
    "# Note: there is no full version of this plot as the labels are not too long for the plot to become unreadable\n",
    "\n",
    "# -----------\n",
    "# Setup the style parameters\n",
    "# -----------\n",
    "sns.set()\n",
    "sns.set_style(\"white\")\n",
    "plt.rcParams['figure.dpi']= 100\n",
    "plt.rcParams['figure.figsize'] = (20,6)\n",
    "plt.rc(\"savefig\", dpi=150)\n",
    "plt.rc(\"font\", size=14)\n",
    "\n",
    "# -----------\n",
    "# Choose columns to plot and filter the data accordingly\n",
    "# -----------\n",
    "cols = [ \n",
    "    'Variable',\n",
    "    'Year',\n",
    "    'R2_Amb_Shapley_norm',\n",
    "    'R2_Mod_Shapley_norm',\n",
    "    'R2_Scen_Shapley_norm',\n",
    "    'Type'\n",
    "    ]\n",
    "\n",
    "\n",
    "data = df_all[cols]\n",
    "\n",
    "# -----------\n",
    "# Rename the variables to be plotted for better readability\n",
    "# -----------\n",
    "var_name_replacements = {\n",
    "    'Primary Energy Wind': 'PE Wind',\n",
    "    'Final Energy Industry': 'FE Industry'\n",
    "}\n",
    "\n",
    "# Replace values in the \"Variable\" column using dictionary\n",
    "data['Variable'] = data['Variable'].replace(var_name_replacements)\n",
    "\n",
    "# -----------\n",
    "# Filter the data to show only the needed data points that highlight the Model effects dominance\n",
    "# -----------\n",
    "data = data.query('Year == 2060 and R2_Mod_Shapley_norm >= 0.35 and R2_Amb_Shapley_norm < 0.5 and R2_Scen_Shapley_norm < 0.5')\n",
    "\n",
    "# -----------\n",
    "# Plot the data\n",
    "# -----------\n",
    "fig = px.scatter_ternary(\n",
    "    data.query('Year ==2060'), \n",
    "    a=\"R2_Amb_Shapley_norm\", \n",
    "    b=\"R2_Mod_Shapley_norm\", \n",
    "    c=\"R2_Scen_Shapley_norm\",\n",
    "    symbol=\"Type\",\n",
    "    color='Type',\n",
    "    template= \"ggplot2\",\n",
    "    symbol_map={\"Emissions\":\"cross-dot\", 'Final Energy':'hexagon-dot',\"Fossil\":\"x\",\"Non-fossil\":\"star-dot\",\"Land\":\"square-x\"},\n",
    "    color_discrete_map={\"Emissions\":\"#C0392B\", \"Non-Fossil\":\"#F4D03F\", 'Final Energy':'#52BE80',\"Fossil\":\"#5D6D7E\",\"Land\":\"LightSkyBlue\"},\n",
    "    labels={\"R2_Amb_Shapley_norm\": \"Ambition (100%)\",\n",
    "            \"R2_Mod_Shapley_norm\": \"Model (100%)\",\n",
    "            \"R2_Scen_Shapley_norm\": \"Scenario (100%)\"},\n",
    "    title=\"Summary Ternary Plot - Model effects dominance - 2060\",\n",
    "    hover_name='Variable',\n",
    "    text= data['Variable'],\n",
    "    animation_frame='Year',\n",
    "    width=1200,\n",
    "    height=1200,\n",
    "    )\n",
    "\n",
    "# Lines connecting mid-point of each axis to mid-point of the plot\n",
    "fig.add_trace(\n",
    "    go.Scatterternary(a=[0.5, 0.5,0.5, 0.5,0, 0.5],\n",
    "                      b=[0.5, 0.5,0, 0.5,0.5, 0.5],\n",
    "                      c=[0, 0.5,0.5, 0.5,0.5, 0.5],\n",
    "                      mode='lines',\n",
    "                      marker=dict(color='black'),\n",
    "                      line=dict(width=0.1),\n",
    "                      showlegend=False,\n",
    "                      )\n",
    "                )\n",
    "\n",
    "# Lines connecting mid-points of all axes together\n",
    "fig.add_trace(\n",
    "    go.Scatterternary(a=[0.5, 0,0.5, 0.5,0, 0.5],\n",
    "                      b=[0, 0.5,0, 0.5,0.5, 0.5],\n",
    "                      c=[0.5, 0.5,0.5, 0,0.5, 0],\n",
    "                      mode='lines',\n",
    "                      marker=dict(color='black'),\n",
    "                      line=dict(width=0.1),\n",
    "                      showlegend=False,\n",
    "                      \n",
    "                      )\n",
    "                )\n",
    "\n",
    "fig.update_traces(\n",
    "    marker=dict(\n",
    "        size=12),\n",
    "    textposition='middle right',\n",
    "    )\n",
    "\n",
    "fig.update_layout(\n",
    "    legend_title=\"Type\",\n",
    "    legend_title_font_color=\"#545454\",\n",
    "    legend_title_font_size=18,\n",
    "    title_font_size=24,\n",
    "    annotations=[\n",
    "        dict(\n",
    "            x=0.87,\n",
    "            y=0.5,\n",
    "            xref=\"paper\",\n",
    "            yref=\"paper\",\n",
    "            text=\"\\u2192 Scenario \\u2192\",\n",
    "            showarrow=False,\n",
    "            font=dict(\n",
    "                size=18,\n",
    "            ),\n",
    "            textangle=60\n",
    "        ),\n",
    "        dict(\n",
    "            x=0.5,\n",
    "            y=0.035,\n",
    "            xref=\"paper\",\n",
    "            yref=\"paper\",\n",
    "            text=\"\\u2190 Model \\u2190\",\n",
    "            showarrow=False,\n",
    "            font=dict(\n",
    "                size=18,\n",
    "            ),\n",
    "            textangle=0\n",
    "        ),\n",
    "        dict(\n",
    "            x=0.15,\n",
    "            y=0.5,\n",
    "            xref=\"paper\",\n",
    "            yref=\"paper\",\n",
    "            text=\"\\u2192 Ambition \\u2192\",\n",
    "            showarrow=False,\n",
    "            font=dict(\n",
    "                size=18,\n",
    "            ),\n",
    "            textangle=-60\n",
    "        )\n",
    "\n",
    "    ]\n",
    ")\n",
    "\n",
    "\n",
    "fig.show()\n",
    "\n",
    "# Save the plot\n",
    "fig.write_image(\"Figure_15_Ternary_Plot_2060_Model_Effect.png\")\n"
   ]
  }
 ],
 "metadata": {
  "kernelspec": {
   "display_name": "message_env",
   "language": "python",
   "name": "python3"
  },
  "language_info": {
   "codemirror_mode": {
    "name": "ipython",
    "version": 3
   },
   "file_extension": ".py",
   "mimetype": "text/x-python",
   "name": "python",
   "nbconvert_exporter": "python",
   "pygments_lexer": "ipython3",
   "version": "3.10.8"
  },
  "orig_nbformat": 4,
  "vscode": {
   "interpreter": {
    "hash": "88767667b6ddc6728ea959201d56fcc71fc6855723d7b86af02592efc16815a8"
   }
  }
 },
 "nbformat": 4,
 "nbformat_minor": 2
}
